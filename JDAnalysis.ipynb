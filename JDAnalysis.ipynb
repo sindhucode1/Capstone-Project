{
 "cells": [
  {
   "cell_type": "markdown",
   "id": "9bb1afa1",
   "metadata": {},
   "source": [
    "Importing the packages required to study and analyse the data"
   ]
  },
  {
   "cell_type": "code",
   "execution_count": 1,
   "id": "46becb24",
   "metadata": {},
   "outputs": [
    {
     "data": {
      "text/plain": [
       "['SQL Server',\n",
       " 'SQL Server Native Client RDA 11.0',\n",
       " 'ODBC Driver 17 for SQL Server',\n",
       " 'Microsoft Access Driver (*.mdb, *.accdb)',\n",
       " 'Microsoft Excel Driver (*.xls, *.xlsx, *.xlsm, *.xlsb)',\n",
       " 'Microsoft Access Text Driver (*.txt, *.csv)']"
      ]
     },
     "execution_count": 1,
     "metadata": {},
     "output_type": "execute_result"
    }
   ],
   "source": [
    "import pandas as pd\n",
    "import numpy as np\n",
    "import datetime as dt\n",
    "import matplotlib.pyplot as plt\n",
    "import pyodbc\n",
    "dr=pyodbc.drivers();\n",
    "dr"
   ]
  },
  {
   "cell_type": "code",
   "execution_count": 2,
   "id": "2c0baf4f",
   "metadata": {},
   "outputs": [
    {
     "name": "stdout",
     "output_type": "stream",
     "text": [
      "List of databases:\n",
      "master\n",
      "tempdb\n",
      "model\n",
      "msdb\n",
      "madhuri\n"
     ]
    }
   ],
   "source": [
    "import pyodbc\n",
    "\n",
    "# Replace these with your actual SQL Server credentials\n",
    "server = \"MANU\"\n",
    "database = \"madhuri\"\n",
    "\n",
    "# Build the connection string\n",
    "connection_string = (\n",
    "    f\"DRIVER={{SQL Server}};\"\n",
    "    f\"SERVER={server};\"\n",
    "    f\"DATABASE={database};\"\n",
    ")\n",
    "\n",
    "try:\n",
    "    # Establish the connection\n",
    "    cnxn = pyodbc.connect(connection_string)\n",
    "\n",
    "    # Create a cursor from the connection\n",
    "    cursor = cnxn.cursor()\n",
    "\n",
    "    # Query to retrieve a list of databases\n",
    "    query = \"SELECT name FROM sys.databases\"\n",
    "\n",
    "    # Execute the query\n",
    "    cursor.execute(query)\n",
    "\n",
    "    # Fetch all the rows\n",
    "    rows = cursor.fetchall()\n",
    "\n",
    "    # Print the list of databases\n",
    "    print(\"List of databases:\")\n",
    "    for row in rows:\n",
    "        print(row[0])\n",
    "\n",
    "except Exception as e:\n",
    "    print(f\"Error: {str(e)}\")\n"
   ]
  },
  {
   "cell_type": "code",
   "execution_count": 3,
   "id": "187536a6",
   "metadata": {},
   "outputs": [],
   "source": [
    "import warnings\n",
    "warnings.filterwarnings('ignore')\n",
    "\n",
    "# Execute query and store results in a DataFrames\n",
    "delivery = pd.read_sql_query('SELECT * FROM JD_Delivery_Data', cnxn)\n",
    "user = pd.read_sql_query('SELECT * FROM JD_User_Data', cnxn)\n",
    "click = pd.read_sql_query('SELECT * FROM JD_Click_data', cnxn)\n",
    "Sku = pd.read_csv('C:/Users/msgme/Downloads/JD_sku_data.csv')\n",
    "order = pd.read_sql_query('SELECT * FROM JD_Order_data', cnxn)\n",
    "inventory =pd.read_sql_query('SELECT * FROM JD_Inventory_Data', cnxn)"
   ]
  },
  {
   "cell_type": "code",
   "execution_count": 4,
   "id": "c814fb2d",
   "metadata": {},
   "outputs": [],
   "source": [
    "# By default, when you run each cell, only the last output of the codes will show.\n",
    "# This code makes all outputs of a cell show.\n",
    "from IPython.core.interactiveshell import InteractiveShell\n",
    "InteractiveShell.ast_node_interactivity = \"all\""
   ]
  },
  {
   "cell_type": "markdown",
   "id": "89f212cd",
   "metadata": {},
   "source": [
    "Read the data files successfully"
   ]
  },
  {
   "cell_type": "markdown",
   "id": "e4b25c9e",
   "metadata": {},
   "source": [
    "# Data Cleaning\n",
    "## 1. Delivery Table"
   ]
  },
  {
   "cell_type": "code",
   "execution_count": 5,
   "id": "8d602589",
   "metadata": {},
   "outputs": [
    {
     "data": {
      "text/html": [
       "<div>\n",
       "<style scoped>\n",
       "    .dataframe tbody tr th:only-of-type {\n",
       "        vertical-align: middle;\n",
       "    }\n",
       "\n",
       "    .dataframe tbody tr th {\n",
       "        vertical-align: top;\n",
       "    }\n",
       "\n",
       "    .dataframe thead th {\n",
       "        text-align: right;\n",
       "    }\n",
       "</style>\n",
       "<table border=\"1\" class=\"dataframe\">\n",
       "  <thead>\n",
       "    <tr style=\"text-align: right;\">\n",
       "      <th></th>\n",
       "      <th>package_ID</th>\n",
       "      <th>order_ID</th>\n",
       "      <th>type</th>\n",
       "      <th>ship_out_time</th>\n",
       "      <th>arr_station_time</th>\n",
       "      <th>arr_time</th>\n",
       "    </tr>\n",
       "  </thead>\n",
       "  <tbody>\n",
       "    <tr>\n",
       "      <th>0</th>\n",
       "      <td>0000132b39</td>\n",
       "      <td>0000132b39</td>\n",
       "      <td>1</td>\n",
       "      <td>2018-03-13 20:00:00</td>\n",
       "      <td>2018-03-14 08:00:00</td>\n",
       "      <td>2018-03-14 15:00:00</td>\n",
       "    </tr>\n",
       "    <tr>\n",
       "      <th>1</th>\n",
       "      <td>000064fa67</td>\n",
       "      <td>000064fa67</td>\n",
       "      <td>1</td>\n",
       "      <td>2018-03-02 11:00:00</td>\n",
       "      <td>2018-03-02 16:00:00</td>\n",
       "      <td>2018-03-02 19:00:00</td>\n",
       "    </tr>\n",
       "    <tr>\n",
       "      <th>2</th>\n",
       "      <td>0000bde331</td>\n",
       "      <td>0000bde331</td>\n",
       "      <td>1</td>\n",
       "      <td>2018-03-17 16:00:00</td>\n",
       "      <td>2018-03-18 07:00:00</td>\n",
       "      <td>2018-03-18 12:00:00</td>\n",
       "    </tr>\n",
       "    <tr>\n",
       "      <th>3</th>\n",
       "      <td>00016f6069</td>\n",
       "      <td>00016f6069</td>\n",
       "      <td>1</td>\n",
       "      <td>2018-03-10 20:00:00</td>\n",
       "      <td>2018-03-11 13:00:00</td>\n",
       "      <td>2018-03-11 15:00:00</td>\n",
       "    </tr>\n",
       "    <tr>\n",
       "      <th>4</th>\n",
       "      <td>00019d59fd</td>\n",
       "      <td>00019d59fd</td>\n",
       "      <td>1</td>\n",
       "      <td>2018-03-30 23:00:00</td>\n",
       "      <td>2018-03-31 06:00:00</td>\n",
       "      <td>2018-03-31 09:00:00</td>\n",
       "    </tr>\n",
       "  </tbody>\n",
       "</table>\n",
       "</div>"
      ],
      "text/plain": [
       "   package_ID    order_ID  type       ship_out_time    arr_station_time  \\\n",
       "0  0000132b39  0000132b39     1 2018-03-13 20:00:00 2018-03-14 08:00:00   \n",
       "1  000064fa67  000064fa67     1 2018-03-02 11:00:00 2018-03-02 16:00:00   \n",
       "2  0000bde331  0000bde331     1 2018-03-17 16:00:00 2018-03-18 07:00:00   \n",
       "3  00016f6069  00016f6069     1 2018-03-10 20:00:00 2018-03-11 13:00:00   \n",
       "4  00019d59fd  00019d59fd     1 2018-03-30 23:00:00 2018-03-31 06:00:00   \n",
       "\n",
       "             arr_time  \n",
       "0 2018-03-14 15:00:00  \n",
       "1 2018-03-02 19:00:00  \n",
       "2 2018-03-18 12:00:00  \n",
       "3 2018-03-11 15:00:00  \n",
       "4 2018-03-31 09:00:00  "
      ]
     },
     "execution_count": 5,
     "metadata": {},
     "output_type": "execute_result"
    }
   ],
   "source": [
    "delivery.head()"
   ]
  },
  {
   "cell_type": "code",
   "execution_count": 6,
   "id": "8cdbffe9",
   "metadata": {},
   "outputs": [
    {
     "data": {
      "text/plain": [
       "(293229, 6)"
      ]
     },
     "execution_count": 6,
     "metadata": {},
     "output_type": "execute_result"
    }
   ],
   "source": [
    "delivery.shape"
   ]
  },
  {
   "cell_type": "code",
   "execution_count": 7,
   "id": "ac49276c",
   "metadata": {},
   "outputs": [
    {
     "data": {
      "text/plain": [
       "Index(['package_ID', 'order_ID', 'type', 'ship_out_time', 'arr_station_time',\n",
       "       'arr_time'],\n",
       "      dtype='object')"
      ]
     },
     "execution_count": 7,
     "metadata": {},
     "output_type": "execute_result"
    }
   ],
   "source": [
    "delivery.columns"
   ]
  },
  {
   "cell_type": "markdown",
   "id": "da5f72dd",
   "metadata": {},
   "source": [
    "Delivery dataset has 293229 records with 6 columns.\n",
    "It captures delivery information from shipment of order to delivery to customer.\n",
    "The column names of the dataset are displayed"
   ]
  },
  {
   "cell_type": "code",
   "execution_count": 8,
   "id": "060ae228",
   "metadata": {},
   "outputs": [
    {
     "data": {
      "text/plain": [
       "package_ID          0\n",
       "order_ID            0\n",
       "type                0\n",
       "ship_out_time       0\n",
       "arr_station_time    0\n",
       "arr_time            0\n",
       "dtype: int64"
      ]
     },
     "execution_count": 8,
     "metadata": {},
     "output_type": "execute_result"
    }
   ],
   "source": [
    "delivery.isnull().sum()"
   ]
  },
  {
   "cell_type": "markdown",
   "id": "0ca26afc",
   "metadata": {},
   "source": [
    "There are no null values in the dataset as the sum of null values is zero."
   ]
  },
  {
   "cell_type": "code",
   "execution_count": 9,
   "id": "4e549998",
   "metadata": {},
   "outputs": [
    {
     "data": {
      "text/plain": [
       "array([1, 0], dtype=int64)"
      ]
     },
     "execution_count": 9,
     "metadata": {},
     "output_type": "execute_result"
    }
   ],
   "source": [
    "delivery['type'].unique()"
   ]
  },
  {
   "cell_type": "code",
   "execution_count": 10,
   "id": "468cded1",
   "metadata": {},
   "outputs": [
    {
     "data": {
      "text/plain": [
       "1    244333\n",
       "0     48896\n",
       "Name: type, dtype: int64"
      ]
     },
     "execution_count": 10,
     "metadata": {},
     "output_type": "execute_result"
    }
   ],
   "source": [
    "delivery['type'].value_counts()"
   ]
  },
  {
   "cell_type": "markdown",
   "id": "689e8301",
   "metadata": {},
   "source": [
    "Checking the columns individually if they contain any null values other than the unique column values. Ignored the columns with ID details and time details as their unique value count is extreme. The type column have only two unique values which describes if the product is sold by JD.com (type 1) or Third party vendors (type 0)."
   ]
  },
  {
   "cell_type": "markdown",
   "id": "22101614",
   "metadata": {},
   "source": [
    "## 2. User Table"
   ]
  },
  {
   "cell_type": "code",
   "execution_count": 11,
   "id": "ae74e1ca",
   "metadata": {},
   "outputs": [
    {
     "name": "stdout",
     "output_type": "stream",
     "text": [
      "<class 'pandas.core.frame.DataFrame'>\n",
      "RangeIndex: 457298 entries, 0 to 457297\n",
      "Data columns (total 10 columns):\n",
      " #   Column          Non-Null Count   Dtype \n",
      "---  ------          --------------   ----- \n",
      " 0   user_ID         457298 non-null  object\n",
      " 1   user_level      457298 non-null  int64 \n",
      " 2   first_order     457298 non-null  object\n",
      " 3   plus            457298 non-null  int64 \n",
      " 4   gender          457298 non-null  object\n",
      " 5   age             457298 non-null  object\n",
      " 6   marital_status  457298 non-null  object\n",
      " 7   education       457298 non-null  int64 \n",
      " 8   city_level      457298 non-null  int64 \n",
      " 9   purchase_power  457298 non-null  int64 \n",
      "dtypes: int64(5), object(5)\n",
      "memory usage: 34.9+ MB\n"
     ]
    }
   ],
   "source": [
    "user.info()"
   ]
  },
  {
   "cell_type": "code",
   "execution_count": 12,
   "id": "2d89a285",
   "metadata": {},
   "outputs": [
    {
     "data": {
      "text/html": [
       "<div>\n",
       "<style scoped>\n",
       "    .dataframe tbody tr th:only-of-type {\n",
       "        vertical-align: middle;\n",
       "    }\n",
       "\n",
       "    .dataframe tbody tr th {\n",
       "        vertical-align: top;\n",
       "    }\n",
       "\n",
       "    .dataframe thead th {\n",
       "        text-align: right;\n",
       "    }\n",
       "</style>\n",
       "<table border=\"1\" class=\"dataframe\">\n",
       "  <thead>\n",
       "    <tr style=\"text-align: right;\">\n",
       "      <th></th>\n",
       "      <th>user_ID</th>\n",
       "      <th>user_level</th>\n",
       "      <th>first_order</th>\n",
       "      <th>plus</th>\n",
       "      <th>gender</th>\n",
       "      <th>age</th>\n",
       "      <th>marital_status</th>\n",
       "      <th>education</th>\n",
       "      <th>city_level</th>\n",
       "      <th>purchase_power</th>\n",
       "    </tr>\n",
       "  </thead>\n",
       "  <tbody>\n",
       "    <tr>\n",
       "      <th>0</th>\n",
       "      <td>000089d6a6</td>\n",
       "      <td>1</td>\n",
       "      <td>2017-08</td>\n",
       "      <td>0</td>\n",
       "      <td>F</td>\n",
       "      <td>26-35</td>\n",
       "      <td>S</td>\n",
       "      <td>3</td>\n",
       "      <td>4</td>\n",
       "      <td>3</td>\n",
       "    </tr>\n",
       "    <tr>\n",
       "      <th>1</th>\n",
       "      <td>0000babd1f</td>\n",
       "      <td>1</td>\n",
       "      <td>2018-03</td>\n",
       "      <td>0</td>\n",
       "      <td>U</td>\n",
       "      <td>U</td>\n",
       "      <td>U</td>\n",
       "      <td>-1</td>\n",
       "      <td>-1</td>\n",
       "      <td>-1</td>\n",
       "    </tr>\n",
       "    <tr>\n",
       "      <th>2</th>\n",
       "      <td>0000bc018b</td>\n",
       "      <td>3</td>\n",
       "      <td>2016-06</td>\n",
       "      <td>0</td>\n",
       "      <td>F</td>\n",
       "      <td>&gt;=56</td>\n",
       "      <td>M</td>\n",
       "      <td>3</td>\n",
       "      <td>2</td>\n",
       "      <td>3</td>\n",
       "    </tr>\n",
       "    <tr>\n",
       "      <th>3</th>\n",
       "      <td>0000d0e5ab</td>\n",
       "      <td>3</td>\n",
       "      <td>2014-06</td>\n",
       "      <td>0</td>\n",
       "      <td>M</td>\n",
       "      <td>26-35</td>\n",
       "      <td>M</td>\n",
       "      <td>3</td>\n",
       "      <td>2</td>\n",
       "      <td>2</td>\n",
       "    </tr>\n",
       "    <tr>\n",
       "      <th>4</th>\n",
       "      <td>0000dce472</td>\n",
       "      <td>3</td>\n",
       "      <td>2012-08</td>\n",
       "      <td>1</td>\n",
       "      <td>U</td>\n",
       "      <td>U</td>\n",
       "      <td>U</td>\n",
       "      <td>-1</td>\n",
       "      <td>-1</td>\n",
       "      <td>-1</td>\n",
       "    </tr>\n",
       "  </tbody>\n",
       "</table>\n",
       "</div>"
      ],
      "text/plain": [
       "      user_ID  user_level first_order  plus gender    age marital_status  \\\n",
       "0  000089d6a6           1     2017-08     0      F  26-35              S   \n",
       "1  0000babd1f           1     2018-03     0      U      U              U   \n",
       "2  0000bc018b           3     2016-06     0      F   >=56              M   \n",
       "3  0000d0e5ab           3     2014-06     0      M  26-35              M   \n",
       "4  0000dce472           3     2012-08     1      U      U              U   \n",
       "\n",
       "   education  city_level  purchase_power  \n",
       "0          3           4               3  \n",
       "1         -1          -1              -1  \n",
       "2          3           2               3  \n",
       "3          3           2               2  \n",
       "4         -1          -1              -1  "
      ]
     },
     "execution_count": 12,
     "metadata": {},
     "output_type": "execute_result"
    }
   ],
   "source": [
    "user.head()"
   ]
  },
  {
   "cell_type": "code",
   "execution_count": 13,
   "id": "775e485f",
   "metadata": {},
   "outputs": [
    {
     "data": {
      "text/plain": [
       "(457298, 10)"
      ]
     },
     "execution_count": 13,
     "metadata": {},
     "output_type": "execute_result"
    }
   ],
   "source": [
    "user.shape"
   ]
  },
  {
   "cell_type": "markdown",
   "id": "252e772d",
   "metadata": {},
   "source": [
    "This table has 4,57,298 unique users with their demographic data in ten columns"
   ]
  },
  {
   "cell_type": "code",
   "execution_count": 14,
   "id": "c14a639c",
   "metadata": {},
   "outputs": [
    {
     "data": {
      "text/plain": [
       "user_ID           0\n",
       "user_level        0\n",
       "first_order       0\n",
       "plus              0\n",
       "gender            0\n",
       "age               0\n",
       "marital_status    0\n",
       "education         0\n",
       "city_level        0\n",
       "purchase_power    0\n",
       "dtype: int64"
      ]
     },
     "execution_count": 14,
     "metadata": {},
     "output_type": "execute_result"
    }
   ],
   "source": [
    "user.isnull().sum()"
   ]
  },
  {
   "cell_type": "markdown",
   "id": "debe0cae",
   "metadata": {},
   "source": [
    "No Null values found in the users table of JD.com"
   ]
  },
  {
   "cell_type": "code",
   "execution_count": 15,
   "id": "c0b9b55d",
   "metadata": {},
   "outputs": [
    {
     "data": {
      "text/plain": [
       " 2     141859\n",
       " 1     129429\n",
       " 3      96802\n",
       " 4      85728\n",
       "-1       2303\n",
       " 10      1016\n",
       " 0        161\n",
       "Name: user_level, dtype: int64"
      ]
     },
     "execution_count": 15,
     "metadata": {},
     "output_type": "execute_result"
    }
   ],
   "source": [
    "user['user_level'].value_counts()"
   ]
  },
  {
   "cell_type": "markdown",
   "id": "00d319d9",
   "metadata": {},
   "source": [
    "Checking each column unique values to identify if any unknown parameters are present. There are no null values in user level."
   ]
  },
  {
   "cell_type": "code",
   "execution_count": 16,
   "id": "88052305",
   "metadata": {},
   "outputs": [
    {
     "data": {
      "text/plain": [
       "3    141859\n",
       "2    129429\n",
       "4     96802\n",
       "5     85728\n",
       "0      2303\n",
       "6      1016\n",
       "1       161\n",
       "Name: user_level, dtype: int64"
      ]
     },
     "execution_count": 16,
     "metadata": {},
     "output_type": "execute_result"
    }
   ],
   "source": [
    "user['user_level'] = user['user_level'].replace({10: 6})\n",
    "user['user_level'] = user['user_level'].replace({4: 5})\n",
    "user['user_level'] = user['user_level'].replace({3: 4})\n",
    "user['user_level'] = user['user_level'].replace({2: 3})\n",
    "user['user_level'] = user['user_level'].replace({1: 2})\n",
    "user['user_level'] = user['user_level'].replace({0: 1})\n",
    "user['user_level'] = user['user_level'].replace({-1: 0})\n",
    "user['user_level'].value_counts()"
   ]
  },
  {
   "cell_type": "markdown",
   "id": "88905b70",
   "metadata": {},
   "source": [
    "Arranged the values in categorial order from 0 to 6 as the lowest -1 represent first time buyer and number increases as purchases increase upto level 4 and value 10 represents vendors."
   ]
  },
  {
   "cell_type": "code",
   "execution_count": 17,
   "id": "d4c06806",
   "metadata": {},
   "outputs": [
    {
     "data": {
      "text/plain": [
       "array([0, 1], dtype=int64)"
      ]
     },
     "execution_count": 17,
     "metadata": {},
     "output_type": "execute_result"
    }
   ],
   "source": [
    "user['plus'].unique()"
   ]
  },
  {
   "cell_type": "markdown",
   "id": "13043df2",
   "metadata": {},
   "source": [
    "Unique values for plus column and gender column are observed. Gender have some unknown values."
   ]
  },
  {
   "cell_type": "code",
   "execution_count": 18,
   "id": "ec0c8887",
   "metadata": {},
   "outputs": [
    {
     "data": {
      "text/plain": [
       "F    292897\n",
       "M    107084\n",
       "U     57317\n",
       "Name: gender, dtype: int64"
      ]
     },
     "execution_count": 18,
     "metadata": {},
     "output_type": "execute_result"
    }
   ],
   "source": [
    "user['gender'].value_counts()"
   ]
  },
  {
   "cell_type": "code",
   "execution_count": 19,
   "id": "e69e7877",
   "metadata": {},
   "outputs": [
    {
     "data": {
      "text/plain": [
       "26-35    183239\n",
       "16-25    103306\n",
       "36-45     81076\n",
       "U         56457\n",
       "46-55     18679\n",
       ">=56      14517\n",
       "<=15         24\n",
       "Name: age, dtype: int64"
      ]
     },
     "execution_count": 19,
     "metadata": {},
     "output_type": "execute_result"
    }
   ],
   "source": [
    "user['age'].value_counts()"
   ]
  },
  {
   "cell_type": "code",
   "execution_count": 20,
   "id": "9508597f",
   "metadata": {},
   "outputs": [
    {
     "data": {
      "text/plain": [
       "M    183437\n",
       "S    179577\n",
       "U     94284\n",
       "Name: marital_status, dtype: int64"
      ]
     },
     "execution_count": 20,
     "metadata": {},
     "output_type": "execute_result"
    }
   ],
   "source": [
    "user['marital_status'].value_counts()"
   ]
  },
  {
   "cell_type": "markdown",
   "id": "f47aff20",
   "metadata": {},
   "source": [
    "To address unknown values and ensure the completeness of the dataset for analysis, the unknown values in the user features(Marital Status, Age, Gender) are imputed by random sampling technique. The probability of selecting each category was determined by its relative frequency in the dataset."
   ]
  },
  {
   "cell_type": "code",
   "execution_count": 21,
   "id": "0e69ac20",
   "metadata": {},
   "outputs": [],
   "source": [
    "# -1 represents unknown values\n",
    "user['education'] = user['education'].replace({-1 : 'U'})\n",
    "user['city_level'] = user['city_level'].replace({-1 : 'U'})\n",
    "user['purchase_power'] = user['purchase_power'].replace({-1 : 'U'})"
   ]
  },
  {
   "cell_type": "code",
   "execution_count": 22,
   "id": "ef997c84",
   "metadata": {},
   "outputs": [],
   "source": [
    "# List of features with unknown values\n",
    "features_with_unknown = ['marital_status', 'age', 'gender','education','city_level','purchase_power']\n",
    "\n",
    "iterations = 0\n",
    "while iterations < 10:\n",
    "    for feature in features_with_unknown:\n",
    "        category_prob = user[feature].value_counts(normalize=True)        \n",
    "        missing_indices = user[user[feature] == 'U'].index        \n",
    "        user.loc[missing_indices, feature] = np.random.choice(category_prob.index,\n",
    "                                                             size=len(missing_indices),\n",
    "                                                             p=category_prob.values)    \n",
    "    iterations += 1"
   ]
  },
  {
   "cell_type": "code",
   "execution_count": 23,
   "id": "44d2fcfb",
   "metadata": {},
   "outputs": [
    {
     "data": {
      "text/plain": [
       "3    287341\n",
       "2     97798\n",
       "4     61336\n",
       "1     10823\n",
       "Name: education, dtype: int64"
      ]
     },
     "execution_count": 23,
     "metadata": {},
     "output_type": "execute_result"
    }
   ],
   "source": [
    "user['education'].value_counts()"
   ]
  },
  {
   "cell_type": "code",
   "execution_count": 24,
   "id": "4a374882",
   "metadata": {},
   "outputs": [],
   "source": [
    "user['education'] = user['education'].replace({1 : 0})\n",
    "user['education'] = user['education'].replace({2 : 1})\n",
    "user['education'] = user['education'].replace({3 : 2})\n",
    "user['education'] = user['education'].replace({4 : 3})"
   ]
  },
  {
   "cell_type": "code",
   "execution_count": 25,
   "id": "5ab4594b",
   "metadata": {},
   "outputs": [
    {
     "data": {
      "text/plain": [
       "2    287341\n",
       "1     97798\n",
       "3     61336\n",
       "0     10823\n",
       "Name: education, dtype: int64"
      ]
     },
     "execution_count": 25,
     "metadata": {},
     "output_type": "execute_result"
    }
   ],
   "source": [
    "user['education'].value_counts()"
   ]
  },
  {
   "cell_type": "markdown",
   "id": "55b07af6",
   "metadata": {},
   "source": [
    "The values are assigned 0 to 3 in order. 0 represents lowest degree of education and 3 represents highest education level"
   ]
  },
  {
   "cell_type": "code",
   "execution_count": 26,
   "id": "5ecded40",
   "metadata": {},
   "outputs": [],
   "source": [
    "user['city_level'] = user['city_level'].replace({5 : 0})\n",
    "user['city_level'] = user['city_level'].replace({4 : 6})\n",
    "user['city_level'] = user['city_level'].replace({3 : 7})\n",
    "user['city_level'] = user['city_level'].replace({2 : 3})\n",
    "user['city_level'] = user['city_level'].replace({1 : 4})\n",
    "user['city_level'] = user['city_level'].replace({6 : 1})\n",
    "user['city_level'] = user['city_level'].replace({7 : 2})"
   ]
  },
  {
   "cell_type": "code",
   "execution_count": 27,
   "id": "50840c1e",
   "metadata": {},
   "outputs": [
    {
     "data": {
      "text/plain": [
       "3    170596\n",
       "4    119187\n",
       "2     85318\n",
       "1     75034\n",
       "0      7163\n",
       "Name: city_level, dtype: int64"
      ]
     },
     "execution_count": 27,
     "metadata": {},
     "output_type": "execute_result"
    }
   ],
   "source": [
    "user['city_level'].value_counts()"
   ]
  },
  {
   "cell_type": "markdown",
   "id": "9f5378aa",
   "metadata": {},
   "source": [
    "The values are assigned from 0 to 4 in order. 0 represents lowest level in city and 4 represents highest industrialized cities. city level 4 and 3 were temporarility parked in other value as they were overlaping with existing levels-1 and 2."
   ]
  },
  {
   "cell_type": "code",
   "execution_count": 28,
   "id": "a7c660d4",
   "metadata": {},
   "outputs": [],
   "source": [
    "user['purchase_power'] = user['purchase_power'].replace({1 : 0})\n",
    "user['purchase_power'] = user['purchase_power'].replace({2 : 1})\n",
    "user['purchase_power'] = user['purchase_power'].replace({3 : 2})\n",
    "user['purchase_power'] = user['purchase_power'].replace({4 : 3})\n",
    "user['purchase_power'] = user['purchase_power'].replace({5 : 4})"
   ]
  },
  {
   "cell_type": "code",
   "execution_count": 29,
   "id": "329ff5a2",
   "metadata": {},
   "outputs": [
    {
     "data": {
      "text/plain": [
       "1    306809\n",
       "2    125304\n",
       "3     13928\n",
       "0     11065\n",
       "4       192\n",
       "Name: purchase_power, dtype: int64"
      ]
     },
     "execution_count": 29,
     "metadata": {},
     "output_type": "execute_result"
    }
   ],
   "source": [
    "user['purchase_power'].value_counts()"
   ]
  },
  {
   "cell_type": "markdown",
   "id": "23e09506",
   "metadata": {},
   "source": [
    "The values are assigned from 0 to 3 in order. 0 represents users having lowest purchase power and 4 represents users with highest purchase power."
   ]
  },
  {
   "cell_type": "markdown",
   "id": "df30de45",
   "metadata": {},
   "source": [
    "## Insights from the customer segmentation analysis considering factors like gender, age, and JD plus members"
   ]
  },
  {
   "cell_type": "code",
   "execution_count": 30,
   "id": "429b37e0",
   "metadata": {},
   "outputs": [
    {
     "data": {
      "text/plain": [
       "<AxesSubplot:>"
      ]
     },
     "execution_count": 30,
     "metadata": {},
     "output_type": "execute_result"
    },
    {
     "data": {
      "text/plain": [
       "Text(0.5, 1.0, ' Distribution of user_level')"
      ]
     },
     "execution_count": 30,
     "metadata": {},
     "output_type": "execute_result"
    },
    {
     "data": {
      "text/plain": [
       "Text(0.5, 0, 'user_level')"
      ]
     },
     "execution_count": 30,
     "metadata": {},
     "output_type": "execute_result"
    },
    {
     "data": {
      "text/plain": [
       "[Text(0, 0, '0'),\n",
       " Text(1, 0, '1'),\n",
       " Text(2, 0, '2'),\n",
       " Text(3, 0, '3'),\n",
       " Text(4, 0, '4'),\n",
       " Text(5, 0, '5'),\n",
       " Text(6, 0, '6')]"
      ]
     },
     "execution_count": 30,
     "metadata": {},
     "output_type": "execute_result"
    },
    {
     "data": {
      "text/plain": [
       "Text(0, 0.5, 'Count')"
      ]
     },
     "execution_count": 30,
     "metadata": {},
     "output_type": "execute_result"
    },
    {
     "data": {
      "text/plain": [
       "<AxesSubplot:>"
      ]
     },
     "execution_count": 30,
     "metadata": {},
     "output_type": "execute_result"
    },
    {
     "data": {
      "text/plain": [
       "Text(0.5, 1.0, ' Distribution of plus')"
      ]
     },
     "execution_count": 30,
     "metadata": {},
     "output_type": "execute_result"
    },
    {
     "data": {
      "text/plain": [
       "Text(0.5, 0, 'plus')"
      ]
     },
     "execution_count": 30,
     "metadata": {},
     "output_type": "execute_result"
    },
    {
     "data": {
      "text/plain": [
       "[Text(0, 0, '0'), Text(1, 0, '1')]"
      ]
     },
     "execution_count": 30,
     "metadata": {},
     "output_type": "execute_result"
    },
    {
     "data": {
      "text/plain": [
       "Text(0, 0.5, 'Count')"
      ]
     },
     "execution_count": 30,
     "metadata": {},
     "output_type": "execute_result"
    },
    {
     "data": {
      "text/plain": [
       "<AxesSubplot:>"
      ]
     },
     "execution_count": 30,
     "metadata": {},
     "output_type": "execute_result"
    },
    {
     "data": {
      "text/plain": [
       "Text(0.5, 1.0, ' Distribution of gender')"
      ]
     },
     "execution_count": 30,
     "metadata": {},
     "output_type": "execute_result"
    },
    {
     "data": {
      "text/plain": [
       "Text(0.5, 0, 'gender')"
      ]
     },
     "execution_count": 30,
     "metadata": {},
     "output_type": "execute_result"
    },
    {
     "data": {
      "text/plain": [
       "[Text(0, 0, 'F'), Text(1, 0, 'M')]"
      ]
     },
     "execution_count": 30,
     "metadata": {},
     "output_type": "execute_result"
    },
    {
     "data": {
      "text/plain": [
       "Text(0, 0.5, 'Count')"
      ]
     },
     "execution_count": 30,
     "metadata": {},
     "output_type": "execute_result"
    },
    {
     "data": {
      "text/plain": [
       "<AxesSubplot:>"
      ]
     },
     "execution_count": 30,
     "metadata": {},
     "output_type": "execute_result"
    },
    {
     "data": {
      "text/plain": [
       "Text(0.5, 1.0, ' Distribution of age')"
      ]
     },
     "execution_count": 30,
     "metadata": {},
     "output_type": "execute_result"
    },
    {
     "data": {
      "text/plain": [
       "Text(0.5, 0, 'age')"
      ]
     },
     "execution_count": 30,
     "metadata": {},
     "output_type": "execute_result"
    },
    {
     "data": {
      "text/plain": [
       "[Text(0, 0, '16-25'),\n",
       " Text(1, 0, '26-35'),\n",
       " Text(2, 0, '36-45'),\n",
       " Text(3, 0, '46-55'),\n",
       " Text(4, 0, '<=15'),\n",
       " Text(5, 0, '>=56')]"
      ]
     },
     "execution_count": 30,
     "metadata": {},
     "output_type": "execute_result"
    },
    {
     "data": {
      "text/plain": [
       "Text(0, 0.5, 'Count')"
      ]
     },
     "execution_count": 30,
     "metadata": {},
     "output_type": "execute_result"
    },
    {
     "data": {
      "text/plain": [
       "<AxesSubplot:>"
      ]
     },
     "execution_count": 30,
     "metadata": {},
     "output_type": "execute_result"
    },
    {
     "data": {
      "text/plain": [
       "Text(0.5, 1.0, ' Distribution of marital_status')"
      ]
     },
     "execution_count": 30,
     "metadata": {},
     "output_type": "execute_result"
    },
    {
     "data": {
      "text/plain": [
       "Text(0.5, 0, 'marital_status')"
      ]
     },
     "execution_count": 30,
     "metadata": {},
     "output_type": "execute_result"
    },
    {
     "data": {
      "text/plain": [
       "[Text(0, 0, 'M'), Text(1, 0, 'S')]"
      ]
     },
     "execution_count": 30,
     "metadata": {},
     "output_type": "execute_result"
    },
    {
     "data": {
      "text/plain": [
       "Text(0, 0.5, 'Count')"
      ]
     },
     "execution_count": 30,
     "metadata": {},
     "output_type": "execute_result"
    },
    {
     "data": {
      "text/plain": [
       "<AxesSubplot:>"
      ]
     },
     "execution_count": 30,
     "metadata": {},
     "output_type": "execute_result"
    },
    {
     "data": {
      "text/plain": [
       "Text(0.5, 1.0, ' Distribution of education')"
      ]
     },
     "execution_count": 30,
     "metadata": {},
     "output_type": "execute_result"
    },
    {
     "data": {
      "text/plain": [
       "Text(0.5, 0, 'education')"
      ]
     },
     "execution_count": 30,
     "metadata": {},
     "output_type": "execute_result"
    },
    {
     "data": {
      "text/plain": [
       "[Text(0, 0, '0'), Text(1, 0, '1'), Text(2, 0, '2'), Text(3, 0, '3')]"
      ]
     },
     "execution_count": 30,
     "metadata": {},
     "output_type": "execute_result"
    },
    {
     "data": {
      "text/plain": [
       "Text(0, 0.5, 'Count')"
      ]
     },
     "execution_count": 30,
     "metadata": {},
     "output_type": "execute_result"
    },
    {
     "data": {
      "text/plain": [
       "<AxesSubplot:>"
      ]
     },
     "execution_count": 30,
     "metadata": {},
     "output_type": "execute_result"
    },
    {
     "data": {
      "text/plain": [
       "Text(0.5, 1.0, ' Distribution of city_level')"
      ]
     },
     "execution_count": 30,
     "metadata": {},
     "output_type": "execute_result"
    },
    {
     "data": {
      "text/plain": [
       "Text(0.5, 0, 'city_level')"
      ]
     },
     "execution_count": 30,
     "metadata": {},
     "output_type": "execute_result"
    },
    {
     "data": {
      "text/plain": [
       "[Text(0, 0, '0'),\n",
       " Text(1, 0, '1'),\n",
       " Text(2, 0, '2'),\n",
       " Text(3, 0, '3'),\n",
       " Text(4, 0, '4')]"
      ]
     },
     "execution_count": 30,
     "metadata": {},
     "output_type": "execute_result"
    },
    {
     "data": {
      "text/plain": [
       "Text(0, 0.5, 'Count')"
      ]
     },
     "execution_count": 30,
     "metadata": {},
     "output_type": "execute_result"
    },
    {
     "data": {
      "text/plain": [
       "<AxesSubplot:>"
      ]
     },
     "execution_count": 30,
     "metadata": {},
     "output_type": "execute_result"
    },
    {
     "data": {
      "text/plain": [
       "Text(0.5, 1.0, ' Distribution of purchase_power')"
      ]
     },
     "execution_count": 30,
     "metadata": {},
     "output_type": "execute_result"
    },
    {
     "data": {
      "text/plain": [
       "Text(0.5, 0, 'purchase_power')"
      ]
     },
     "execution_count": 30,
     "metadata": {},
     "output_type": "execute_result"
    },
    {
     "data": {
      "text/plain": [
       "[Text(0, 0, '0'),\n",
       " Text(1, 0, '1'),\n",
       " Text(2, 0, '2'),\n",
       " Text(3, 0, '3'),\n",
       " Text(4, 0, '4')]"
      ]
     },
     "execution_count": 30,
     "metadata": {},
     "output_type": "execute_result"
    },
    {
     "data": {
      "text/plain": [
       "Text(0, 0.5, 'Count')"
      ]
     },
     "execution_count": 30,
     "metadata": {},
     "output_type": "execute_result"
    },
    {
     "data": {
      "image/png": "[encoded data removed]",
      "text/plain": [
       "<Figure size 720x2304 with 8 Axes>"
      ]
     },
     "metadata": {
      "needs_background": "light"
     },
     "output_type": "display_data"
    }
   ],
   "source": [
    "import matplotlib.pyplot as plt\n",
    "categorical_columns = ['user_level', 'plus', 'gender', 'age', 'marital_status', 'education', 'city_level', 'purchase_power']\n",
    "fig, axes = plt.subplots(nrows=len(categorical_columns), ncols=1, figsize=(10, 4 * len(categorical_columns)))\n",
    "\n",
    "for i, column in enumerate(categorical_columns):\n",
    "    ax = axes[i]\n",
    "    user[column].value_counts().sort_index().plot(kind='bar', ax=ax)\n",
    "    ax.set_title(f' Distribution of {column}')\n",
    "    ax.set_xlabel(column)\n",
    "    ax.set_xticklabels(ax.get_xticklabels(), rotation=0)\n",
    "    ax.set_ylabel('Count')\n",
    "\n",
    "plt.subplots_adjust(hspace=0.5)  \n",
    "plt.tight_layout()\n",
    "plt.show()"
   ]
  },
  {
   "cell_type": "markdown",
   "id": "8c132511",
   "metadata": {},
   "source": [
    "Plotted few graphs to study each column values. Education level-3 is the majority which means most users have Bachelor’s degree The age group of 26-35 years are the largest portion of users. Additionally, female customers outnumber males."
   ]
  },
  {
   "cell_type": "code",
   "execution_count": 31,
   "id": "76b5c83a",
   "metadata": {},
   "outputs": [],
   "source": [
    "user['age'] = user['age'].replace({'>=56' : 5})\n",
    "user['age'] = user['age'].replace({'46-55' : 4})\n",
    "user['age'] = user['age'].replace({'36-45' : 3})\n",
    "user['age'] = user['age'].replace({'26-35' : 2})\n",
    "user['age'] = user['age'].replace({'16-25' : 1})\n",
    "user['age'] = user['age'].replace({'<=15' : 0})"
   ]
  },
  {
   "cell_type": "code",
   "execution_count": 32,
   "id": "b2afacce",
   "metadata": {},
   "outputs": [
    {
     "data": {
      "text/plain": [
       "2    208907\n",
       "1    117940\n",
       "3     92530\n",
       "4     21272\n",
       "5     16619\n",
       "0        30\n",
       "Name: age, dtype: int64"
      ]
     },
     "execution_count": 32,
     "metadata": {},
     "output_type": "execute_result"
    }
   ],
   "source": [
    "user['age'].value_counts()"
   ]
  },
  {
   "cell_type": "markdown",
   "id": "dfdbd52d",
   "metadata": {},
   "source": [
    "The string values are converted to numeric values according to their order. 0 is assigned to youngest age group and 5 to the oldest user age group"
   ]
  },
  {
   "cell_type": "code",
   "execution_count": 33,
   "id": "c2c0ce3b",
   "metadata": {},
   "outputs": [],
   "source": [
    "user['gender'] = user['gender'].replace({'F': 1})\n",
    "user['gender'] = user['gender'].replace({'M': 0})"
   ]
  },
  {
   "cell_type": "code",
   "execution_count": 34,
   "id": "c3ea201c",
   "metadata": {},
   "outputs": [
    {
     "data": {
      "text/plain": [
       "1    334905\n",
       "0    122393\n",
       "Name: gender, dtype: int64"
      ]
     },
     "execution_count": 34,
     "metadata": {},
     "output_type": "execute_result"
    }
   ],
   "source": [
    "user['gender'].value_counts()"
   ]
  },
  {
   "cell_type": "code",
   "execution_count": 35,
   "id": "fec8c8cc",
   "metadata": {},
   "outputs": [],
   "source": [
    "user['marital_status'] = user['marital_status'].replace({'M' : 1})\n",
    "user['marital_status'] = user['marital_status'].replace({'S' : 0})"
   ]
  },
  {
   "cell_type": "code",
   "execution_count": 36,
   "id": "11f7e56b",
   "metadata": {},
   "outputs": [
    {
     "data": {
      "text/plain": [
       "1    231222\n",
       "0    226076\n",
       "Name: marital_status, dtype: int64"
      ]
     },
     "execution_count": 36,
     "metadata": {},
     "output_type": "execute_result"
    }
   ],
   "source": [
    "user['marital_status'].value_counts()"
   ]
  },
  {
   "cell_type": "markdown",
   "id": "495fb428",
   "metadata": {},
   "source": [
    "## 3. Click Table\n",
    "Click table establishes the connection between users and SKUs through thier browsing history.\n",
    "Each record in the click table represents the users click event."
   ]
  },
  {
   "cell_type": "code",
   "execution_count": 37,
   "id": "456b21f2",
   "metadata": {},
   "outputs": [
    {
     "data": {
      "text/html": [
       "<div>\n",
       "<style scoped>\n",
       "    .dataframe tbody tr th:only-of-type {\n",
       "        vertical-align: middle;\n",
       "    }\n",
       "\n",
       "    .dataframe tbody tr th {\n",
       "        vertical-align: top;\n",
       "    }\n",
       "\n",
       "    .dataframe thead th {\n",
       "        text-align: right;\n",
       "    }\n",
       "</style>\n",
       "<table border=\"1\" class=\"dataframe\">\n",
       "  <thead>\n",
       "    <tr style=\"text-align: right;\">\n",
       "      <th></th>\n",
       "      <th>sku_ID</th>\n",
       "      <th>user_ID</th>\n",
       "      <th>request_time</th>\n",
       "      <th>channel</th>\n",
       "    </tr>\n",
       "  </thead>\n",
       "  <tbody>\n",
       "    <tr>\n",
       "      <th>0</th>\n",
       "      <td>c4858d9437</td>\n",
       "      <td>b1775e149d</td>\n",
       "      <td>2018-03-01 23:45:13</td>\n",
       "      <td>app</td>\n",
       "    </tr>\n",
       "    <tr>\n",
       "      <th>1</th>\n",
       "      <td>c4858d9437</td>\n",
       "      <td>b1775e149d</td>\n",
       "      <td>2018-03-01 23:46:19</td>\n",
       "      <td>app</td>\n",
       "    </tr>\n",
       "    <tr>\n",
       "      <th>2</th>\n",
       "      <td>c4858d9437</td>\n",
       "      <td>b1775e149d</td>\n",
       "      <td>2018-03-01 23:46:06</td>\n",
       "      <td>app</td>\n",
       "    </tr>\n",
       "    <tr>\n",
       "      <th>3</th>\n",
       "      <td>c4858d9437</td>\n",
       "      <td>ce1bfb8c5f</td>\n",
       "      <td>2018-03-01 23:47:45</td>\n",
       "      <td>app</td>\n",
       "    </tr>\n",
       "    <tr>\n",
       "      <th>4</th>\n",
       "      <td>c4858d9437</td>\n",
       "      <td>ce1bfb8c5f</td>\n",
       "      <td>2018-03-01 23:48:01</td>\n",
       "      <td>app</td>\n",
       "    </tr>\n",
       "  </tbody>\n",
       "</table>\n",
       "</div>"
      ],
      "text/plain": [
       "       sku_ID     user_ID        request_time channel\n",
       "0  c4858d9437  b1775e149d 2018-03-01 23:45:13     app\n",
       "1  c4858d9437  b1775e149d 2018-03-01 23:46:19     app\n",
       "2  c4858d9437  b1775e149d 2018-03-01 23:46:06     app\n",
       "3  c4858d9437  ce1bfb8c5f 2018-03-01 23:47:45     app\n",
       "4  c4858d9437  ce1bfb8c5f 2018-03-01 23:48:01     app"
      ]
     },
     "execution_count": 37,
     "metadata": {},
     "output_type": "execute_result"
    }
   ],
   "source": [
    "click.head(5)"
   ]
  },
  {
   "cell_type": "code",
   "execution_count": 38,
   "id": "ad6f26a6",
   "metadata": {},
   "outputs": [
    {
     "data": {
      "text/plain": [
       "sku_ID                  object\n",
       "user_ID                 object\n",
       "request_time    datetime64[ns]\n",
       "channel                 object\n",
       "dtype: object"
      ]
     },
     "execution_count": 38,
     "metadata": {},
     "output_type": "execute_result"
    }
   ],
   "source": [
    "click.dtypes"
   ]
  },
  {
   "cell_type": "markdown",
   "id": "cf086eb5",
   "metadata": {},
   "source": [
    "There are 4 colmuns in click table.\n",
    " Sku_ID:        unique SKU identification code    \n",
    " user_ID:       unique user identification code\n",
    " request_time:  Date and time when customer clicks SKU item page\n",
    " channel:       Differnt click channel\n",
    " The columns are of object datatypes."
   ]
  },
  {
   "cell_type": "code",
   "execution_count": 39,
   "id": "f8843926",
   "metadata": {},
   "outputs": [
    {
     "data": {
      "text/plain": [
       "(19727248, 4)"
      ]
     },
     "execution_count": 39,
     "metadata": {},
     "output_type": "execute_result"
    }
   ],
   "source": [
    "click.shape"
   ]
  },
  {
   "cell_type": "markdown",
   "id": "94b0217b",
   "metadata": {},
   "source": [
    "There are 20214515 records with 4 rows in the click table"
   ]
  },
  {
   "cell_type": "code",
   "execution_count": 40,
   "id": "bc2e4163",
   "metadata": {},
   "outputs": [
    {
     "data": {
      "text/plain": [
       "sku_ID                  object\n",
       "user_ID                 object\n",
       "request_time    datetime64[ns]\n",
       "channel                 string\n",
       "dtype: object"
      ]
     },
     "execution_count": 40,
     "metadata": {},
     "output_type": "execute_result"
    }
   ],
   "source": [
    "click['channel'] = click['channel'].astype('string')\n",
    "click.dtypes"
   ]
  },
  {
   "cell_type": "markdown",
   "id": "0da90292",
   "metadata": {},
   "source": [
    "Datatype of channel column is changed to string datatype."
   ]
  },
  {
   "cell_type": "code",
   "execution_count": 41,
   "id": "a8b934f9",
   "metadata": {},
   "outputs": [
    {
     "data": {
      "text/plain": [
       "sku_ID                  object\n",
       "user_ID                 object\n",
       "request_time    datetime64[ns]\n",
       "channel                 string\n",
       "dtype: object"
      ]
     },
     "execution_count": 41,
     "metadata": {},
     "output_type": "execute_result"
    }
   ],
   "source": [
    "click['request_time'] = pd.to_datetime(click['request_time'])\n",
    "click.dtypes"
   ]
  },
  {
   "cell_type": "markdown",
   "id": "adff3525",
   "metadata": {},
   "source": [
    "converted request_time datatype to datetime for further processing"
   ]
  },
  {
   "cell_type": "code",
   "execution_count": 42,
   "id": "c300573e",
   "metadata": {},
   "outputs": [],
   "source": [
    "date = click['request_time'].dt.date\n",
    "time = click['request_time'].dt.time\n",
    "click.loc[:, 'request_date'] = date\n",
    "click.loc[:, 'request_time'] = time"
   ]
  },
  {
   "cell_type": "markdown",
   "id": "2142de21",
   "metadata": {},
   "source": [
    "Added new column 'request_time' and 'request_date' for easy data analysis process"
   ]
  },
  {
   "cell_type": "code",
   "execution_count": 43,
   "id": "c36a80bb",
   "metadata": {},
   "outputs": [
    {
     "data": {
      "text/html": [
       "<div>\n",
       "<style scoped>\n",
       "    .dataframe tbody tr th:only-of-type {\n",
       "        vertical-align: middle;\n",
       "    }\n",
       "\n",
       "    .dataframe tbody tr th {\n",
       "        vertical-align: top;\n",
       "    }\n",
       "\n",
       "    .dataframe thead th {\n",
       "        text-align: right;\n",
       "    }\n",
       "</style>\n",
       "<table border=\"1\" class=\"dataframe\">\n",
       "  <thead>\n",
       "    <tr style=\"text-align: right;\">\n",
       "      <th></th>\n",
       "      <th>sku_ID</th>\n",
       "      <th>user_ID</th>\n",
       "      <th>request_time</th>\n",
       "      <th>channel</th>\n",
       "      <th>request_date</th>\n",
       "    </tr>\n",
       "  </thead>\n",
       "  <tbody>\n",
       "    <tr>\n",
       "      <th>0</th>\n",
       "      <td>c4858d9437</td>\n",
       "      <td>b1775e149d</td>\n",
       "      <td>23:45:13</td>\n",
       "      <td>app</td>\n",
       "      <td>2018-03-01</td>\n",
       "    </tr>\n",
       "    <tr>\n",
       "      <th>1</th>\n",
       "      <td>c4858d9437</td>\n",
       "      <td>b1775e149d</td>\n",
       "      <td>23:46:19</td>\n",
       "      <td>app</td>\n",
       "      <td>2018-03-01</td>\n",
       "    </tr>\n",
       "    <tr>\n",
       "      <th>2</th>\n",
       "      <td>c4858d9437</td>\n",
       "      <td>b1775e149d</td>\n",
       "      <td>23:46:06</td>\n",
       "      <td>app</td>\n",
       "      <td>2018-03-01</td>\n",
       "    </tr>\n",
       "    <tr>\n",
       "      <th>3</th>\n",
       "      <td>c4858d9437</td>\n",
       "      <td>ce1bfb8c5f</td>\n",
       "      <td>23:47:45</td>\n",
       "      <td>app</td>\n",
       "      <td>2018-03-01</td>\n",
       "    </tr>\n",
       "    <tr>\n",
       "      <th>4</th>\n",
       "      <td>c4858d9437</td>\n",
       "      <td>ce1bfb8c5f</td>\n",
       "      <td>23:48:01</td>\n",
       "      <td>app</td>\n",
       "      <td>2018-03-01</td>\n",
       "    </tr>\n",
       "  </tbody>\n",
       "</table>\n",
       "</div>"
      ],
      "text/plain": [
       "       sku_ID     user_ID request_time channel request_date\n",
       "0  c4858d9437  b1775e149d     23:45:13     app   2018-03-01\n",
       "1  c4858d9437  b1775e149d     23:46:19     app   2018-03-01\n",
       "2  c4858d9437  b1775e149d     23:46:06     app   2018-03-01\n",
       "3  c4858d9437  ce1bfb8c5f     23:47:45     app   2018-03-01\n",
       "4  c4858d9437  ce1bfb8c5f     23:48:01     app   2018-03-01"
      ]
     },
     "execution_count": 43,
     "metadata": {},
     "output_type": "execute_result"
    }
   ],
   "source": [
    "click.head()"
   ]
  },
  {
   "cell_type": "markdown",
   "id": "ad47db17",
   "metadata": {},
   "source": [
    "Checked if new colmuns added in the click table"
   ]
  },
  {
   "cell_type": "code",
   "execution_count": 44,
   "id": "dea294e5",
   "metadata": {},
   "outputs": [
    {
     "data": {
      "text/plain": [
       "sku_ID          0\n",
       "user_ID         0\n",
       "request_time    0\n",
       "channel         0\n",
       "request_date    0\n",
       "dtype: int64"
      ]
     },
     "execution_count": 44,
     "metadata": {},
     "output_type": "execute_result"
    }
   ],
   "source": [
    "click.isnull().sum()"
   ]
  },
  {
   "cell_type": "markdown",
   "id": "509c7830",
   "metadata": {},
   "source": [
    "Checked if any null values present in the dataset. No missing values found."
   ]
  },
  {
   "cell_type": "code",
   "execution_count": 45,
   "id": "62c60057",
   "metadata": {},
   "outputs": [
    {
     "data": {
      "text/plain": [
       "sku_ID\n",
       "000161cd1b        9\n",
       "00078c2a0f        9\n",
       "0009ac56b7        9\n",
       "000aa92b82      654\n",
       "000d4af39d      216\n",
       "              ...  \n",
       "fff84ed7ec      656\n",
       "fffaaabb99      307\n",
       "fffe1bd280    27292\n",
       "fffe6eb4df      904\n",
       "ffffd456aa        6\n",
       "Length: 31867, dtype: int64"
      ]
     },
     "execution_count": 45,
     "metadata": {},
     "output_type": "execute_result"
    }
   ],
   "source": [
    "click.pivot_table(index=['sku_ID'], aggfunc='size')"
   ]
  },
  {
   "cell_type": "markdown",
   "id": "b87d9609",
   "metadata": {},
   "source": [
    "Above pivot table shows multiple count for SKU_id which refers to the number of times the product is viewed."
   ]
  },
  {
   "cell_type": "code",
   "execution_count": 46,
   "id": "f1c5e048",
   "metadata": {},
   "outputs": [
    {
     "data": {
      "text/plain": [
       "user_ID\n",
       "-             2222364\n",
       "00000e0594          3\n",
       "000014394e          3\n",
       "00001dce11          1\n",
       "00002a195f          8\n",
       "               ...   \n",
       "ffffce5cf6          6\n",
       "ffffd8f6b3          1\n",
       "ffffe74cfb          1\n",
       "fffff395f3          7\n",
       "fffffa3a9d          8\n",
       "Length: 2557837, dtype: int64"
      ]
     },
     "execution_count": 46,
     "metadata": {},
     "output_type": "execute_result"
    }
   ],
   "source": [
    "click.pivot_table(index=['user_ID'], aggfunc='size')"
   ]
  },
  {
   "cell_type": "markdown",
   "id": "21858753",
   "metadata": {},
   "source": [
    "Above pivot tables shows number of times users have visited JD.com"
   ]
  },
  {
   "cell_type": "markdown",
   "id": "fbc94368",
   "metadata": {},
   "source": [
    "## 4. SKU Table"
   ]
  },
  {
   "cell_type": "code",
   "execution_count": 47,
   "id": "902208cc",
   "metadata": {},
   "outputs": [
    {
     "data": {
      "text/html": [
       "<div>\n",
       "<style scoped>\n",
       "    .dataframe tbody tr th:only-of-type {\n",
       "        vertical-align: middle;\n",
       "    }\n",
       "\n",
       "    .dataframe tbody tr th {\n",
       "        vertical-align: top;\n",
       "    }\n",
       "\n",
       "    .dataframe thead th {\n",
       "        text-align: right;\n",
       "    }\n",
       "</style>\n",
       "<table border=\"1\" class=\"dataframe\">\n",
       "  <thead>\n",
       "    <tr style=\"text-align: right;\">\n",
       "      <th></th>\n",
       "      <th>sku_ID</th>\n",
       "      <th>type</th>\n",
       "      <th>brand_ID</th>\n",
       "      <th>attribute1</th>\n",
       "      <th>attribute2</th>\n",
       "      <th>activate_date</th>\n",
       "      <th>deactivate_date</th>\n",
       "      <th>rating</th>\n",
       "    </tr>\n",
       "  </thead>\n",
       "  <tbody>\n",
       "    <tr>\n",
       "      <th>0</th>\n",
       "      <td>a234e08c57</td>\n",
       "      <td>1</td>\n",
       "      <td>c3ab4bf4d9</td>\n",
       "      <td>3</td>\n",
       "      <td>60</td>\n",
       "      <td>NaN</td>\n",
       "      <td>NaN</td>\n",
       "      <td>3</td>\n",
       "    </tr>\n",
       "    <tr>\n",
       "      <th>1</th>\n",
       "      <td>6449e1fd87</td>\n",
       "      <td>1</td>\n",
       "      <td>1d8b4b4c63</td>\n",
       "      <td>2</td>\n",
       "      <td>50</td>\n",
       "      <td>NaN</td>\n",
       "      <td>NaN</td>\n",
       "      <td>2</td>\n",
       "    </tr>\n",
       "    <tr>\n",
       "      <th>2</th>\n",
       "      <td>09b70fcd83</td>\n",
       "      <td>2</td>\n",
       "      <td>eb7d2a675a</td>\n",
       "      <td>3</td>\n",
       "      <td>70</td>\n",
       "      <td>NaN</td>\n",
       "      <td>NaN</td>\n",
       "      <td>2</td>\n",
       "    </tr>\n",
       "    <tr>\n",
       "      <th>3</th>\n",
       "      <td>acad9fed04</td>\n",
       "      <td>2</td>\n",
       "      <td>9b0d3a5fc6</td>\n",
       "      <td>3</td>\n",
       "      <td>70</td>\n",
       "      <td>NaN</td>\n",
       "      <td>NaN</td>\n",
       "      <td>5</td>\n",
       "    </tr>\n",
       "    <tr>\n",
       "      <th>4</th>\n",
       "      <td>2fa77e3b4d</td>\n",
       "      <td>2</td>\n",
       "      <td>b681299668</td>\n",
       "      <td>-</td>\n",
       "      <td>-</td>\n",
       "      <td>NaN</td>\n",
       "      <td>NaN</td>\n",
       "      <td>4</td>\n",
       "    </tr>\n",
       "  </tbody>\n",
       "</table>\n",
       "</div>"
      ],
      "text/plain": [
       "       sku_ID  type    brand_ID attribute1 attribute2 activate_date  \\\n",
       "0  a234e08c57     1  c3ab4bf4d9          3         60           NaN   \n",
       "1  6449e1fd87     1  1d8b4b4c63          2         50           NaN   \n",
       "2  09b70fcd83     2  eb7d2a675a          3         70           NaN   \n",
       "3  acad9fed04     2  9b0d3a5fc6          3         70           NaN   \n",
       "4  2fa77e3b4d     2  b681299668          -          -           NaN   \n",
       "\n",
       "  deactivate_date  rating  \n",
       "0             NaN       3  \n",
       "1             NaN       2  \n",
       "2             NaN       2  \n",
       "3             NaN       5  \n",
       "4             NaN       4  "
      ]
     },
     "execution_count": 47,
     "metadata": {},
     "output_type": "execute_result"
    }
   ],
   "source": [
    "Sku.head(5)"
   ]
  },
  {
   "cell_type": "code",
   "execution_count": 48,
   "id": "da7fdd1b",
   "metadata": {},
   "outputs": [
    {
     "name": "stdout",
     "output_type": "stream",
     "text": [
      "<class 'pandas.core.frame.DataFrame'>\n",
      "RangeIndex: 31868 entries, 0 to 31867\n",
      "Data columns (total 8 columns):\n",
      " #   Column           Non-Null Count  Dtype \n",
      "---  ------           --------------  ----- \n",
      " 0   sku_ID           31868 non-null  object\n",
      " 1   type             31868 non-null  int64 \n",
      " 2   brand_ID         31868 non-null  object\n",
      " 3   attribute1       31868 non-null  object\n",
      " 4   attribute2       31868 non-null  object\n",
      " 5   activate_date    3058 non-null   object\n",
      " 6   deactivate_date  1141 non-null   object\n",
      " 7   rating           31868 non-null  int64 \n",
      "dtypes: int64(2), object(6)\n",
      "memory usage: 1.9+ MB\n"
     ]
    }
   ],
   "source": [
    "Sku.info()"
   ]
  },
  {
   "cell_type": "code",
   "execution_count": 49,
   "id": "c0026add",
   "metadata": {},
   "outputs": [
    {
     "data": {
      "text/plain": [
       "sku_ID                 0\n",
       "type                   0\n",
       "brand_ID               0\n",
       "attribute1             0\n",
       "attribute2             0\n",
       "activate_date      28810\n",
       "deactivate_date    30727\n",
       "rating                 0\n",
       "dtype: int64"
      ]
     },
     "execution_count": 49,
     "metadata": {},
     "output_type": "execute_result"
    }
   ],
   "source": [
    "Sku.isnull().sum()"
   ]
  },
  {
   "cell_type": "code",
   "execution_count": 50,
   "id": "6c3b8724",
   "metadata": {},
   "outputs": [],
   "source": [
    "Sku.drop(columns=['activate_date'], inplace=True)\n",
    "Sku.drop(columns=['deactivate_date'], inplace=True)"
   ]
  },
  {
   "cell_type": "markdown",
   "id": "f257d97c",
   "metadata": {},
   "source": [
    "Dropping two columns 'activate_date' and 'deactivate_date' as they have more null values and not useful for the project."
   ]
  },
  {
   "cell_type": "code",
   "execution_count": 51,
   "id": "13bb32af",
   "metadata": {},
   "outputs": [],
   "source": [
    "Sku['attribute1'].replace('-', np.nan, inplace=True)\n",
    "Sku['attribute1']=Sku['attribute1'].astype('float')\n",
    "Sku['attribute2'].replace('-', np.nan, inplace=True)\n",
    "Sku['attribute2']=Sku['attribute2'].astype('float')"
   ]
  },
  {
   "cell_type": "markdown",
   "id": "f45bf99f",
   "metadata": {},
   "source": [
    "Converting attribute1 and attribute2 from object to float For each attribute, a higher value indicates better performance of a certain functionality of products (eg: longer battery life and higher screen resolution)."
   ]
  },
  {
   "cell_type": "code",
   "execution_count": 52,
   "id": "67fa7ec8",
   "metadata": {},
   "outputs": [
    {
     "data": {
      "text/plain": [
       "<AxesSubplot:title={'center':'Distribution of Attribute2 across all SKU'}, xlabel='attribute2'>"
      ]
     },
     "execution_count": 52,
     "metadata": {},
     "output_type": "execute_result"
    },
    {
     "data": {
      "image/png": "[encoded data removed]",
      "text/plain": [
       "<Figure size 432x288 with 1 Axes>"
      ]
     },
     "metadata": {
      "needs_background": "light"
     },
     "output_type": "display_data"
    }
   ],
   "source": [
    "from matplotlib import pyplot as plt\n",
    "import seaborn as sns\n",
    "Sku.groupby('attribute2').size().plot(kind='bar', title='Distribution of Attribute2 across all SKU')\n",
    "plt.gca().spines[['top', 'right',]].set_visible(False)"
   ]
  },
  {
   "cell_type": "code",
   "execution_count": 53,
   "id": "03ff6f39",
   "metadata": {},
   "outputs": [
    {
     "data": {
      "text/plain": [
       "<AxesSubplot:title={'center':'Distribution of Attribute1 across all SKU'}, xlabel='attribute1'>"
      ]
     },
     "execution_count": 53,
     "metadata": {},
     "output_type": "execute_result"
    },
    {
     "data": {
      "image/png": "[encoded data removed]",
      "text/plain": [
       "<Figure size 432x288 with 1 Axes>"
      ]
     },
     "metadata": {
      "needs_background": "light"
     },
     "output_type": "display_data"
    }
   ],
   "source": [
    "from matplotlib import pyplot as plt\n",
    "import seaborn as sns\n",
    "Sku.groupby('attribute1').size().plot(kind='bar',title='Distribution of Attribute1 across all SKU')"
   ]
  },
  {
   "cell_type": "markdown",
   "id": "46d3984b",
   "metadata": {},
   "source": [
    "## 5. Order"
   ]
  },
  {
   "cell_type": "code",
   "execution_count": 54,
   "id": "91e4fd00",
   "metadata": {},
   "outputs": [
    {
     "data": {
      "text/html": [
       "<div>\n",
       "<style scoped>\n",
       "    .dataframe tbody tr th:only-of-type {\n",
       "        vertical-align: middle;\n",
       "    }\n",
       "\n",
       "    .dataframe tbody tr th {\n",
       "        vertical-align: top;\n",
       "    }\n",
       "\n",
       "    .dataframe thead th {\n",
       "        text-align: right;\n",
       "    }\n",
       "</style>\n",
       "<table border=\"1\" class=\"dataframe\">\n",
       "  <thead>\n",
       "    <tr style=\"text-align: right;\">\n",
       "      <th></th>\n",
       "      <th>index</th>\n",
       "      <th>order_ID</th>\n",
       "      <th>user_ID</th>\n",
       "      <th>sku_ID</th>\n",
       "      <th>order_date</th>\n",
       "      <th>order_time</th>\n",
       "      <th>quantity</th>\n",
       "      <th>type</th>\n",
       "      <th>promise</th>\n",
       "      <th>original_unit_price</th>\n",
       "      <th>final_unit_price</th>\n",
       "      <th>direct_discount_per_unit</th>\n",
       "      <th>quantity_discount_per_unit</th>\n",
       "      <th>bundle_discount_per_unit</th>\n",
       "      <th>coupon_discount_per_unit</th>\n",
       "      <th>gift_item</th>\n",
       "      <th>dc_ori</th>\n",
       "      <th>dc_des</th>\n",
       "      <th>brand_ID</th>\n",
       "    </tr>\n",
       "  </thead>\n",
       "  <tbody>\n",
       "    <tr>\n",
       "      <th>0</th>\n",
       "      <td>1</td>\n",
       "      <td>d0cf5cc6db</td>\n",
       "      <td>0abe9ef2ce</td>\n",
       "      <td>581d5b54c1</td>\n",
       "      <td>2018-03-01</td>\n",
       "      <td>2018-03-01 17:14:25</td>\n",
       "      <td>1</td>\n",
       "      <td>2</td>\n",
       "      <td>None</td>\n",
       "      <td>89.0</td>\n",
       "      <td>79.0</td>\n",
       "      <td>0.0</td>\n",
       "      <td>10.0</td>\n",
       "      <td>0.0</td>\n",
       "      <td>0.0</td>\n",
       "      <td>0.0</td>\n",
       "      <td>4.0</td>\n",
       "      <td>28.0</td>\n",
       "      <td>198cec62a1</td>\n",
       "    </tr>\n",
       "    <tr>\n",
       "      <th>1</th>\n",
       "      <td>2</td>\n",
       "      <td>7444318d01</td>\n",
       "      <td>33a9e56257</td>\n",
       "      <td>067b673f2b</td>\n",
       "      <td>2018-03-01</td>\n",
       "      <td>2018-03-01 11:10:40</td>\n",
       "      <td>1</td>\n",
       "      <td>1</td>\n",
       "      <td>2</td>\n",
       "      <td>99.9</td>\n",
       "      <td>53.9</td>\n",
       "      <td>5.0</td>\n",
       "      <td>41.0</td>\n",
       "      <td>0.0</td>\n",
       "      <td>0.0</td>\n",
       "      <td>0.0</td>\n",
       "      <td>28.0</td>\n",
       "      <td>28.0</td>\n",
       "      <td>9b0d3a5fc6</td>\n",
       "    </tr>\n",
       "    <tr>\n",
       "      <th>2</th>\n",
       "      <td>3</td>\n",
       "      <td>f973b01694</td>\n",
       "      <td>4ea3cf408f</td>\n",
       "      <td>623d0a582a</td>\n",
       "      <td>2018-03-01</td>\n",
       "      <td>2018-03-01 09:13:26</td>\n",
       "      <td>1</td>\n",
       "      <td>1</td>\n",
       "      <td>2</td>\n",
       "      <td>78.0</td>\n",
       "      <td>58.5</td>\n",
       "      <td>19.5</td>\n",
       "      <td>0.0</td>\n",
       "      <td>0.0</td>\n",
       "      <td>0.0</td>\n",
       "      <td>0.0</td>\n",
       "      <td>28.0</td>\n",
       "      <td>28.0</td>\n",
       "      <td>-</td>\n",
       "    </tr>\n",
       "    <tr>\n",
       "      <th>3</th>\n",
       "      <td>4</td>\n",
       "      <td>8c1cec8d4b</td>\n",
       "      <td>b87cb736cb</td>\n",
       "      <td>fc5289b139</td>\n",
       "      <td>2018-03-01</td>\n",
       "      <td>2018-03-01 21:29:50</td>\n",
       "      <td>1</td>\n",
       "      <td>1</td>\n",
       "      <td>2</td>\n",
       "      <td>61.0</td>\n",
       "      <td>35.0</td>\n",
       "      <td>0.0</td>\n",
       "      <td>26.0</td>\n",
       "      <td>0.0</td>\n",
       "      <td>0.0</td>\n",
       "      <td>0.0</td>\n",
       "      <td>4.0</td>\n",
       "      <td>28.0</td>\n",
       "      <td>-</td>\n",
       "    </tr>\n",
       "    <tr>\n",
       "      <th>4</th>\n",
       "      <td>5</td>\n",
       "      <td>d43a33c38a</td>\n",
       "      <td>4829223b6f</td>\n",
       "      <td>623d0a582a</td>\n",
       "      <td>2018-03-01</td>\n",
       "      <td>2018-03-01 19:13:37</td>\n",
       "      <td>1</td>\n",
       "      <td>1</td>\n",
       "      <td>1</td>\n",
       "      <td>78.0</td>\n",
       "      <td>53.0</td>\n",
       "      <td>19.0</td>\n",
       "      <td>0.0</td>\n",
       "      <td>0.0</td>\n",
       "      <td>6.0</td>\n",
       "      <td>0.0</td>\n",
       "      <td>3.0</td>\n",
       "      <td>16.0</td>\n",
       "      <td>-</td>\n",
       "    </tr>\n",
       "  </tbody>\n",
       "</table>\n",
       "</div>"
      ],
      "text/plain": [
       "   index    order_ID     user_ID      sku_ID  order_date          order_time  \\\n",
       "0      1  d0cf5cc6db  0abe9ef2ce  581d5b54c1  2018-03-01 2018-03-01 17:14:25   \n",
       "1      2  7444318d01  33a9e56257  067b673f2b  2018-03-01 2018-03-01 11:10:40   \n",
       "2      3  f973b01694  4ea3cf408f  623d0a582a  2018-03-01 2018-03-01 09:13:26   \n",
       "3      4  8c1cec8d4b  b87cb736cb  fc5289b139  2018-03-01 2018-03-01 21:29:50   \n",
       "4      5  d43a33c38a  4829223b6f  623d0a582a  2018-03-01 2018-03-01 19:13:37   \n",
       "\n",
       "   quantity  type promise  original_unit_price  final_unit_price  \\\n",
       "0         1     2    None                 89.0              79.0   \n",
       "1         1     1       2                 99.9              53.9   \n",
       "2         1     1       2                 78.0              58.5   \n",
       "3         1     1       2                 61.0              35.0   \n",
       "4         1     1       1                 78.0              53.0   \n",
       "\n",
       "   direct_discount_per_unit  quantity_discount_per_unit  \\\n",
       "0                       0.0                        10.0   \n",
       "1                       5.0                        41.0   \n",
       "2                      19.5                         0.0   \n",
       "3                       0.0                        26.0   \n",
       "4                      19.0                         0.0   \n",
       "\n",
       "   bundle_discount_per_unit  coupon_discount_per_unit  gift_item  dc_ori  \\\n",
       "0                       0.0                       0.0        0.0     4.0   \n",
       "1                       0.0                       0.0        0.0    28.0   \n",
       "2                       0.0                       0.0        0.0    28.0   \n",
       "3                       0.0                       0.0        0.0     4.0   \n",
       "4                       0.0                       6.0        0.0     3.0   \n",
       "\n",
       "   dc_des    brand_ID  \n",
       "0    28.0  198cec62a1  \n",
       "1    28.0  9b0d3a5fc6  \n",
       "2    28.0           -  \n",
       "3    28.0           -  \n",
       "4    16.0           -  "
      ]
     },
     "execution_count": 54,
     "metadata": {},
     "output_type": "execute_result"
    }
   ],
   "source": [
    "order.head(5)"
   ]
  },
  {
   "cell_type": "code",
   "execution_count": 55,
   "id": "9e599ebf",
   "metadata": {},
   "outputs": [
    {
     "data": {
      "text/plain": [
       "(541098, 19)"
      ]
     },
     "execution_count": 55,
     "metadata": {},
     "output_type": "execute_result"
    }
   ],
   "source": [
    "order.shape"
   ]
  },
  {
   "cell_type": "code",
   "execution_count": 56,
   "id": "1b9b1cf7",
   "metadata": {},
   "outputs": [
    {
     "data": {
      "text/plain": [
       "index                              0\n",
       "order_ID                           0\n",
       "user_ID                            0\n",
       "sku_ID                             0\n",
       "order_date                         0\n",
       "order_time                         0\n",
       "quantity                           0\n",
       "type                               0\n",
       "promise                       203062\n",
       "original_unit_price                0\n",
       "final_unit_price                   0\n",
       "direct_discount_per_unit           0\n",
       "quantity_discount_per_unit         0\n",
       "bundle_discount_per_unit           0\n",
       "coupon_discount_per_unit           0\n",
       "gift_item                          0\n",
       "dc_ori                             0\n",
       "dc_des                             0\n",
       "brand_ID                           0\n",
       "dtype: int64"
      ]
     },
     "execution_count": 56,
     "metadata": {},
     "output_type": "execute_result"
    }
   ],
   "source": [
    "order.isnull().sum()"
   ]
  },
  {
   "cell_type": "markdown",
   "id": "d1629719",
   "metadata": {},
   "source": [
    "The table have 17 columns and 549989 records. Checked for null values and there are no null values in order table of JD.com"
   ]
  },
  {
   "cell_type": "code",
   "execution_count": 57,
   "id": "4a1652ad",
   "metadata": {},
   "outputs": [
    {
     "data": {
      "text/plain": [
       "index                                  int64\n",
       "order_ID                              object\n",
       "user_ID                               object\n",
       "sku_ID                                object\n",
       "order_date                            object\n",
       "order_time                    datetime64[ns]\n",
       "quantity                               int64\n",
       "type                                   int64\n",
       "promise                               object\n",
       "original_unit_price                  float64\n",
       "final_unit_price                     float64\n",
       "direct_discount_per_unit             float64\n",
       "quantity_discount_per_unit           float64\n",
       "bundle_discount_per_unit             float64\n",
       "coupon_discount_per_unit             float64\n",
       "gift_item                            float64\n",
       "dc_ori                               float64\n",
       "dc_des                               float64\n",
       "brand_ID                              object\n",
       "dtype: object"
      ]
     },
     "execution_count": 57,
     "metadata": {},
     "output_type": "execute_result"
    }
   ],
   "source": [
    "order.dtypes"
   ]
  },
  {
   "cell_type": "markdown",
   "id": "04349925",
   "metadata": {},
   "source": [
    "Checked the datatypes of the columns and if values are captured correctly"
   ]
  },
  {
   "cell_type": "code",
   "execution_count": 58,
   "id": "b1e5ec10",
   "metadata": {},
   "outputs": [
    {
     "data": {
      "text/html": [
       "<div>\n",
       "<style scoped>\n",
       "    .dataframe tbody tr th:only-of-type {\n",
       "        vertical-align: middle;\n",
       "    }\n",
       "\n",
       "    .dataframe tbody tr th {\n",
       "        vertical-align: top;\n",
       "    }\n",
       "\n",
       "    .dataframe thead th {\n",
       "        text-align: right;\n",
       "    }\n",
       "</style>\n",
       "<table border=\"1\" class=\"dataframe\">\n",
       "  <thead>\n",
       "    <tr style=\"text-align: right;\">\n",
       "      <th></th>\n",
       "      <th>index</th>\n",
       "      <th>quantity</th>\n",
       "      <th>type</th>\n",
       "      <th>original_unit_price</th>\n",
       "      <th>final_unit_price</th>\n",
       "      <th>direct_discount_per_unit</th>\n",
       "      <th>quantity_discount_per_unit</th>\n",
       "      <th>bundle_discount_per_unit</th>\n",
       "      <th>coupon_discount_per_unit</th>\n",
       "      <th>gift_item</th>\n",
       "      <th>dc_ori</th>\n",
       "      <th>dc_des</th>\n",
       "    </tr>\n",
       "  </thead>\n",
       "  <tbody>\n",
       "    <tr>\n",
       "      <th>count</th>\n",
       "      <td>541098.000000</td>\n",
       "      <td>541098.000000</td>\n",
       "      <td>541098.000000</td>\n",
       "      <td>541098.000000</td>\n",
       "      <td>541098.000000</td>\n",
       "      <td>541098.000000</td>\n",
       "      <td>541098.000000</td>\n",
       "      <td>541098.000000</td>\n",
       "      <td>541098.000000</td>\n",
       "      <td>541098.000000</td>\n",
       "      <td>541098.000000</td>\n",
       "      <td>541098.000000</td>\n",
       "    </tr>\n",
       "    <tr>\n",
       "      <th>mean</th>\n",
       "      <td>275649.791114</td>\n",
       "      <td>1.214360</td>\n",
       "      <td>1.494472</td>\n",
       "      <td>104.152752</td>\n",
       "      <td>72.539306</td>\n",
       "      <td>20.077272</td>\n",
       "      <td>7.946541</td>\n",
       "      <td>0.622080</td>\n",
       "      <td>2.967552</td>\n",
       "      <td>0.161795</td>\n",
       "      <td>12.134981</td>\n",
       "      <td>21.697155</td>\n",
       "    </tr>\n",
       "    <tr>\n",
       "      <th>std</th>\n",
       "      <td>158640.888507</td>\n",
       "      <td>1.855342</td>\n",
       "      <td>0.499970</td>\n",
       "      <td>94.973225</td>\n",
       "      <td>75.989611</td>\n",
       "      <td>33.709421</td>\n",
       "      <td>18.102869</td>\n",
       "      <td>6.434889</td>\n",
       "      <td>11.675290</td>\n",
       "      <td>0.368263</td>\n",
       "      <td>14.280076</td>\n",
       "      <td>16.977118</td>\n",
       "    </tr>\n",
       "    <tr>\n",
       "      <th>min</th>\n",
       "      <td>1.000000</td>\n",
       "      <td>1.000000</td>\n",
       "      <td>1.000000</td>\n",
       "      <td>0.000000</td>\n",
       "      <td>-32.000000</td>\n",
       "      <td>0.000000</td>\n",
       "      <td>0.000000</td>\n",
       "      <td>0.000000</td>\n",
       "      <td>0.000000</td>\n",
       "      <td>0.000000</td>\n",
       "      <td>1.000000</td>\n",
       "      <td>1.000000</td>\n",
       "    </tr>\n",
       "    <tr>\n",
       "      <th>25%</th>\n",
       "      <td>138375.250000</td>\n",
       "      <td>1.000000</td>\n",
       "      <td>1.000000</td>\n",
       "      <td>59.000000</td>\n",
       "      <td>34.000000</td>\n",
       "      <td>0.000000</td>\n",
       "      <td>0.000000</td>\n",
       "      <td>0.000000</td>\n",
       "      <td>0.000000</td>\n",
       "      <td>0.000000</td>\n",
       "      <td>4.000000</td>\n",
       "      <td>5.000000</td>\n",
       "    </tr>\n",
       "    <tr>\n",
       "      <th>50%</th>\n",
       "      <td>275757.500000</td>\n",
       "      <td>1.000000</td>\n",
       "      <td>1.000000</td>\n",
       "      <td>79.000000</td>\n",
       "      <td>59.000000</td>\n",
       "      <td>4.000000</td>\n",
       "      <td>0.000000</td>\n",
       "      <td>0.000000</td>\n",
       "      <td>0.000000</td>\n",
       "      <td>0.000000</td>\n",
       "      <td>7.000000</td>\n",
       "      <td>20.000000</td>\n",
       "    </tr>\n",
       "    <tr>\n",
       "      <th>75%</th>\n",
       "      <td>413158.750000</td>\n",
       "      <td>1.000000</td>\n",
       "      <td>2.000000</td>\n",
       "      <td>139.000000</td>\n",
       "      <td>96.000000</td>\n",
       "      <td>21.000000</td>\n",
       "      <td>0.000000</td>\n",
       "      <td>0.000000</td>\n",
       "      <td>0.000000</td>\n",
       "      <td>0.000000</td>\n",
       "      <td>10.000000</td>\n",
       "      <td>34.000000</td>\n",
       "    </tr>\n",
       "    <tr>\n",
       "      <th>max</th>\n",
       "      <td>549989.000000</td>\n",
       "      <td>400.000000</td>\n",
       "      <td>2.000000</td>\n",
       "      <td>12158.000000</td>\n",
       "      <td>12158.000000</td>\n",
       "      <td>720.000000</td>\n",
       "      <td>225.000000</td>\n",
       "      <td>201.000000</td>\n",
       "      <td>210.000000</td>\n",
       "      <td>1.000000</td>\n",
       "      <td>67.000000</td>\n",
       "      <td>67.000000</td>\n",
       "    </tr>\n",
       "  </tbody>\n",
       "</table>\n",
       "</div>"
      ],
      "text/plain": [
       "               index       quantity           type  original_unit_price  \\\n",
       "count  541098.000000  541098.000000  541098.000000        541098.000000   \n",
       "mean   275649.791114       1.214360       1.494472           104.152752   \n",
       "std    158640.888507       1.855342       0.499970            94.973225   \n",
       "min         1.000000       1.000000       1.000000             0.000000   \n",
       "25%    138375.250000       1.000000       1.000000            59.000000   \n",
       "50%    275757.500000       1.000000       1.000000            79.000000   \n",
       "75%    413158.750000       1.000000       2.000000           139.000000   \n",
       "max    549989.000000     400.000000       2.000000         12158.000000   \n",
       "\n",
       "       final_unit_price  direct_discount_per_unit  quantity_discount_per_unit  \\\n",
       "count     541098.000000             541098.000000               541098.000000   \n",
       "mean          72.539306                 20.077272                    7.946541   \n",
       "std           75.989611                 33.709421                   18.102869   \n",
       "min          -32.000000                  0.000000                    0.000000   \n",
       "25%           34.000000                  0.000000                    0.000000   \n",
       "50%           59.000000                  4.000000                    0.000000   \n",
       "75%           96.000000                 21.000000                    0.000000   \n",
       "max        12158.000000                720.000000                  225.000000   \n",
       "\n",
       "       bundle_discount_per_unit  coupon_discount_per_unit      gift_item  \\\n",
       "count             541098.000000             541098.000000  541098.000000   \n",
       "mean                   0.622080                  2.967552       0.161795   \n",
       "std                    6.434889                 11.675290       0.368263   \n",
       "min                    0.000000                  0.000000       0.000000   \n",
       "25%                    0.000000                  0.000000       0.000000   \n",
       "50%                    0.000000                  0.000000       0.000000   \n",
       "75%                    0.000000                  0.000000       0.000000   \n",
       "max                  201.000000                210.000000       1.000000   \n",
       "\n",
       "              dc_ori         dc_des  \n",
       "count  541098.000000  541098.000000  \n",
       "mean       12.134981      21.697155  \n",
       "std        14.280076      16.977118  \n",
       "min         1.000000       1.000000  \n",
       "25%         4.000000       5.000000  \n",
       "50%         7.000000      20.000000  \n",
       "75%        10.000000      34.000000  \n",
       "max        67.000000      67.000000  "
      ]
     },
     "execution_count": 58,
     "metadata": {},
     "output_type": "execute_result"
    }
   ],
   "source": [
    "order.describe()"
   ]
  },
  {
   "cell_type": "markdown",
   "id": "81a83b07",
   "metadata": {},
   "source": [
    "The statistical analysis for order table shows some outliners present in the data which needs to be worked on."
   ]
  },
  {
   "cell_type": "markdown",
   "id": "33de4d96",
   "metadata": {},
   "source": [
    "# Descriptive Analysis\n",
    "## Which is the most used platform for shopping?\n",
    "Using group by function on channel and then on number of users for each channel, we will get channel with most used platform"
   ]
  },
  {
   "cell_type": "code",
   "execution_count": 59,
   "id": "3b5fe12f",
   "metadata": {},
   "outputs": [],
   "source": [
    "diff_channel = click.groupby('channel')"
   ]
  },
  {
   "cell_type": "code",
   "execution_count": 60,
   "id": "3169682e",
   "metadata": {},
   "outputs": [
    {
     "data": {
      "text/html": [
       "<div>\n",
       "<style scoped>\n",
       "    .dataframe tbody tr th:only-of-type {\n",
       "        vertical-align: middle;\n",
       "    }\n",
       "\n",
       "    .dataframe tbody tr th {\n",
       "        vertical-align: top;\n",
       "    }\n",
       "\n",
       "    .dataframe thead th {\n",
       "        text-align: right;\n",
       "    }\n",
       "</style>\n",
       "<table border=\"1\" class=\"dataframe\">\n",
       "  <thead>\n",
       "    <tr style=\"text-align: right;\">\n",
       "      <th></th>\n",
       "      <th>sku_ID</th>\n",
       "      <th>user_ID</th>\n",
       "      <th>request_time</th>\n",
       "      <th>request_date</th>\n",
       "    </tr>\n",
       "    <tr>\n",
       "      <th>channel</th>\n",
       "      <th></th>\n",
       "      <th></th>\n",
       "      <th></th>\n",
       "      <th></th>\n",
       "    </tr>\n",
       "  </thead>\n",
       "  <tbody>\n",
       "    <tr>\n",
       "      <th>app</th>\n",
       "      <td>c4858d9437</td>\n",
       "      <td>b1775e149d</td>\n",
       "      <td>23:45:13</td>\n",
       "      <td>2018-03-01</td>\n",
       "    </tr>\n",
       "    <tr>\n",
       "      <th>mobile</th>\n",
       "      <td>e237f26793</td>\n",
       "      <td>-</td>\n",
       "      <td>14:22:20</td>\n",
       "      <td>2018-03-03</td>\n",
       "    </tr>\n",
       "    <tr>\n",
       "      <th>others</th>\n",
       "      <td>c5c5bed056</td>\n",
       "      <td>-</td>\n",
       "      <td>06:46:42</td>\n",
       "      <td>2018-03-01</td>\n",
       "    </tr>\n",
       "    <tr>\n",
       "      <th>pc</th>\n",
       "      <td>730b175937</td>\n",
       "      <td>-</td>\n",
       "      <td>21:09:17</td>\n",
       "      <td>2018-03-02</td>\n",
       "    </tr>\n",
       "    <tr>\n",
       "      <th>wechat</th>\n",
       "      <td>3a64d9667a</td>\n",
       "      <td>cec8139a5c</td>\n",
       "      <td>23:36:17</td>\n",
       "      <td>2018-03-02</td>\n",
       "    </tr>\n",
       "  </tbody>\n",
       "</table>\n",
       "</div>"
      ],
      "text/plain": [
       "             sku_ID     user_ID request_time request_date\n",
       "channel                                                  \n",
       "app      c4858d9437  b1775e149d     23:45:13   2018-03-01\n",
       "mobile   e237f26793           -     14:22:20   2018-03-03\n",
       "others   c5c5bed056           -     06:46:42   2018-03-01\n",
       "pc       730b175937           -     21:09:17   2018-03-02\n",
       "wechat   3a64d9667a  cec8139a5c     23:36:17   2018-03-02"
      ]
     },
     "execution_count": 60,
     "metadata": {},
     "output_type": "execute_result"
    }
   ],
   "source": [
    "diff_channel.first()"
   ]
  },
  {
   "cell_type": "code",
   "execution_count": 61,
   "id": "c7f505c1",
   "metadata": {},
   "outputs": [],
   "source": [
    "channel_count = click.groupby('channel').size().reset_index(name='no. of users for each channel')\n",
    "#sorted_df = df.sort_values(by=['Column_name'], ascending=True)\n",
    "sorted_channel_count = channel_count.sort_values(by = ['no. of users for each channel'], ascending= False)"
   ]
  },
  {
   "cell_type": "code",
   "execution_count": 62,
   "id": "7b571b91",
   "metadata": {},
   "outputs": [
    {
     "data": {
      "text/html": [
       "<div>\n",
       "<style scoped>\n",
       "    .dataframe tbody tr th:only-of-type {\n",
       "        vertical-align: middle;\n",
       "    }\n",
       "\n",
       "    .dataframe tbody tr th {\n",
       "        vertical-align: top;\n",
       "    }\n",
       "\n",
       "    .dataframe thead th {\n",
       "        text-align: right;\n",
       "    }\n",
       "</style>\n",
       "<table border=\"1\" class=\"dataframe\">\n",
       "  <thead>\n",
       "    <tr style=\"text-align: right;\">\n",
       "      <th></th>\n",
       "      <th>channel</th>\n",
       "      <th>no. of users for each channel</th>\n",
       "    </tr>\n",
       "  </thead>\n",
       "  <tbody>\n",
       "    <tr>\n",
       "      <th>0</th>\n",
       "      <td>app</td>\n",
       "      <td>14702575</td>\n",
       "    </tr>\n",
       "    <tr>\n",
       "      <th>4</th>\n",
       "      <td>wechat</td>\n",
       "      <td>2591321</td>\n",
       "    </tr>\n",
       "    <tr>\n",
       "      <th>3</th>\n",
       "      <td>pc</td>\n",
       "      <td>1021665</td>\n",
       "    </tr>\n",
       "    <tr>\n",
       "      <th>1</th>\n",
       "      <td>mobile</td>\n",
       "      <td>958385</td>\n",
       "    </tr>\n",
       "    <tr>\n",
       "      <th>2</th>\n",
       "      <td>others</td>\n",
       "      <td>453302</td>\n",
       "    </tr>\n",
       "  </tbody>\n",
       "</table>\n",
       "</div>"
      ],
      "text/plain": [
       "  channel  no. of users for each channel\n",
       "0     app                       14702575\n",
       "4  wechat                        2591321\n",
       "3      pc                        1021665\n",
       "1  mobile                         958385\n",
       "2  others                         453302"
      ]
     },
     "execution_count": 62,
     "metadata": {},
     "output_type": "execute_result"
    }
   ],
   "source": [
    "sorted_channel_count.head()"
   ]
  },
  {
   "cell_type": "markdown",
   "id": "1c2600a7",
   "metadata": {},
   "source": [
    "Output shows JD.com app has the highest number of users followed by wechat app and personal computers"
   ]
  },
  {
   "cell_type": "code",
   "execution_count": 63,
   "id": "14228da8",
   "metadata": {},
   "outputs": [
    {
     "data": {
      "text/plain": [
       "(322827, 24)"
      ]
     },
     "execution_count": 63,
     "metadata": {},
     "output_type": "execute_result"
    }
   ],
   "source": [
    "merged_data1 = pd.merge(order,delivery, on=\"order_ID\", how = \"inner\")\n",
    "merged_data1.shape"
   ]
  },
  {
   "cell_type": "code",
   "execution_count": 64,
   "id": "935cf990",
   "metadata": {},
   "outputs": [
    {
     "data": {
      "text/plain": [
       "(541098, 19)"
      ]
     },
     "execution_count": 64,
     "metadata": {},
     "output_type": "execute_result"
    }
   ],
   "source": [
    "order.shape"
   ]
  },
  {
   "cell_type": "code",
   "execution_count": 65,
   "id": "8f7ce2aa",
   "metadata": {},
   "outputs": [
    {
     "data": {
      "text/plain": [
       "(293229, 6)"
      ]
     },
     "execution_count": 65,
     "metadata": {},
     "output_type": "execute_result"
    }
   ],
   "source": [
    "delivery.shape"
   ]
  },
  {
   "cell_type": "code",
   "execution_count": 66,
   "id": "0105ca1c",
   "metadata": {},
   "outputs": [
    {
     "data": {
      "text/html": [
       "<div>\n",
       "<style scoped>\n",
       "    .dataframe tbody tr th:only-of-type {\n",
       "        vertical-align: middle;\n",
       "    }\n",
       "\n",
       "    .dataframe tbody tr th {\n",
       "        vertical-align: top;\n",
       "    }\n",
       "\n",
       "    .dataframe thead th {\n",
       "        text-align: right;\n",
       "    }\n",
       "</style>\n",
       "<table border=\"1\" class=\"dataframe\">\n",
       "  <thead>\n",
       "    <tr style=\"text-align: right;\">\n",
       "      <th></th>\n",
       "      <th>index</th>\n",
       "      <th>order_ID</th>\n",
       "      <th>user_ID</th>\n",
       "      <th>sku_ID</th>\n",
       "      <th>order_date</th>\n",
       "      <th>order_time</th>\n",
       "      <th>quantity</th>\n",
       "      <th>type_x</th>\n",
       "      <th>promise</th>\n",
       "      <th>original_unit_price</th>\n",
       "      <th>...</th>\n",
       "      <th>coupon_discount_per_unit</th>\n",
       "      <th>gift_item</th>\n",
       "      <th>dc_ori</th>\n",
       "      <th>dc_des</th>\n",
       "      <th>brand_ID</th>\n",
       "      <th>package_ID</th>\n",
       "      <th>type_y</th>\n",
       "      <th>ship_out_time</th>\n",
       "      <th>arr_station_time</th>\n",
       "      <th>arr_time</th>\n",
       "    </tr>\n",
       "  </thead>\n",
       "  <tbody>\n",
       "    <tr>\n",
       "      <th>0</th>\n",
       "      <td>2</td>\n",
       "      <td>7444318d01</td>\n",
       "      <td>33a9e56257</td>\n",
       "      <td>067b673f2b</td>\n",
       "      <td>2018-03-01</td>\n",
       "      <td>2018-03-01 11:10:40</td>\n",
       "      <td>1</td>\n",
       "      <td>1</td>\n",
       "      <td>2</td>\n",
       "      <td>99.9</td>\n",
       "      <td>...</td>\n",
       "      <td>0.0</td>\n",
       "      <td>0.0</td>\n",
       "      <td>28.0</td>\n",
       "      <td>28.0</td>\n",
       "      <td>9b0d3a5fc6</td>\n",
       "      <td>7444318d01</td>\n",
       "      <td>1</td>\n",
       "      <td>2018-03-01 13:00:00</td>\n",
       "      <td>2018-03-02 08:00:00</td>\n",
       "      <td>2018-03-02 14:00:00</td>\n",
       "    </tr>\n",
       "    <tr>\n",
       "      <th>1</th>\n",
       "      <td>3</td>\n",
       "      <td>f973b01694</td>\n",
       "      <td>4ea3cf408f</td>\n",
       "      <td>623d0a582a</td>\n",
       "      <td>2018-03-01</td>\n",
       "      <td>2018-03-01 09:13:26</td>\n",
       "      <td>1</td>\n",
       "      <td>1</td>\n",
       "      <td>2</td>\n",
       "      <td>78.0</td>\n",
       "      <td>...</td>\n",
       "      <td>0.0</td>\n",
       "      <td>0.0</td>\n",
       "      <td>28.0</td>\n",
       "      <td>28.0</td>\n",
       "      <td>-</td>\n",
       "      <td>f973b01694</td>\n",
       "      <td>1</td>\n",
       "      <td>2018-03-01 14:00:00</td>\n",
       "      <td>2018-03-02 09:00:00</td>\n",
       "      <td>2018-03-02 13:00:00</td>\n",
       "    </tr>\n",
       "    <tr>\n",
       "      <th>2</th>\n",
       "      <td>4</td>\n",
       "      <td>8c1cec8d4b</td>\n",
       "      <td>b87cb736cb</td>\n",
       "      <td>fc5289b139</td>\n",
       "      <td>2018-03-01</td>\n",
       "      <td>2018-03-01 21:29:50</td>\n",
       "      <td>1</td>\n",
       "      <td>1</td>\n",
       "      <td>2</td>\n",
       "      <td>61.0</td>\n",
       "      <td>...</td>\n",
       "      <td>0.0</td>\n",
       "      <td>0.0</td>\n",
       "      <td>4.0</td>\n",
       "      <td>28.0</td>\n",
       "      <td>-</td>\n",
       "      <td>8c1cec8d4b</td>\n",
       "      <td>1</td>\n",
       "      <td>2018-03-02 09:00:00</td>\n",
       "      <td>2018-03-03 08:00:00</td>\n",
       "      <td>2018-03-04 11:00:00</td>\n",
       "    </tr>\n",
       "    <tr>\n",
       "      <th>3</th>\n",
       "      <td>5</td>\n",
       "      <td>d43a33c38a</td>\n",
       "      <td>4829223b6f</td>\n",
       "      <td>623d0a582a</td>\n",
       "      <td>2018-03-01</td>\n",
       "      <td>2018-03-01 19:13:37</td>\n",
       "      <td>1</td>\n",
       "      <td>1</td>\n",
       "      <td>1</td>\n",
       "      <td>78.0</td>\n",
       "      <td>...</td>\n",
       "      <td>6.0</td>\n",
       "      <td>0.0</td>\n",
       "      <td>3.0</td>\n",
       "      <td>16.0</td>\n",
       "      <td>-</td>\n",
       "      <td>d43a33c38a</td>\n",
       "      <td>1</td>\n",
       "      <td>2018-03-01 20:00:00</td>\n",
       "      <td>2018-03-02 07:00:00</td>\n",
       "      <td>2018-03-02 11:00:00</td>\n",
       "    </tr>\n",
       "    <tr>\n",
       "      <th>4</th>\n",
       "      <td>6</td>\n",
       "      <td>e0f5386d87</td>\n",
       "      <td>0b07cae293</td>\n",
       "      <td>589c2b865b</td>\n",
       "      <td>2018-03-01</td>\n",
       "      <td>2018-03-01 21:09:15</td>\n",
       "      <td>1</td>\n",
       "      <td>1</td>\n",
       "      <td>1</td>\n",
       "      <td>79.9</td>\n",
       "      <td>...</td>\n",
       "      <td>0.0</td>\n",
       "      <td>0.0</td>\n",
       "      <td>3.0</td>\n",
       "      <td>16.0</td>\n",
       "      <td>9b0d3a5fc6</td>\n",
       "      <td>e0f5386d87</td>\n",
       "      <td>1</td>\n",
       "      <td>2018-03-01 22:00:00</td>\n",
       "      <td>2018-03-02 09:00:00</td>\n",
       "      <td>2018-03-02 12:00:00</td>\n",
       "    </tr>\n",
       "  </tbody>\n",
       "</table>\n",
       "<p>5 rows × 24 columns</p>\n",
       "</div>"
      ],
      "text/plain": [
       "   index    order_ID     user_ID      sku_ID  order_date          order_time  \\\n",
       "0      2  7444318d01  33a9e56257  067b673f2b  2018-03-01 2018-03-01 11:10:40   \n",
       "1      3  f973b01694  4ea3cf408f  623d0a582a  2018-03-01 2018-03-01 09:13:26   \n",
       "2      4  8c1cec8d4b  b87cb736cb  fc5289b139  2018-03-01 2018-03-01 21:29:50   \n",
       "3      5  d43a33c38a  4829223b6f  623d0a582a  2018-03-01 2018-03-01 19:13:37   \n",
       "4      6  e0f5386d87  0b07cae293  589c2b865b  2018-03-01 2018-03-01 21:09:15   \n",
       "\n",
       "   quantity  type_x promise  original_unit_price  ...  \\\n",
       "0         1       1       2                 99.9  ...   \n",
       "1         1       1       2                 78.0  ...   \n",
       "2         1       1       2                 61.0  ...   \n",
       "3         1       1       1                 78.0  ...   \n",
       "4         1       1       1                 79.9  ...   \n",
       "\n",
       "   coupon_discount_per_unit  gift_item  dc_ori  dc_des    brand_ID  \\\n",
       "0                       0.0        0.0    28.0    28.0  9b0d3a5fc6   \n",
       "1                       0.0        0.0    28.0    28.0           -   \n",
       "2                       0.0        0.0     4.0    28.0           -   \n",
       "3                       6.0        0.0     3.0    16.0           -   \n",
       "4                       0.0        0.0     3.0    16.0  9b0d3a5fc6   \n",
       "\n",
       "   package_ID  type_y       ship_out_time    arr_station_time  \\\n",
       "0  7444318d01       1 2018-03-01 13:00:00 2018-03-02 08:00:00   \n",
       "1  f973b01694       1 2018-03-01 14:00:00 2018-03-02 09:00:00   \n",
       "2  8c1cec8d4b       1 2018-03-02 09:00:00 2018-03-03 08:00:00   \n",
       "3  d43a33c38a       1 2018-03-01 20:00:00 2018-03-02 07:00:00   \n",
       "4  e0f5386d87       1 2018-03-01 22:00:00 2018-03-02 09:00:00   \n",
       "\n",
       "             arr_time  \n",
       "0 2018-03-02 14:00:00  \n",
       "1 2018-03-02 13:00:00  \n",
       "2 2018-03-04 11:00:00  \n",
       "3 2018-03-02 11:00:00  \n",
       "4 2018-03-02 12:00:00  \n",
       "\n",
       "[5 rows x 24 columns]"
      ]
     },
     "execution_count": 66,
     "metadata": {},
     "output_type": "execute_result"
    }
   ],
   "source": [
    "merged_data1.head()"
   ]
  },
  {
   "cell_type": "markdown",
   "id": "a69fd6f0",
   "metadata": {},
   "source": [
    "Merged the order and delivery tables with inner join. i.e orders which were delivered are taken for analysis."
   ]
  },
  {
   "cell_type": "code",
   "execution_count": 67,
   "id": "87a2963d",
   "metadata": {},
   "outputs": [
    {
     "data": {
      "text/html": [
       "<div>\n",
       "<style scoped>\n",
       "    .dataframe tbody tr th:only-of-type {\n",
       "        vertical-align: middle;\n",
       "    }\n",
       "\n",
       "    .dataframe tbody tr th {\n",
       "        vertical-align: top;\n",
       "    }\n",
       "\n",
       "    .dataframe thead th {\n",
       "        text-align: right;\n",
       "    }\n",
       "</style>\n",
       "<table border=\"1\" class=\"dataframe\">\n",
       "  <thead>\n",
       "    <tr style=\"text-align: right;\">\n",
       "      <th></th>\n",
       "      <th>index</th>\n",
       "      <th>order_ID</th>\n",
       "      <th>user_ID</th>\n",
       "      <th>sku_ID</th>\n",
       "      <th>order_date</th>\n",
       "      <th>order_time</th>\n",
       "      <th>quantity</th>\n",
       "      <th>type_x</th>\n",
       "      <th>promise</th>\n",
       "      <th>original_unit_price</th>\n",
       "      <th>...</th>\n",
       "      <th>bundle_discount_per_unit</th>\n",
       "      <th>coupon_discount_per_unit</th>\n",
       "      <th>gift_item</th>\n",
       "      <th>dc_ori</th>\n",
       "      <th>dc_des</th>\n",
       "      <th>brand_ID</th>\n",
       "      <th>package_ID</th>\n",
       "      <th>ship_out_time</th>\n",
       "      <th>arr_station_time</th>\n",
       "      <th>arr_time</th>\n",
       "    </tr>\n",
       "  </thead>\n",
       "  <tbody>\n",
       "    <tr>\n",
       "      <th>0</th>\n",
       "      <td>2</td>\n",
       "      <td>7444318d01</td>\n",
       "      <td>33a9e56257</td>\n",
       "      <td>067b673f2b</td>\n",
       "      <td>2018-03-01</td>\n",
       "      <td>2018-03-01 11:10:40</td>\n",
       "      <td>1</td>\n",
       "      <td>1</td>\n",
       "      <td>2</td>\n",
       "      <td>99.9</td>\n",
       "      <td>...</td>\n",
       "      <td>0.0</td>\n",
       "      <td>0.0</td>\n",
       "      <td>0.0</td>\n",
       "      <td>28.0</td>\n",
       "      <td>28.0</td>\n",
       "      <td>9b0d3a5fc6</td>\n",
       "      <td>7444318d01</td>\n",
       "      <td>2018-03-01 13:00:00</td>\n",
       "      <td>2018-03-02 08:00:00</td>\n",
       "      <td>2018-03-02 14:00:00</td>\n",
       "    </tr>\n",
       "    <tr>\n",
       "      <th>1</th>\n",
       "      <td>3</td>\n",
       "      <td>f973b01694</td>\n",
       "      <td>4ea3cf408f</td>\n",
       "      <td>623d0a582a</td>\n",
       "      <td>2018-03-01</td>\n",
       "      <td>2018-03-01 09:13:26</td>\n",
       "      <td>1</td>\n",
       "      <td>1</td>\n",
       "      <td>2</td>\n",
       "      <td>78.0</td>\n",
       "      <td>...</td>\n",
       "      <td>0.0</td>\n",
       "      <td>0.0</td>\n",
       "      <td>0.0</td>\n",
       "      <td>28.0</td>\n",
       "      <td>28.0</td>\n",
       "      <td>-</td>\n",
       "      <td>f973b01694</td>\n",
       "      <td>2018-03-01 14:00:00</td>\n",
       "      <td>2018-03-02 09:00:00</td>\n",
       "      <td>2018-03-02 13:00:00</td>\n",
       "    </tr>\n",
       "    <tr>\n",
       "      <th>2</th>\n",
       "      <td>4</td>\n",
       "      <td>8c1cec8d4b</td>\n",
       "      <td>b87cb736cb</td>\n",
       "      <td>fc5289b139</td>\n",
       "      <td>2018-03-01</td>\n",
       "      <td>2018-03-01 21:29:50</td>\n",
       "      <td>1</td>\n",
       "      <td>1</td>\n",
       "      <td>2</td>\n",
       "      <td>61.0</td>\n",
       "      <td>...</td>\n",
       "      <td>0.0</td>\n",
       "      <td>0.0</td>\n",
       "      <td>0.0</td>\n",
       "      <td>4.0</td>\n",
       "      <td>28.0</td>\n",
       "      <td>-</td>\n",
       "      <td>8c1cec8d4b</td>\n",
       "      <td>2018-03-02 09:00:00</td>\n",
       "      <td>2018-03-03 08:00:00</td>\n",
       "      <td>2018-03-04 11:00:00</td>\n",
       "    </tr>\n",
       "    <tr>\n",
       "      <th>3</th>\n",
       "      <td>5</td>\n",
       "      <td>d43a33c38a</td>\n",
       "      <td>4829223b6f</td>\n",
       "      <td>623d0a582a</td>\n",
       "      <td>2018-03-01</td>\n",
       "      <td>2018-03-01 19:13:37</td>\n",
       "      <td>1</td>\n",
       "      <td>1</td>\n",
       "      <td>1</td>\n",
       "      <td>78.0</td>\n",
       "      <td>...</td>\n",
       "      <td>0.0</td>\n",
       "      <td>6.0</td>\n",
       "      <td>0.0</td>\n",
       "      <td>3.0</td>\n",
       "      <td>16.0</td>\n",
       "      <td>-</td>\n",
       "      <td>d43a33c38a</td>\n",
       "      <td>2018-03-01 20:00:00</td>\n",
       "      <td>2018-03-02 07:00:00</td>\n",
       "      <td>2018-03-02 11:00:00</td>\n",
       "    </tr>\n",
       "    <tr>\n",
       "      <th>4</th>\n",
       "      <td>6</td>\n",
       "      <td>e0f5386d87</td>\n",
       "      <td>0b07cae293</td>\n",
       "      <td>589c2b865b</td>\n",
       "      <td>2018-03-01</td>\n",
       "      <td>2018-03-01 21:09:15</td>\n",
       "      <td>1</td>\n",
       "      <td>1</td>\n",
       "      <td>1</td>\n",
       "      <td>79.9</td>\n",
       "      <td>...</td>\n",
       "      <td>0.0</td>\n",
       "      <td>0.0</td>\n",
       "      <td>0.0</td>\n",
       "      <td>3.0</td>\n",
       "      <td>16.0</td>\n",
       "      <td>9b0d3a5fc6</td>\n",
       "      <td>e0f5386d87</td>\n",
       "      <td>2018-03-01 22:00:00</td>\n",
       "      <td>2018-03-02 09:00:00</td>\n",
       "      <td>2018-03-02 12:00:00</td>\n",
       "    </tr>\n",
       "  </tbody>\n",
       "</table>\n",
       "<p>5 rows × 23 columns</p>\n",
       "</div>"
      ],
      "text/plain": [
       "   index    order_ID     user_ID      sku_ID  order_date          order_time  \\\n",
       "0      2  7444318d01  33a9e56257  067b673f2b  2018-03-01 2018-03-01 11:10:40   \n",
       "1      3  f973b01694  4ea3cf408f  623d0a582a  2018-03-01 2018-03-01 09:13:26   \n",
       "2      4  8c1cec8d4b  b87cb736cb  fc5289b139  2018-03-01 2018-03-01 21:29:50   \n",
       "3      5  d43a33c38a  4829223b6f  623d0a582a  2018-03-01 2018-03-01 19:13:37   \n",
       "4      6  e0f5386d87  0b07cae293  589c2b865b  2018-03-01 2018-03-01 21:09:15   \n",
       "\n",
       "   quantity  type_x promise  original_unit_price  ...  \\\n",
       "0         1       1       2                 99.9  ...   \n",
       "1         1       1       2                 78.0  ...   \n",
       "2         1       1       2                 61.0  ...   \n",
       "3         1       1       1                 78.0  ...   \n",
       "4         1       1       1                 79.9  ...   \n",
       "\n",
       "   bundle_discount_per_unit  coupon_discount_per_unit  gift_item  dc_ori  \\\n",
       "0                       0.0                       0.0        0.0    28.0   \n",
       "1                       0.0                       0.0        0.0    28.0   \n",
       "2                       0.0                       0.0        0.0     4.0   \n",
       "3                       0.0                       6.0        0.0     3.0   \n",
       "4                       0.0                       0.0        0.0     3.0   \n",
       "\n",
       "   dc_des    brand_ID  package_ID       ship_out_time    arr_station_time  \\\n",
       "0    28.0  9b0d3a5fc6  7444318d01 2018-03-01 13:00:00 2018-03-02 08:00:00   \n",
       "1    28.0           -  f973b01694 2018-03-01 14:00:00 2018-03-02 09:00:00   \n",
       "2    28.0           -  8c1cec8d4b 2018-03-02 09:00:00 2018-03-03 08:00:00   \n",
       "3    16.0           -  d43a33c38a 2018-03-01 20:00:00 2018-03-02 07:00:00   \n",
       "4    16.0  9b0d3a5fc6  e0f5386d87 2018-03-01 22:00:00 2018-03-02 09:00:00   \n",
       "\n",
       "             arr_time  \n",
       "0 2018-03-02 14:00:00  \n",
       "1 2018-03-02 13:00:00  \n",
       "2 2018-03-04 11:00:00  \n",
       "3 2018-03-02 11:00:00  \n",
       "4 2018-03-02 12:00:00  \n",
       "\n",
       "[5 rows x 23 columns]"
      ]
     },
     "execution_count": 67,
     "metadata": {},
     "output_type": "execute_result"
    }
   ],
   "source": [
    "merged_data1.drop(columns=['type_y'], inplace=True)\n",
    "merged_data1.head()"
   ]
  },
  {
   "cell_type": "markdown",
   "id": "ca1b5f2e",
   "metadata": {},
   "source": [
    "Dropped the type_y column as it was same as type_x column."
   ]
  },
  {
   "cell_type": "code",
   "execution_count": 68,
   "id": "d58cb0de",
   "metadata": {},
   "outputs": [],
   "source": [
    "merged_data1['order_date'] = pd.to_datetime(merged_data1['order_date'])"
   ]
  },
  {
   "cell_type": "code",
   "execution_count": 69,
   "id": "c588d6e5",
   "metadata": {},
   "outputs": [],
   "source": [
    "merged_data1['order_time'] = pd.to_datetime(merged_data1['order_time'])"
   ]
  },
  {
   "cell_type": "code",
   "execution_count": 70,
   "id": "997fcc52",
   "metadata": {},
   "outputs": [],
   "source": [
    "merged_data1['ship_out_time'] = pd.to_datetime(merged_data1['ship_out_time'])\n",
    "merged_data1['arr_station_time'] = pd.to_datetime(merged_data1['arr_station_time'])\n",
    "merged_data1['arr_time'] = pd.to_datetime(merged_data1['arr_time'])"
   ]
  },
  {
   "cell_type": "markdown",
   "id": "ad69b46b",
   "metadata": {},
   "source": [
    "Converted the columns 'order_date', 'order_time', 'ship_out_time', 'arr_station_time', 'arr_time' into datetime datatype."
   ]
  },
  {
   "cell_type": "code",
   "execution_count": 71,
   "id": "8b654e64",
   "metadata": {},
   "outputs": [],
   "source": [
    "merged_data1['order_day'] = merged_data1['order_date'].dt.day"
   ]
  },
  {
   "cell_type": "code",
   "execution_count": 72,
   "id": "86cf5c5e",
   "metadata": {},
   "outputs": [],
   "source": [
    "merged_data1['order_hour'] = merged_data1['order_time'].dt.hour"
   ]
  },
  {
   "cell_type": "code",
   "execution_count": 73,
   "id": "61ff07b3",
   "metadata": {},
   "outputs": [
    {
     "data": {
      "text/html": [
       "<div>\n",
       "<style scoped>\n",
       "    .dataframe tbody tr th:only-of-type {\n",
       "        vertical-align: middle;\n",
       "    }\n",
       "\n",
       "    .dataframe tbody tr th {\n",
       "        vertical-align: top;\n",
       "    }\n",
       "\n",
       "    .dataframe thead th {\n",
       "        text-align: right;\n",
       "    }\n",
       "</style>\n",
       "<table border=\"1\" class=\"dataframe\">\n",
       "  <thead>\n",
       "    <tr style=\"text-align: right;\">\n",
       "      <th></th>\n",
       "      <th>index</th>\n",
       "      <th>order_ID</th>\n",
       "      <th>user_ID</th>\n",
       "      <th>sku_ID</th>\n",
       "      <th>order_date</th>\n",
       "      <th>order_time</th>\n",
       "      <th>quantity</th>\n",
       "      <th>type_x</th>\n",
       "      <th>promise</th>\n",
       "      <th>original_unit_price</th>\n",
       "      <th>...</th>\n",
       "      <th>dc_ori</th>\n",
       "      <th>dc_des</th>\n",
       "      <th>brand_ID</th>\n",
       "      <th>package_ID</th>\n",
       "      <th>ship_out_time</th>\n",
       "      <th>arr_station_time</th>\n",
       "      <th>arr_time</th>\n",
       "      <th>order_day</th>\n",
       "      <th>order_hour</th>\n",
       "      <th>delivery_time</th>\n",
       "    </tr>\n",
       "  </thead>\n",
       "  <tbody>\n",
       "    <tr>\n",
       "      <th>0</th>\n",
       "      <td>2</td>\n",
       "      <td>7444318d01</td>\n",
       "      <td>33a9e56257</td>\n",
       "      <td>067b673f2b</td>\n",
       "      <td>2018-03-01</td>\n",
       "      <td>2018-03-01 11:10:40</td>\n",
       "      <td>1</td>\n",
       "      <td>1</td>\n",
       "      <td>2</td>\n",
       "      <td>99.9</td>\n",
       "      <td>...</td>\n",
       "      <td>28.0</td>\n",
       "      <td>28.0</td>\n",
       "      <td>9b0d3a5fc6</td>\n",
       "      <td>7444318d01</td>\n",
       "      <td>2018-03-01 13:00:00</td>\n",
       "      <td>2018-03-02 08:00:00</td>\n",
       "      <td>2018-03-02 14:00:00</td>\n",
       "      <td>1</td>\n",
       "      <td>11</td>\n",
       "      <td>1 days 02:49:20</td>\n",
       "    </tr>\n",
       "    <tr>\n",
       "      <th>1</th>\n",
       "      <td>3</td>\n",
       "      <td>f973b01694</td>\n",
       "      <td>4ea3cf408f</td>\n",
       "      <td>623d0a582a</td>\n",
       "      <td>2018-03-01</td>\n",
       "      <td>2018-03-01 09:13:26</td>\n",
       "      <td>1</td>\n",
       "      <td>1</td>\n",
       "      <td>2</td>\n",
       "      <td>78.0</td>\n",
       "      <td>...</td>\n",
       "      <td>28.0</td>\n",
       "      <td>28.0</td>\n",
       "      <td>-</td>\n",
       "      <td>f973b01694</td>\n",
       "      <td>2018-03-01 14:00:00</td>\n",
       "      <td>2018-03-02 09:00:00</td>\n",
       "      <td>2018-03-02 13:00:00</td>\n",
       "      <td>1</td>\n",
       "      <td>9</td>\n",
       "      <td>1 days 03:46:34</td>\n",
       "    </tr>\n",
       "    <tr>\n",
       "      <th>2</th>\n",
       "      <td>4</td>\n",
       "      <td>8c1cec8d4b</td>\n",
       "      <td>b87cb736cb</td>\n",
       "      <td>fc5289b139</td>\n",
       "      <td>2018-03-01</td>\n",
       "      <td>2018-03-01 21:29:50</td>\n",
       "      <td>1</td>\n",
       "      <td>1</td>\n",
       "      <td>2</td>\n",
       "      <td>61.0</td>\n",
       "      <td>...</td>\n",
       "      <td>4.0</td>\n",
       "      <td>28.0</td>\n",
       "      <td>-</td>\n",
       "      <td>8c1cec8d4b</td>\n",
       "      <td>2018-03-02 09:00:00</td>\n",
       "      <td>2018-03-03 08:00:00</td>\n",
       "      <td>2018-03-04 11:00:00</td>\n",
       "      <td>1</td>\n",
       "      <td>21</td>\n",
       "      <td>2 days 13:30:10</td>\n",
       "    </tr>\n",
       "    <tr>\n",
       "      <th>3</th>\n",
       "      <td>5</td>\n",
       "      <td>d43a33c38a</td>\n",
       "      <td>4829223b6f</td>\n",
       "      <td>623d0a582a</td>\n",
       "      <td>2018-03-01</td>\n",
       "      <td>2018-03-01 19:13:37</td>\n",
       "      <td>1</td>\n",
       "      <td>1</td>\n",
       "      <td>1</td>\n",
       "      <td>78.0</td>\n",
       "      <td>...</td>\n",
       "      <td>3.0</td>\n",
       "      <td>16.0</td>\n",
       "      <td>-</td>\n",
       "      <td>d43a33c38a</td>\n",
       "      <td>2018-03-01 20:00:00</td>\n",
       "      <td>2018-03-02 07:00:00</td>\n",
       "      <td>2018-03-02 11:00:00</td>\n",
       "      <td>1</td>\n",
       "      <td>19</td>\n",
       "      <td>0 days 15:46:23</td>\n",
       "    </tr>\n",
       "    <tr>\n",
       "      <th>4</th>\n",
       "      <td>6</td>\n",
       "      <td>e0f5386d87</td>\n",
       "      <td>0b07cae293</td>\n",
       "      <td>589c2b865b</td>\n",
       "      <td>2018-03-01</td>\n",
       "      <td>2018-03-01 21:09:15</td>\n",
       "      <td>1</td>\n",
       "      <td>1</td>\n",
       "      <td>1</td>\n",
       "      <td>79.9</td>\n",
       "      <td>...</td>\n",
       "      <td>3.0</td>\n",
       "      <td>16.0</td>\n",
       "      <td>9b0d3a5fc6</td>\n",
       "      <td>e0f5386d87</td>\n",
       "      <td>2018-03-01 22:00:00</td>\n",
       "      <td>2018-03-02 09:00:00</td>\n",
       "      <td>2018-03-02 12:00:00</td>\n",
       "      <td>1</td>\n",
       "      <td>21</td>\n",
       "      <td>0 days 14:50:45</td>\n",
       "    </tr>\n",
       "  </tbody>\n",
       "</table>\n",
       "<p>5 rows × 26 columns</p>\n",
       "</div>"
      ],
      "text/plain": [
       "   index    order_ID     user_ID      sku_ID order_date          order_time  \\\n",
       "0      2  7444318d01  33a9e56257  067b673f2b 2018-03-01 2018-03-01 11:10:40   \n",
       "1      3  f973b01694  4ea3cf408f  623d0a582a 2018-03-01 2018-03-01 09:13:26   \n",
       "2      4  8c1cec8d4b  b87cb736cb  fc5289b139 2018-03-01 2018-03-01 21:29:50   \n",
       "3      5  d43a33c38a  4829223b6f  623d0a582a 2018-03-01 2018-03-01 19:13:37   \n",
       "4      6  e0f5386d87  0b07cae293  589c2b865b 2018-03-01 2018-03-01 21:09:15   \n",
       "\n",
       "   quantity  type_x promise  original_unit_price  ...  dc_ori  dc_des  \\\n",
       "0         1       1       2                 99.9  ...    28.0    28.0   \n",
       "1         1       1       2                 78.0  ...    28.0    28.0   \n",
       "2         1       1       2                 61.0  ...     4.0    28.0   \n",
       "3         1       1       1                 78.0  ...     3.0    16.0   \n",
       "4         1       1       1                 79.9  ...     3.0    16.0   \n",
       "\n",
       "     brand_ID  package_ID       ship_out_time    arr_station_time  \\\n",
       "0  9b0d3a5fc6  7444318d01 2018-03-01 13:00:00 2018-03-02 08:00:00   \n",
       "1           -  f973b01694 2018-03-01 14:00:00 2018-03-02 09:00:00   \n",
       "2           -  8c1cec8d4b 2018-03-02 09:00:00 2018-03-03 08:00:00   \n",
       "3           -  d43a33c38a 2018-03-01 20:00:00 2018-03-02 07:00:00   \n",
       "4  9b0d3a5fc6  e0f5386d87 2018-03-01 22:00:00 2018-03-02 09:00:00   \n",
       "\n",
       "             arr_time  order_day order_hour   delivery_time  \n",
       "0 2018-03-02 14:00:00          1         11 1 days 02:49:20  \n",
       "1 2018-03-02 13:00:00          1          9 1 days 03:46:34  \n",
       "2 2018-03-04 11:00:00          1         21 2 days 13:30:10  \n",
       "3 2018-03-02 11:00:00          1         19 0 days 15:46:23  \n",
       "4 2018-03-02 12:00:00          1         21 0 days 14:50:45  \n",
       "\n",
       "[5 rows x 26 columns]"
      ]
     },
     "execution_count": 73,
     "metadata": {},
     "output_type": "execute_result"
    }
   ],
   "source": [
    "merged_data1['delivery_time'] = merged_data1['arr_time'] - merged_data1['order_time']\n",
    "merged_data1.head()"
   ]
  },
  {
   "cell_type": "code",
   "execution_count": 74,
   "id": "ede5b468",
   "metadata": {},
   "outputs": [
    {
     "data": {
      "text/html": [
       "<div>\n",
       "<style scoped>\n",
       "    .dataframe tbody tr th:only-of-type {\n",
       "        vertical-align: middle;\n",
       "    }\n",
       "\n",
       "    .dataframe tbody tr th {\n",
       "        vertical-align: top;\n",
       "    }\n",
       "\n",
       "    .dataframe thead th {\n",
       "        text-align: right;\n",
       "    }\n",
       "</style>\n",
       "<table border=\"1\" class=\"dataframe\">\n",
       "  <thead>\n",
       "    <tr style=\"text-align: right;\">\n",
       "      <th></th>\n",
       "      <th>index</th>\n",
       "      <th>order_ID</th>\n",
       "      <th>user_ID</th>\n",
       "      <th>sku_ID</th>\n",
       "      <th>order_date</th>\n",
       "      <th>order_time</th>\n",
       "      <th>quantity</th>\n",
       "      <th>type</th>\n",
       "      <th>promise</th>\n",
       "      <th>original_unit_price</th>\n",
       "      <th>final_unit_price</th>\n",
       "      <th>direct_discount_per_unit</th>\n",
       "      <th>quantity_discount_per_unit</th>\n",
       "      <th>bundle_discount_per_unit</th>\n",
       "      <th>coupon_discount_per_unit</th>\n",
       "      <th>gift_item</th>\n",
       "      <th>dc_ori</th>\n",
       "      <th>dc_des</th>\n",
       "      <th>brand_ID</th>\n",
       "    </tr>\n",
       "  </thead>\n",
       "  <tbody>\n",
       "    <tr>\n",
       "      <th>0</th>\n",
       "      <td>1</td>\n",
       "      <td>d0cf5cc6db</td>\n",
       "      <td>0abe9ef2ce</td>\n",
       "      <td>581d5b54c1</td>\n",
       "      <td>2018-03-01</td>\n",
       "      <td>2018-03-01 17:14:25</td>\n",
       "      <td>1</td>\n",
       "      <td>2</td>\n",
       "      <td>None</td>\n",
       "      <td>89.0</td>\n",
       "      <td>79.0</td>\n",
       "      <td>0.0</td>\n",
       "      <td>10.0</td>\n",
       "      <td>0.0</td>\n",
       "      <td>0.0</td>\n",
       "      <td>0.0</td>\n",
       "      <td>4.0</td>\n",
       "      <td>28.0</td>\n",
       "      <td>198cec62a1</td>\n",
       "    </tr>\n",
       "    <tr>\n",
       "      <th>1</th>\n",
       "      <td>2</td>\n",
       "      <td>7444318d01</td>\n",
       "      <td>33a9e56257</td>\n",
       "      <td>067b673f2b</td>\n",
       "      <td>2018-03-01</td>\n",
       "      <td>2018-03-01 11:10:40</td>\n",
       "      <td>1</td>\n",
       "      <td>1</td>\n",
       "      <td>2</td>\n",
       "      <td>99.9</td>\n",
       "      <td>53.9</td>\n",
       "      <td>5.0</td>\n",
       "      <td>41.0</td>\n",
       "      <td>0.0</td>\n",
       "      <td>0.0</td>\n",
       "      <td>0.0</td>\n",
       "      <td>28.0</td>\n",
       "      <td>28.0</td>\n",
       "      <td>9b0d3a5fc6</td>\n",
       "    </tr>\n",
       "    <tr>\n",
       "      <th>2</th>\n",
       "      <td>3</td>\n",
       "      <td>f973b01694</td>\n",
       "      <td>4ea3cf408f</td>\n",
       "      <td>623d0a582a</td>\n",
       "      <td>2018-03-01</td>\n",
       "      <td>2018-03-01 09:13:26</td>\n",
       "      <td>1</td>\n",
       "      <td>1</td>\n",
       "      <td>2</td>\n",
       "      <td>78.0</td>\n",
       "      <td>58.5</td>\n",
       "      <td>19.5</td>\n",
       "      <td>0.0</td>\n",
       "      <td>0.0</td>\n",
       "      <td>0.0</td>\n",
       "      <td>0.0</td>\n",
       "      <td>28.0</td>\n",
       "      <td>28.0</td>\n",
       "      <td>-</td>\n",
       "    </tr>\n",
       "    <tr>\n",
       "      <th>3</th>\n",
       "      <td>4</td>\n",
       "      <td>8c1cec8d4b</td>\n",
       "      <td>b87cb736cb</td>\n",
       "      <td>fc5289b139</td>\n",
       "      <td>2018-03-01</td>\n",
       "      <td>2018-03-01 21:29:50</td>\n",
       "      <td>1</td>\n",
       "      <td>1</td>\n",
       "      <td>2</td>\n",
       "      <td>61.0</td>\n",
       "      <td>35.0</td>\n",
       "      <td>0.0</td>\n",
       "      <td>26.0</td>\n",
       "      <td>0.0</td>\n",
       "      <td>0.0</td>\n",
       "      <td>0.0</td>\n",
       "      <td>4.0</td>\n",
       "      <td>28.0</td>\n",
       "      <td>-</td>\n",
       "    </tr>\n",
       "    <tr>\n",
       "      <th>4</th>\n",
       "      <td>5</td>\n",
       "      <td>d43a33c38a</td>\n",
       "      <td>4829223b6f</td>\n",
       "      <td>623d0a582a</td>\n",
       "      <td>2018-03-01</td>\n",
       "      <td>2018-03-01 19:13:37</td>\n",
       "      <td>1</td>\n",
       "      <td>1</td>\n",
       "      <td>1</td>\n",
       "      <td>78.0</td>\n",
       "      <td>53.0</td>\n",
       "      <td>19.0</td>\n",
       "      <td>0.0</td>\n",
       "      <td>0.0</td>\n",
       "      <td>6.0</td>\n",
       "      <td>0.0</td>\n",
       "      <td>3.0</td>\n",
       "      <td>16.0</td>\n",
       "      <td>-</td>\n",
       "    </tr>\n",
       "    <tr>\n",
       "      <th>5</th>\n",
       "      <td>6</td>\n",
       "      <td>e0f5386d87</td>\n",
       "      <td>0b07cae293</td>\n",
       "      <td>589c2b865b</td>\n",
       "      <td>2018-03-01</td>\n",
       "      <td>2018-03-01 21:09:15</td>\n",
       "      <td>1</td>\n",
       "      <td>1</td>\n",
       "      <td>1</td>\n",
       "      <td>79.9</td>\n",
       "      <td>38.9</td>\n",
       "      <td>4.0</td>\n",
       "      <td>37.0</td>\n",
       "      <td>0.0</td>\n",
       "      <td>0.0</td>\n",
       "      <td>0.0</td>\n",
       "      <td>3.0</td>\n",
       "      <td>16.0</td>\n",
       "      <td>9b0d3a5fc6</td>\n",
       "    </tr>\n",
       "    <tr>\n",
       "      <th>6</th>\n",
       "      <td>7</td>\n",
       "      <td>89286e5fd9</td>\n",
       "      <td>79154d0001</td>\n",
       "      <td>6717b7c979</td>\n",
       "      <td>2018-03-01</td>\n",
       "      <td>2018-03-01 22:18:41</td>\n",
       "      <td>1</td>\n",
       "      <td>1</td>\n",
       "      <td>1</td>\n",
       "      <td>0.0</td>\n",
       "      <td>0.0</td>\n",
       "      <td>0.0</td>\n",
       "      <td>0.0</td>\n",
       "      <td>0.0</td>\n",
       "      <td>0.0</td>\n",
       "      <td>1.0</td>\n",
       "      <td>3.0</td>\n",
       "      <td>16.0</td>\n",
       "      <td>204dbedf50</td>\n",
       "    </tr>\n",
       "    <tr>\n",
       "      <th>7</th>\n",
       "      <td>8</td>\n",
       "      <td>72585b87a6</td>\n",
       "      <td>d5e8910932</td>\n",
       "      <td>d829f03a28</td>\n",
       "      <td>2018-03-01</td>\n",
       "      <td>2018-03-01 15:28:49</td>\n",
       "      <td>2</td>\n",
       "      <td>1</td>\n",
       "      <td>1</td>\n",
       "      <td>79.9</td>\n",
       "      <td>40.9</td>\n",
       "      <td>0.0</td>\n",
       "      <td>39.0</td>\n",
       "      <td>0.0</td>\n",
       "      <td>0.0</td>\n",
       "      <td>0.0</td>\n",
       "      <td>3.0</td>\n",
       "      <td>16.0</td>\n",
       "      <td>9b0d3a5fc6</td>\n",
       "    </tr>\n",
       "    <tr>\n",
       "      <th>8</th>\n",
       "      <td>9</td>\n",
       "      <td>72585b87a6</td>\n",
       "      <td>d5e8910932</td>\n",
       "      <td>5f58bfd286</td>\n",
       "      <td>2018-03-01</td>\n",
       "      <td>2018-03-01 15:28:49</td>\n",
       "      <td>1</td>\n",
       "      <td>1</td>\n",
       "      <td>1</td>\n",
       "      <td>79.9</td>\n",
       "      <td>37.9</td>\n",
       "      <td>4.0</td>\n",
       "      <td>38.0</td>\n",
       "      <td>0.0</td>\n",
       "      <td>0.0</td>\n",
       "      <td>0.0</td>\n",
       "      <td>3.0</td>\n",
       "      <td>16.0</td>\n",
       "      <td>9b0d3a5fc6</td>\n",
       "    </tr>\n",
       "    <tr>\n",
       "      <th>9</th>\n",
       "      <td>10</td>\n",
       "      <td>9c65b6264b</td>\n",
       "      <td>2021a86702</td>\n",
       "      <td>068f4481b3</td>\n",
       "      <td>2018-03-01</td>\n",
       "      <td>2018-03-01 00:12:07</td>\n",
       "      <td>1</td>\n",
       "      <td>1</td>\n",
       "      <td>1</td>\n",
       "      <td>298.0</td>\n",
       "      <td>208.0</td>\n",
       "      <td>90.0</td>\n",
       "      <td>0.0</td>\n",
       "      <td>0.0</td>\n",
       "      <td>0.0</td>\n",
       "      <td>0.0</td>\n",
       "      <td>3.0</td>\n",
       "      <td>16.0</td>\n",
       "      <td>99d41501ff</td>\n",
       "    </tr>\n",
       "  </tbody>\n",
       "</table>\n",
       "</div>"
      ],
      "text/plain": [
       "   index    order_ID     user_ID      sku_ID  order_date          order_time  \\\n",
       "0      1  d0cf5cc6db  0abe9ef2ce  581d5b54c1  2018-03-01 2018-03-01 17:14:25   \n",
       "1      2  7444318d01  33a9e56257  067b673f2b  2018-03-01 2018-03-01 11:10:40   \n",
       "2      3  f973b01694  4ea3cf408f  623d0a582a  2018-03-01 2018-03-01 09:13:26   \n",
       "3      4  8c1cec8d4b  b87cb736cb  fc5289b139  2018-03-01 2018-03-01 21:29:50   \n",
       "4      5  d43a33c38a  4829223b6f  623d0a582a  2018-03-01 2018-03-01 19:13:37   \n",
       "5      6  e0f5386d87  0b07cae293  589c2b865b  2018-03-01 2018-03-01 21:09:15   \n",
       "6      7  89286e5fd9  79154d0001  6717b7c979  2018-03-01 2018-03-01 22:18:41   \n",
       "7      8  72585b87a6  d5e8910932  d829f03a28  2018-03-01 2018-03-01 15:28:49   \n",
       "8      9  72585b87a6  d5e8910932  5f58bfd286  2018-03-01 2018-03-01 15:28:49   \n",
       "9     10  9c65b6264b  2021a86702  068f4481b3  2018-03-01 2018-03-01 00:12:07   \n",
       "\n",
       "   quantity  type promise  original_unit_price  final_unit_price  \\\n",
       "0         1     2    None                 89.0              79.0   \n",
       "1         1     1       2                 99.9              53.9   \n",
       "2         1     1       2                 78.0              58.5   \n",
       "3         1     1       2                 61.0              35.0   \n",
       "4         1     1       1                 78.0              53.0   \n",
       "5         1     1       1                 79.9              38.9   \n",
       "6         1     1       1                  0.0               0.0   \n",
       "7         2     1       1                 79.9              40.9   \n",
       "8         1     1       1                 79.9              37.9   \n",
       "9         1     1       1                298.0             208.0   \n",
       "\n",
       "   direct_discount_per_unit  quantity_discount_per_unit  \\\n",
       "0                       0.0                        10.0   \n",
       "1                       5.0                        41.0   \n",
       "2                      19.5                         0.0   \n",
       "3                       0.0                        26.0   \n",
       "4                      19.0                         0.0   \n",
       "5                       4.0                        37.0   \n",
       "6                       0.0                         0.0   \n",
       "7                       0.0                        39.0   \n",
       "8                       4.0                        38.0   \n",
       "9                      90.0                         0.0   \n",
       "\n",
       "   bundle_discount_per_unit  coupon_discount_per_unit  gift_item  dc_ori  \\\n",
       "0                       0.0                       0.0        0.0     4.0   \n",
       "1                       0.0                       0.0        0.0    28.0   \n",
       "2                       0.0                       0.0        0.0    28.0   \n",
       "3                       0.0                       0.0        0.0     4.0   \n",
       "4                       0.0                       6.0        0.0     3.0   \n",
       "5                       0.0                       0.0        0.0     3.0   \n",
       "6                       0.0                       0.0        1.0     3.0   \n",
       "7                       0.0                       0.0        0.0     3.0   \n",
       "8                       0.0                       0.0        0.0     3.0   \n",
       "9                       0.0                       0.0        0.0     3.0   \n",
       "\n",
       "   dc_des    brand_ID  \n",
       "0    28.0  198cec62a1  \n",
       "1    28.0  9b0d3a5fc6  \n",
       "2    28.0           -  \n",
       "3    28.0           -  \n",
       "4    16.0           -  \n",
       "5    16.0  9b0d3a5fc6  \n",
       "6    16.0  204dbedf50  \n",
       "7    16.0  9b0d3a5fc6  \n",
       "8    16.0  9b0d3a5fc6  \n",
       "9    16.0  99d41501ff  "
      ]
     },
     "execution_count": 74,
     "metadata": {},
     "output_type": "execute_result"
    }
   ],
   "source": [
    "order.head(10)"
   ]
  },
  {
   "cell_type": "code",
   "execution_count": 75,
   "id": "ad0c9e47",
   "metadata": {},
   "outputs": [
    {
     "name": "stdout",
     "output_type": "stream",
     "text": [
      "<class 'pandas.core.frame.DataFrame'>\n",
      "Int64Index: 322827 entries, 0 to 322826\n",
      "Data columns (total 26 columns):\n",
      " #   Column                      Non-Null Count   Dtype          \n",
      "---  ------                      --------------   -----          \n",
      " 0   index                       322827 non-null  int64          \n",
      " 1   order_ID                    322827 non-null  object         \n",
      " 2   user_ID                     322827 non-null  object         \n",
      " 3   sku_ID                      322827 non-null  object         \n",
      " 4   order_date                  322827 non-null  datetime64[ns] \n",
      " 5   order_time                  322827 non-null  datetime64[ns] \n",
      " 6   quantity                    322827 non-null  int64          \n",
      " 7   type_x                      322827 non-null  int64          \n",
      " 8   promise                     321120 non-null  object         \n",
      " 9   original_unit_price         322827 non-null  float64        \n",
      " 10  final_unit_price            322827 non-null  float64        \n",
      " 11  direct_discount_per_unit    322827 non-null  float64        \n",
      " 12  quantity_discount_per_unit  322827 non-null  float64        \n",
      " 13  bundle_discount_per_unit    322827 non-null  float64        \n",
      " 14  coupon_discount_per_unit    322827 non-null  float64        \n",
      " 15  gift_item                   322827 non-null  float64        \n",
      " 16  dc_ori                      322827 non-null  float64        \n",
      " 17  dc_des                      322827 non-null  float64        \n",
      " 18  brand_ID                    322827 non-null  object         \n",
      " 19  package_ID                  322827 non-null  object         \n",
      " 20  ship_out_time               322827 non-null  datetime64[ns] \n",
      " 21  arr_station_time            322827 non-null  datetime64[ns] \n",
      " 22  arr_time                    322827 non-null  datetime64[ns] \n",
      " 23  order_day                   322827 non-null  int64          \n",
      " 24  order_hour                  322827 non-null  int64          \n",
      " 25  delivery_time               322827 non-null  timedelta64[ns]\n",
      "dtypes: datetime64[ns](5), float64(9), int64(5), object(6), timedelta64[ns](1)\n",
      "memory usage: 66.5+ MB\n"
     ]
    }
   ],
   "source": [
    "merged_data1['delivery_time'] = pd.to_timedelta(merged_data1['delivery_time'])\n",
    "merged_data1.info()\n",
    "def convert_to_hours(td):\n",
    "    return td.total_seconds() / 3600\n",
    "\n",
    "merged_data1['delivery_time_hours'] = merged_data1['delivery_time'].apply(convert_to_hours)"
   ]
  },
  {
   "cell_type": "code",
   "execution_count": 76,
   "id": "5b6c3b4a",
   "metadata": {},
   "outputs": [
    {
     "data": {
      "text/html": [
       "<div>\n",
       "<style scoped>\n",
       "    .dataframe tbody tr th:only-of-type {\n",
       "        vertical-align: middle;\n",
       "    }\n",
       "\n",
       "    .dataframe tbody tr th {\n",
       "        vertical-align: top;\n",
       "    }\n",
       "\n",
       "    .dataframe thead th {\n",
       "        text-align: right;\n",
       "    }\n",
       "</style>\n",
       "<table border=\"1\" class=\"dataframe\">\n",
       "  <thead>\n",
       "    <tr style=\"text-align: right;\">\n",
       "      <th></th>\n",
       "      <th>index</th>\n",
       "      <th>order_ID</th>\n",
       "      <th>user_ID</th>\n",
       "      <th>sku_ID</th>\n",
       "      <th>order_date</th>\n",
       "      <th>order_time</th>\n",
       "      <th>quantity</th>\n",
       "      <th>type_x</th>\n",
       "      <th>promise</th>\n",
       "      <th>original_unit_price</th>\n",
       "      <th>...</th>\n",
       "      <th>dc_des</th>\n",
       "      <th>brand_ID</th>\n",
       "      <th>package_ID</th>\n",
       "      <th>ship_out_time</th>\n",
       "      <th>arr_station_time</th>\n",
       "      <th>arr_time</th>\n",
       "      <th>order_day</th>\n",
       "      <th>order_hour</th>\n",
       "      <th>delivery_time</th>\n",
       "      <th>delivery_time_hours</th>\n",
       "    </tr>\n",
       "  </thead>\n",
       "  <tbody>\n",
       "    <tr>\n",
       "      <th>0</th>\n",
       "      <td>2</td>\n",
       "      <td>7444318d01</td>\n",
       "      <td>33a9e56257</td>\n",
       "      <td>067b673f2b</td>\n",
       "      <td>2018-03-01</td>\n",
       "      <td>2018-03-01 11:10:40</td>\n",
       "      <td>1</td>\n",
       "      <td>1</td>\n",
       "      <td>2</td>\n",
       "      <td>99.9</td>\n",
       "      <td>...</td>\n",
       "      <td>28.0</td>\n",
       "      <td>9b0d3a5fc6</td>\n",
       "      <td>7444318d01</td>\n",
       "      <td>2018-03-01 13:00:00</td>\n",
       "      <td>2018-03-02 08:00:00</td>\n",
       "      <td>2018-03-02 14:00:00</td>\n",
       "      <td>1</td>\n",
       "      <td>11</td>\n",
       "      <td>1 days 02:49:20</td>\n",
       "      <td>26.822222</td>\n",
       "    </tr>\n",
       "    <tr>\n",
       "      <th>1</th>\n",
       "      <td>3</td>\n",
       "      <td>f973b01694</td>\n",
       "      <td>4ea3cf408f</td>\n",
       "      <td>623d0a582a</td>\n",
       "      <td>2018-03-01</td>\n",
       "      <td>2018-03-01 09:13:26</td>\n",
       "      <td>1</td>\n",
       "      <td>1</td>\n",
       "      <td>2</td>\n",
       "      <td>78.0</td>\n",
       "      <td>...</td>\n",
       "      <td>28.0</td>\n",
       "      <td>-</td>\n",
       "      <td>f973b01694</td>\n",
       "      <td>2018-03-01 14:00:00</td>\n",
       "      <td>2018-03-02 09:00:00</td>\n",
       "      <td>2018-03-02 13:00:00</td>\n",
       "      <td>1</td>\n",
       "      <td>9</td>\n",
       "      <td>1 days 03:46:34</td>\n",
       "      <td>27.776111</td>\n",
       "    </tr>\n",
       "    <tr>\n",
       "      <th>2</th>\n",
       "      <td>4</td>\n",
       "      <td>8c1cec8d4b</td>\n",
       "      <td>b87cb736cb</td>\n",
       "      <td>fc5289b139</td>\n",
       "      <td>2018-03-01</td>\n",
       "      <td>2018-03-01 21:29:50</td>\n",
       "      <td>1</td>\n",
       "      <td>1</td>\n",
       "      <td>2</td>\n",
       "      <td>61.0</td>\n",
       "      <td>...</td>\n",
       "      <td>28.0</td>\n",
       "      <td>-</td>\n",
       "      <td>8c1cec8d4b</td>\n",
       "      <td>2018-03-02 09:00:00</td>\n",
       "      <td>2018-03-03 08:00:00</td>\n",
       "      <td>2018-03-04 11:00:00</td>\n",
       "      <td>1</td>\n",
       "      <td>21</td>\n",
       "      <td>2 days 13:30:10</td>\n",
       "      <td>61.502778</td>\n",
       "    </tr>\n",
       "    <tr>\n",
       "      <th>3</th>\n",
       "      <td>5</td>\n",
       "      <td>d43a33c38a</td>\n",
       "      <td>4829223b6f</td>\n",
       "      <td>623d0a582a</td>\n",
       "      <td>2018-03-01</td>\n",
       "      <td>2018-03-01 19:13:37</td>\n",
       "      <td>1</td>\n",
       "      <td>1</td>\n",
       "      <td>1</td>\n",
       "      <td>78.0</td>\n",
       "      <td>...</td>\n",
       "      <td>16.0</td>\n",
       "      <td>-</td>\n",
       "      <td>d43a33c38a</td>\n",
       "      <td>2018-03-01 20:00:00</td>\n",
       "      <td>2018-03-02 07:00:00</td>\n",
       "      <td>2018-03-02 11:00:00</td>\n",
       "      <td>1</td>\n",
       "      <td>19</td>\n",
       "      <td>0 days 15:46:23</td>\n",
       "      <td>15.773056</td>\n",
       "    </tr>\n",
       "    <tr>\n",
       "      <th>4</th>\n",
       "      <td>6</td>\n",
       "      <td>e0f5386d87</td>\n",
       "      <td>0b07cae293</td>\n",
       "      <td>589c2b865b</td>\n",
       "      <td>2018-03-01</td>\n",
       "      <td>2018-03-01 21:09:15</td>\n",
       "      <td>1</td>\n",
       "      <td>1</td>\n",
       "      <td>1</td>\n",
       "      <td>79.9</td>\n",
       "      <td>...</td>\n",
       "      <td>16.0</td>\n",
       "      <td>9b0d3a5fc6</td>\n",
       "      <td>e0f5386d87</td>\n",
       "      <td>2018-03-01 22:00:00</td>\n",
       "      <td>2018-03-02 09:00:00</td>\n",
       "      <td>2018-03-02 12:00:00</td>\n",
       "      <td>1</td>\n",
       "      <td>21</td>\n",
       "      <td>0 days 14:50:45</td>\n",
       "      <td>14.845833</td>\n",
       "    </tr>\n",
       "  </tbody>\n",
       "</table>\n",
       "<p>5 rows × 27 columns</p>\n",
       "</div>"
      ],
      "text/plain": [
       "   index    order_ID     user_ID      sku_ID order_date          order_time  \\\n",
       "0      2  7444318d01  33a9e56257  067b673f2b 2018-03-01 2018-03-01 11:10:40   \n",
       "1      3  f973b01694  4ea3cf408f  623d0a582a 2018-03-01 2018-03-01 09:13:26   \n",
       "2      4  8c1cec8d4b  b87cb736cb  fc5289b139 2018-03-01 2018-03-01 21:29:50   \n",
       "3      5  d43a33c38a  4829223b6f  623d0a582a 2018-03-01 2018-03-01 19:13:37   \n",
       "4      6  e0f5386d87  0b07cae293  589c2b865b 2018-03-01 2018-03-01 21:09:15   \n",
       "\n",
       "   quantity  type_x promise  original_unit_price  ...  dc_des    brand_ID  \\\n",
       "0         1       1       2                 99.9  ...    28.0  9b0d3a5fc6   \n",
       "1         1       1       2                 78.0  ...    28.0           -   \n",
       "2         1       1       2                 61.0  ...    28.0           -   \n",
       "3         1       1       1                 78.0  ...    16.0           -   \n",
       "4         1       1       1                 79.9  ...    16.0  9b0d3a5fc6   \n",
       "\n",
       "   package_ID       ship_out_time    arr_station_time            arr_time  \\\n",
       "0  7444318d01 2018-03-01 13:00:00 2018-03-02 08:00:00 2018-03-02 14:00:00   \n",
       "1  f973b01694 2018-03-01 14:00:00 2018-03-02 09:00:00 2018-03-02 13:00:00   \n",
       "2  8c1cec8d4b 2018-03-02 09:00:00 2018-03-03 08:00:00 2018-03-04 11:00:00   \n",
       "3  d43a33c38a 2018-03-01 20:00:00 2018-03-02 07:00:00 2018-03-02 11:00:00   \n",
       "4  e0f5386d87 2018-03-01 22:00:00 2018-03-02 09:00:00 2018-03-02 12:00:00   \n",
       "\n",
       "   order_day  order_hour   delivery_time delivery_time_hours  \n",
       "0          1          11 1 days 02:49:20           26.822222  \n",
       "1          1           9 1 days 03:46:34           27.776111  \n",
       "2          1          21 2 days 13:30:10           61.502778  \n",
       "3          1          19 0 days 15:46:23           15.773056  \n",
       "4          1          21 0 days 14:50:45           14.845833  \n",
       "\n",
       "[5 rows x 27 columns]"
      ]
     },
     "execution_count": 76,
     "metadata": {},
     "output_type": "execute_result"
    }
   ],
   "source": [
    "merged_data1.head()"
   ]
  },
  {
   "cell_type": "markdown",
   "id": "a1146626",
   "metadata": {},
   "source": [
    "Converted 'order_day' and 'order_hour' into day and hours respectively. Calculated the 'delivery_time' by subtracting order time from delivery time and converted it into hours. Delivery time in hours is obtained."
   ]
  },
  {
   "cell_type": "markdown",
   "id": "ba1d6ff7",
   "metadata": {},
   "source": [
    "## Which age group is more likely to make purchases based on their education level."
   ]
  },
  {
   "cell_type": "code",
   "execution_count": 77,
   "id": "6f1d2ff5",
   "metadata": {},
   "outputs": [
    {
     "name": "stdout",
     "output_type": "stream",
     "text": [
      "education     0      1       2      3\n",
      "age                                  \n",
      "0             1      8      16      5\n",
      "1          3313  33274   74287   7066\n",
      "2          4249  39173  136250  29235\n",
      "3          2228  17404   53747  19151\n",
      "4           589   4508   12731   3444\n",
      "5           443   3431   10310   2435\n"
     ]
    }
   ],
   "source": [
    "pivot_table = pd.pivot_table(user,values='user_ID',index='age',columns='education',aggfunc='count',fill_value=0)\n",
    "print(pivot_table)"
   ]
  },
  {
   "cell_type": "code",
   "execution_count": 78,
   "id": "bab7b2c5",
   "metadata": {},
   "outputs": [
    {
     "name": "stdout",
     "output_type": "stream",
     "text": [
      "age      0      1       2      3      4      5\n",
      "gender                                        \n",
      "0       12  29609   56733  25920   5620   4499\n",
      "1       18  88331  152174  66610  15652  12120\n"
     ]
    }
   ],
   "source": [
    "target = pd.pivot_table(user,values='user_ID',index='gender',columns='age',aggfunc='count',fill_value=0)\n",
    "print(target)"
   ]
  },
  {
   "cell_type": "markdown",
   "id": "5e175649",
   "metadata": {},
   "source": [
    "## What times users are most likely to shop"
   ]
  },
  {
   "cell_type": "code",
   "execution_count": 79,
   "id": "0bdf006b",
   "metadata": {},
   "outputs": [
    {
     "name": "stdout",
     "output_type": "stream",
     "text": [
      "order_day\n",
      "1     37803\n",
      "2     14066\n",
      "3     15805\n",
      "4     15377\n",
      "5     16255\n",
      "6     15394\n",
      "7     19148\n",
      "8     23988\n",
      "9     14880\n",
      "10     6240\n",
      "11     6570\n",
      "12     8095\n",
      "13     8739\n",
      "14     8141\n",
      "15     7720\n",
      "16     8191\n",
      "17     6437\n",
      "18     6008\n",
      "19     7437\n",
      "20     7260\n",
      "21     9330\n",
      "22     9989\n",
      "23    14022\n",
      "24     9473\n",
      "25    12005\n",
      "26    11517\n",
      "27    14081\n",
      "28    16458\n",
      "29    13380\n",
      "30    14294\n",
      "31    13596\n",
      "Name: quantity, dtype: int64\n"
     ]
    },
    {
     "data": {
      "text/plain": [
       "<Figure size 720x360 with 0 Axes>"
      ]
     },
     "execution_count": 79,
     "metadata": {},
     "output_type": "execute_result"
    },
    {
     "data": {
      "text/plain": [
       "[<matplotlib.lines.Line2D at 0x23002d9ffd0>]"
      ]
     },
     "execution_count": 79,
     "metadata": {},
     "output_type": "execute_result"
    },
    {
     "data": {
      "text/plain": [
       "Text(0.5, 1.0, 'Daily Quantity Sold')"
      ]
     },
     "execution_count": 79,
     "metadata": {},
     "output_type": "execute_result"
    },
    {
     "data": {
      "text/plain": [
       "Text(0.5, 0, 'Day')"
      ]
     },
     "execution_count": 79,
     "metadata": {},
     "output_type": "execute_result"
    },
    {
     "data": {
      "text/plain": [
       "Text(0, 0.5, 'Quantity Sold')"
      ]
     },
     "execution_count": 79,
     "metadata": {},
     "output_type": "execute_result"
    },
    {
     "data": {
      "image/png": "[encoded data removed]",
      "text/plain": [
       "<Figure size 720x360 with 1 Axes>"
      ]
     },
     "metadata": {
      "needs_background": "light"
     },
     "output_type": "display_data"
    },
    {
     "name": "stdout",
     "output_type": "stream",
     "text": [
      "The day with the most quantity sold is 1 with a total quantity of 37803.\n"
     ]
    }
   ],
   "source": [
    "daily_quantity = merged_data1.groupby('order_day')['quantity'].sum()\n",
    "print(daily_quantity)\n",
    "plt.figure(figsize=(10, 5))\n",
    "plt.plot(daily_quantity.index, daily_quantity.values, marker='o', linestyle='-')\n",
    "plt.title('Daily Quantity Sold')\n",
    "plt.xlabel('Day')\n",
    "plt.ylabel('Quantity Sold')\n",
    "plt.grid(True)\n",
    "plt.show()\n",
    "\n",
    "max_quantity_day = daily_quantity.idxmax()\n",
    "max_quantity = daily_quantity.max()\n",
    "\n",
    "print(f\"The day with the most quantity sold is {max_quantity_day} with a total quantity of {max_quantity}.\")\n",
    "#First day of the months have most quantity sold."
   ]
  },
  {
   "cell_type": "code",
   "execution_count": 80,
   "id": "2709fb33",
   "metadata": {},
   "outputs": [
    {
     "name": "stdout",
     "output_type": "stream",
     "text": [
      "order_hour\n",
      "0     13476\n",
      "1      5903\n",
      "2      2137\n",
      "3      1203\n",
      "4       965\n",
      "5      1263\n",
      "6      3616\n",
      "7      8346\n",
      "8     15760\n",
      "9     21426\n",
      "10    29954\n",
      "11    24157\n",
      "12    21584\n",
      "13    24982\n",
      "14    24481\n",
      "15    24457\n",
      "16    22295\n",
      "17    17757\n",
      "18    15471\n",
      "19    16543\n",
      "20    21238\n",
      "21    25172\n",
      "22    28575\n",
      "23    20938\n",
      "Name: quantity, dtype: int64\n"
     ]
    },
    {
     "data": {
      "text/plain": [
       "<Figure size 720x360 with 0 Axes>"
      ]
     },
     "execution_count": 80,
     "metadata": {},
     "output_type": "execute_result"
    },
    {
     "data": {
      "text/plain": [
       "[<matplotlib.lines.Line2D at 0x23001366250>]"
      ]
     },
     "execution_count": 80,
     "metadata": {},
     "output_type": "execute_result"
    },
    {
     "data": {
      "text/plain": [
       "Text(0.5, 1.0, 'Hourly Quantity Sold')"
      ]
     },
     "execution_count": 80,
     "metadata": {},
     "output_type": "execute_result"
    },
    {
     "data": {
      "text/plain": [
       "Text(0.5, 0, 'Hour of the Day')"
      ]
     },
     "execution_count": 80,
     "metadata": {},
     "output_type": "execute_result"
    },
    {
     "data": {
      "text/plain": [
       "Text(0, 0.5, 'Quantity Sold')"
      ]
     },
     "execution_count": 80,
     "metadata": {},
     "output_type": "execute_result"
    },
    {
     "data": {
      "image/png": "[encoded data removed]",
      "text/plain": [
       "<Figure size 720x360 with 1 Axes>"
      ]
     },
     "metadata": {
      "needs_background": "light"
     },
     "output_type": "display_data"
    },
    {
     "name": "stdout",
     "output_type": "stream",
     "text": [
      "The peak time for orders during a day is at 10 with a total quantity of 29954.\n"
     ]
    }
   ],
   "source": [
    "hourly_quantity = merged_data1.groupby('order_hour')['quantity'].sum()\n",
    "print(hourly_quantity)\n",
    "# Create a line graph for order trends over the day\n",
    "plt.figure(figsize=(10, 5))\n",
    "plt.plot(hourly_quantity.index, hourly_quantity.values, marker='o', linestyle='-', color='orange')\n",
    "plt.title('Hourly Quantity Sold')\n",
    "plt.xlabel('Hour of the Day')\n",
    "plt.ylabel('Quantity Sold')\n",
    "plt.grid(True)\n",
    "plt.show()\n",
    "\n",
    "# Find the peak time for orders during a day\n",
    "peak_hour = hourly_quantity.idxmax()\n",
    "peak_quantity = hourly_quantity.max()\n",
    "\n",
    "print(f\"The peak time for orders during a day is at {peak_hour} with a total quantity of {peak_quantity}.\")\n",
    "#We can see that the time of orders placed have an increasing trend from 5 A.M and reach maximum at 10 A.M\n",
    "#Then the trend have a up and down cycle and again reach second highest spot at 10 P.M and reduces slowly again till 4 A.M"
   ]
  },
  {
   "cell_type": "code",
   "execution_count": 81,
   "id": "43fabf19",
   "metadata": {},
   "outputs": [
    {
     "data": {
      "text/plain": [
       "<AxesSubplot:>"
      ]
     },
     "execution_count": 81,
     "metadata": {},
     "output_type": "execute_result"
    },
    {
     "data": {
      "text/plain": [
       "Text(0.5, 1.0, 'New Users trend')"
      ]
     },
     "execution_count": 81,
     "metadata": {},
     "output_type": "execute_result"
    },
    {
     "data": {
      "text/plain": [
       "Text(0.5, 0, 'Year')"
      ]
     },
     "execution_count": 81,
     "metadata": {},
     "output_type": "execute_result"
    },
    {
     "data": {
      "text/plain": [
       "Text(0, 0.5, 'Counts')"
      ]
     },
     "execution_count": 81,
     "metadata": {},
     "output_type": "execute_result"
    },
    {
     "data": {
      "image/png": "[encoded data removed]",
      "text/plain": [
       "<Figure size 432x288 with 1 Axes>"
      ]
     },
     "metadata": {
      "needs_background": "light"
     },
     "output_type": "display_data"
    }
   ],
   "source": [
    "user['year']=user['first_order'].str[:4]\n",
    "user['year']= pd.to_numeric(user['year'])\n",
    "user=user.sort_values(by='year')\n",
    "user['year'].value_counts(sort=False).plot(kind='line')\n",
    "plt.title('New Users trend')\n",
    "plt.xlabel('Year')\n",
    "plt.ylabel('Counts')"
   ]
  },
  {
   "cell_type": "markdown",
   "id": "640d2d74",
   "metadata": {},
   "source": [
    "New users to JD.com are has an exponential increase trend (2018 has the data for first 3 months. So there is a decline trend.)"
   ]
  },
  {
   "cell_type": "markdown",
   "id": "950d2bba",
   "metadata": {},
   "source": [
    "# What is the contribution of each channel in terms of sales/profit?"
   ]
  },
  {
   "cell_type": "code",
   "execution_count": 82,
   "id": "e14fda3e",
   "metadata": {},
   "outputs": [
    {
     "data": {
      "text/plain": [
       "<StringArray>\n",
       "['app', 'mobile', 'wechat', 'pc', 'others']\n",
       "Length: 5, dtype: string"
      ]
     },
     "execution_count": 82,
     "metadata": {},
     "output_type": "execute_result"
    },
    {
     "data": {
      "text/plain": [
       "<AxesSubplot:xlabel='channel'>"
      ]
     },
     "execution_count": 82,
     "metadata": {},
     "output_type": "execute_result"
    },
    {
     "data": {
      "text/plain": [
       "Text(0.5, 0, 'Channel')"
      ]
     },
     "execution_count": 82,
     "metadata": {},
     "output_type": "execute_result"
    },
    {
     "data": {
      "text/plain": [
       "Text(0, 0.5, 'Sales revenue')"
      ]
     },
     "execution_count": 82,
     "metadata": {},
     "output_type": "execute_result"
    },
    {
     "data": {
      "image/png": "[encoded data removed]",
      "text/plain": [
       "<Figure size 432x288 with 1 Axes>"
      ]
     },
     "metadata": {
      "needs_background": "light"
     },
     "output_type": "display_data"
    }
   ],
   "source": [
    "Channel=pd.merge(click,order,on='user_ID')\n",
    "Channel['channel'].unique()\n",
    "Sales_channel = Channel.groupby('channel')['final_unit_price'].sum()\n",
    "Sales_channel.plot(kind='bar')\n",
    "plt.xlabel('Channel')\n",
    "plt.ylabel('Sales revenue')\n",
    "plt.show()"
   ]
  },
  {
   "cell_type": "code",
   "execution_count": 83,
   "id": "48456747",
   "metadata": {},
   "outputs": [
    {
     "data": {
      "text/plain": [
       "<AxesSubplot:>"
      ]
     },
     "execution_count": 83,
     "metadata": {},
     "output_type": "execute_result"
    },
    {
     "data": {
      "text/plain": [
       "Text(0.5, 0, 'Channel')"
      ]
     },
     "execution_count": 83,
     "metadata": {},
     "output_type": "execute_result"
    },
    {
     "data": {
      "text/plain": [
       "Text(0, 0.5, 'Number of clicks')"
      ]
     },
     "execution_count": 83,
     "metadata": {},
     "output_type": "execute_result"
    },
    {
     "data": {
      "image/png": "[encoded data removed]",
      "text/plain": [
       "<Figure size 432x288 with 1 Axes>"
      ]
     },
     "metadata": {
      "needs_background": "light"
     },
     "output_type": "display_data"
    }
   ],
   "source": [
    "Channel['channel'].value_counts().plot(kind='bar')\n",
    "plt.xlabel('Channel')\n",
    "plt.ylabel('Number of clicks')\n",
    "plt.show()"
   ]
  },
  {
   "cell_type": "markdown",
   "id": "c6a19ede",
   "metadata": {},
   "source": [
    "The graph illustrates the contribution of different channels in terms of sales and profit for JD.com. The 'app' channel represents JD.com's mobile application, which is experiencing significant user preference and is generating the highest sales and revenue among all channels. Following closely is the 'WeChat' channel, which refers to a mini-program operating within the WeChat social media platform. Channels 'pc' and 'mobile' represent web browsers accessed via computers and mobile devices, respectively."
   ]
  },
  {
   "cell_type": "code",
   "execution_count": 84,
   "id": "1e843acc",
   "metadata": {},
   "outputs": [
    {
     "name": "stdout",
     "output_type": "stream",
     "text": [
      "Revenue through channel : channel\n",
      "app       5.258489e+08\n",
      "mobile    9.341649e+06\n",
      "others    6.728851e+06\n",
      "pc        2.528808e+07\n",
      "wechat    6.318699e+07\n",
      "Name: final_unit_price, dtype: float64\n",
      "Revenue after all discounts deduction : channel\n",
      "app       3.628865e+08\n",
      "mobile    5.863476e+06\n",
      "others    4.559680e+06\n",
      "pc        1.835197e+07\n",
      "wechat    4.321385e+07\n",
      "dtype: float64\n"
     ]
    }
   ],
   "source": [
    "channel_revenue = Channel.groupby('channel')['final_unit_price'].sum()\n",
    "channel_discount = Channel.groupby('channel')['direct_discount_per_unit'].sum() + Channel.groupby('channel')['bundle_discount_per_unit'].sum() + Channel.groupby('channel')['coupon_discount_per_unit'].sum()\n",
    "channel_contribution = channel_revenue - channel_discount\n",
    "print('Revenue through channel :', channel_revenue)\n",
    "print('Revenue after all discounts deduction :',channel_contribution)"
   ]
  },
  {
   "cell_type": "markdown",
   "id": "e251e904",
   "metadata": {},
   "source": [
    "# Analyze sales trend over Year and month wise."
   ]
  },
  {
   "cell_type": "code",
   "execution_count": 85,
   "id": "f2458f2e",
   "metadata": {},
   "outputs": [
    {
     "data": {
      "text/plain": [
       "<AxesSubplot:xlabel='order_date'>"
      ]
     },
     "execution_count": 85,
     "metadata": {},
     "output_type": "execute_result"
    },
    {
     "data": {
      "text/plain": [
       "Text(0.5, 1.0, 'Sales')"
      ]
     },
     "execution_count": 85,
     "metadata": {},
     "output_type": "execute_result"
    },
    {
     "data": {
      "text/plain": [
       "Text(0.5, 0, 'Year')"
      ]
     },
     "execution_count": 85,
     "metadata": {},
     "output_type": "execute_result"
    },
    {
     "data": {
      "text/plain": [
       "(array([ 0,  1,  2,  3,  4,  5,  6,  7,  8,  9, 10, 11, 12, 13, 14, 15, 16,\n",
       "        17, 18, 19, 20, 21, 22, 23, 24, 25, 26, 27, 28, 29, 30]),\n",
       " [Text(0, 0, '2018-03-01 00:00:00'),\n",
       "  Text(1, 0, '2018-03-02 00:00:00'),\n",
       "  Text(2, 0, '2018-03-03 00:00:00'),\n",
       "  Text(3, 0, '2018-03-04 00:00:00'),\n",
       "  Text(4, 0, '2018-03-05 00:00:00'),\n",
       "  Text(5, 0, '2018-03-06 00:00:00'),\n",
       "  Text(6, 0, '2018-03-07 00:00:00'),\n",
       "  Text(7, 0, '2018-03-08 00:00:00'),\n",
       "  Text(8, 0, '2018-03-09 00:00:00'),\n",
       "  Text(9, 0, '2018-03-10 00:00:00'),\n",
       "  Text(10, 0, '2018-03-11 00:00:00'),\n",
       "  Text(11, 0, '2018-03-12 00:00:00'),\n",
       "  Text(12, 0, '2018-03-13 00:00:00'),\n",
       "  Text(13, 0, '2018-03-14 00:00:00'),\n",
       "  Text(14, 0, '2018-03-15 00:00:00'),\n",
       "  Text(15, 0, '2018-03-16 00:00:00'),\n",
       "  Text(16, 0, '2018-03-17 00:00:00'),\n",
       "  Text(17, 0, '2018-03-18 00:00:00'),\n",
       "  Text(18, 0, '2018-03-19 00:00:00'),\n",
       "  Text(19, 0, '2018-03-20 00:00:00'),\n",
       "  Text(20, 0, '2018-03-21 00:00:00'),\n",
       "  Text(21, 0, '2018-03-22 00:00:00'),\n",
       "  Text(22, 0, '2018-03-23 00:00:00'),\n",
       "  Text(23, 0, '2018-03-24 00:00:00'),\n",
       "  Text(24, 0, '2018-03-25 00:00:00'),\n",
       "  Text(25, 0, '2018-03-26 00:00:00'),\n",
       "  Text(26, 0, '2018-03-27 00:00:00'),\n",
       "  Text(27, 0, '2018-03-28 00:00:00'),\n",
       "  Text(28, 0, '2018-03-29 00:00:00'),\n",
       "  Text(29, 0, '2018-03-30 00:00:00'),\n",
       "  Text(30, 0, '2018-03-31 00:00:00')])"
      ]
     },
     "execution_count": 85,
     "metadata": {},
     "output_type": "execute_result"
    },
    {
     "data": {
      "text/plain": [
       "Text(0, 0.5, 'No.of sales')"
      ]
     },
     "execution_count": 85,
     "metadata": {},
     "output_type": "execute_result"
    },
    {
     "data": {
      "image/png": "[encoded data removed]",
      "text/plain": [
       "<Figure size 1080x432 with 1 Axes>"
      ]
     },
     "metadata": {
      "needs_background": "light"
     },
     "output_type": "display_data"
    }
   ],
   "source": [
    "\n",
    "# Year-wise Sales Analysis\n",
    "Channel['order_date'] = pd.to_datetime(Channel['order_date'])\n",
    "yearly_sales = Channel.groupby(Channel['order_date'])['order_ID'].count()\n",
    "yearly_sales.plot(kind='bar', figsize=(15, 6))\n",
    "\n",
    "plt.title('Sales')\n",
    "plt.xlabel('Year')\n",
    "plt.xticks(rotation='vertical')\n",
    "plt.ylabel('No.of sales')\n",
    "plt.show()"
   ]
  },
  {
   "cell_type": "markdown",
   "id": "e3e5e140",
   "metadata": {},
   "source": [
    "The sales quantity by date indicates notable spikes on March 1st, 8th, and 28th, with each of these dates recording the highest number of sales within the observed period."
   ]
  },
  {
   "cell_type": "code",
   "execution_count": 86,
   "id": "98f9d4f9",
   "metadata": {},
   "outputs": [
    {
     "data": {
      "text/plain": [
       "<AxesSubplot:xlabel='order_date'>"
      ]
     },
     "execution_count": 86,
     "metadata": {},
     "output_type": "execute_result"
    },
    {
     "data": {
      "text/plain": [
       "Text(0.5, 1.0, 'Sales by Week')"
      ]
     },
     "execution_count": 86,
     "metadata": {},
     "output_type": "execute_result"
    },
    {
     "data": {
      "text/plain": [
       "Text(0.5, 0, 'Month')"
      ]
     },
     "execution_count": 86,
     "metadata": {},
     "output_type": "execute_result"
    },
    {
     "data": {
      "text/plain": [
       "(array([17591, 17621], dtype=int64), [Text(0, 0, ''), Text(0, 0, '')])"
      ]
     },
     "execution_count": 86,
     "metadata": {},
     "output_type": "execute_result"
    },
    {
     "data": {
      "text/plain": [
       "Text(0, 0.5, 'No.of sales')"
      ]
     },
     "execution_count": 86,
     "metadata": {},
     "output_type": "execute_result"
    },
    {
     "data": {
      "image/png": "[encoded data removed]",
      "text/plain": [
       "<Figure size 720x432 with 1 Axes>"
      ]
     },
     "metadata": {
      "needs_background": "light"
     },
     "output_type": "display_data"
    }
   ],
   "source": [
    "# Month-wise Sales Analysis\n",
    "monthly_sales = Channel.groupby(Channel['order_date'])['order_ID'].count()\n",
    "monthly_sales.plot(kind='line',figsize=(10, 6))\n",
    "plt.title('Sales by Week')\n",
    "plt.xlabel('Month')\n",
    "plt.xticks(rotation='vertical')\n",
    "plt.ylabel('No.of sales')\n",
    "plt.show()"
   ]
  },
  {
   "cell_type": "markdown",
   "id": "0629b05f",
   "metadata": {},
   "source": [
    "Analyzing the sales trend over March 2018 reveals a consistent increase from March 19th to the end of the month. However, there is a notable spike on March 8th, followed by a sudden drop thereafter. Further observation highlights a pattern where sales decrease during weekends, suggesting that people tend to prefer outdoor activities over online shopping during those times."
   ]
  },
  {
   "cell_type": "markdown",
   "id": "b492b578",
   "metadata": {},
   "source": [
    "# Top 10 Customers by Amount Purchased in JD.com and the quantity Pruchased"
   ]
  },
  {
   "cell_type": "code",
   "execution_count": 87,
   "id": "47daa452",
   "metadata": {},
   "outputs": [
    {
     "data": {
      "text/plain": [
       "Text(0.5, 0, 'User ID')"
      ]
     },
     "execution_count": 87,
     "metadata": {},
     "output_type": "execute_result"
    },
    {
     "data": {
      "text/plain": [
       "Text(0, 0.5, 'Total Amount Purchased (in RMB)')"
      ]
     },
     "execution_count": 87,
     "metadata": {},
     "output_type": "execute_result"
    },
    {
     "data": {
      "text/plain": [
       "<AxesSubplot:xlabel='user_ID', ylabel='Total Amount Purchased (in RMB)'>"
      ]
     },
     "execution_count": 87,
     "metadata": {},
     "output_type": "execute_result"
    },
    {
     "data": {
      "text/plain": [
       "Text(0, 0.5, 'Number of Items purchased by that Customer')"
      ]
     },
     "execution_count": 87,
     "metadata": {},
     "output_type": "execute_result"
    },
    {
     "data": {
      "text/plain": [
       "<AxesSubplot:xlabel='user_ID', ylabel='Number of Items purchased by that Customer'>"
      ]
     },
     "execution_count": 87,
     "metadata": {},
     "output_type": "execute_result"
    },
    {
     "data": {
      "text/plain": [
       "Text(0, 1163, '1162')"
      ]
     },
     "execution_count": 87,
     "metadata": {},
     "output_type": "execute_result"
    },
    {
     "data": {
      "text/plain": [
       "Text(1, 573, '572')"
      ]
     },
     "execution_count": 87,
     "metadata": {},
     "output_type": "execute_result"
    },
    {
     "data": {
      "text/plain": [
       "Text(2, 663, '662')"
      ]
     },
     "execution_count": 87,
     "metadata": {},
     "output_type": "execute_result"
    },
    {
     "data": {
      "text/plain": [
       "Text(3, 763, '762')"
      ]
     },
     "execution_count": 87,
     "metadata": {},
     "output_type": "execute_result"
    },
    {
     "data": {
      "text/plain": [
       "Text(4, 714, '713')"
      ]
     },
     "execution_count": 87,
     "metadata": {},
     "output_type": "execute_result"
    },
    {
     "data": {
      "text/plain": [
       "Text(5, 13, '12')"
      ]
     },
     "execution_count": 87,
     "metadata": {},
     "output_type": "execute_result"
    },
    {
     "data": {
      "text/plain": [
       "Text(6, 429, '428')"
      ]
     },
     "execution_count": 87,
     "metadata": {},
     "output_type": "execute_result"
    },
    {
     "data": {
      "text/plain": [
       "Text(7, 505, '504')"
      ]
     },
     "execution_count": 87,
     "metadata": {},
     "output_type": "execute_result"
    },
    {
     "data": {
      "text/plain": [
       "Text(8, 346, '345')"
      ]
     },
     "execution_count": 87,
     "metadata": {},
     "output_type": "execute_result"
    },
    {
     "data": {
      "text/plain": [
       "Text(9, 421, '420')"
      ]
     },
     "execution_count": 87,
     "metadata": {},
     "output_type": "execute_result"
    },
    {
     "data": {
      "text/plain": [
       "Text(0.5, 1.0, 'Top Customers by Amount Purchased and number of Items Pruchased')"
      ]
     },
     "execution_count": 87,
     "metadata": {},
     "output_type": "execute_result"
    },
    {
     "data": {
      "text/plain": [
       "Text(0.5, 0, 'User ID')"
      ]
     },
     "execution_count": 87,
     "metadata": {},
     "output_type": "execute_result"
    },
    {
     "data": {
      "text/plain": [
       "Text(0, 0.5, 'Number of Orders')"
      ]
     },
     "execution_count": 87,
     "metadata": {},
     "output_type": "execute_result"
    },
    {
     "data": {
      "image/png": "[encoded data removed]",
      "text/plain": [
       "<Figure size 720x360 with 2 Axes>"
      ]
     },
     "metadata": {
      "needs_background": "light"
     },
     "output_type": "display_data"
    }
   ],
   "source": [
    "# Get top customers by orders and by total amount purchased\n",
    "order['amount']=order['quantity']*order['final_unit_price']\n",
    "top_customers_by_amount = order.groupby('user_ID')['amount'].sum().nlargest(10)\n",
    "\n",
    "# Get number of items they purchased individually\n",
    "top_customers_by_orders = order.groupby('user_ID')['quantity'].sum().loc[top_customers_by_amount.index]\n",
    "\n",
    "# Plotting the dual-axis chart\n",
    "fig, ax1 = plt.subplots(figsize=(10, 5))\n",
    "\n",
    "# Plotting top customers by amount as bars on first y-axis\n",
    "color = 'tab:red'\n",
    "ax1.set_xlabel('User ID')\n",
    "ax1.set_ylabel('Total Amount Purchased (in RMB)', color=color)\n",
    "top_customers_by_amount.plot(kind='bar', ax=ax1, color=color)\n",
    "ax1.tick_params(axis='y', labelcolor=color)\n",
    "\n",
    "# Creating the second y-axis and plotting top customers by orders as a line\n",
    "ax2 = ax1.twinx()\n",
    "color = 'tab:blue'\n",
    "ax2.set_ylabel('Number of Items purchased by that Customer', color=color)\n",
    "top_customers_by_orders.plot(kind='line', ax=ax2, color=color, marker='o')\n",
    "ax2.tick_params(axis='y', labelcolor=color)\n",
    "\n",
    "# Adding annotations to the line plot\n",
    "for i, v in enumerate(top_customers_by_orders):\n",
    "    ax2.text(i, v + 1, str(v), ha='center', va='bottom')\n",
    "\n",
    "# Adding title and labels\n",
    "plt.title('Top Customers by Amount Purchased and number of Items Pruchased')\n",
    "ax1.set_xlabel('User ID')\n",
    "ax2.set_ylabel('Number of Orders')\n",
    "\n",
    "plt.show()"
   ]
  },
  {
   "cell_type": "code",
   "execution_count": 88,
   "id": "b2d3cce5",
   "metadata": {},
   "outputs": [
    {
     "data": {
      "text/plain": [
       "user_ID\n",
       "de8763924d    212088.24\n",
       "c1c8327987     87622.22\n",
       "2d25359f9b     71893.01\n",
       "292140a4a3     58820.00\n",
       "82eface020     58519.10\n",
       "b695af3c92     54614.20\n",
       "2dacf67f01     48746.92\n",
       "742c7d872a     37800.00\n",
       "733e596433     30326.00\n",
       "25c773a3f8     30170.00\n",
       "Name: amount, dtype: float64"
      ]
     },
     "execution_count": 88,
     "metadata": {},
     "output_type": "execute_result"
    },
    {
     "data": {
      "text/plain": [
       "user_ID\n",
       "de8763924d    1162\n",
       "c1c8327987     572\n",
       "2d25359f9b     662\n",
       "292140a4a3     762\n",
       "82eface020     713\n",
       "b695af3c92      12\n",
       "2dacf67f01     428\n",
       "742c7d872a     504\n",
       "733e596433     345\n",
       "25c773a3f8     420\n",
       "Name: quantity, dtype: int64"
      ]
     },
     "execution_count": 88,
     "metadata": {},
     "output_type": "execute_result"
    }
   ],
   "source": [
    "top_customers_by_amount = order.groupby('user_ID')['amount'].sum().nlargest(10)\n",
    "top_customers_by_amount\n",
    "# Get number of items they purchased individually\n",
    "top_customers_by_orders = order.groupby('user_ID')['quantity'].sum().loc[top_customers_by_amount.index]\n",
    "top_customers_by_orders"
   ]
  },
  {
   "cell_type": "markdown",
   "id": "28e1f955",
   "metadata": {},
   "source": [
    "The above graph represents top 10 customers who have made substantial contribution to JD.com's revenue. For example customer with user_ID 'de8763924d' stands out by purchasing RMB 21,2088.24(0.45% of total revenue generated in March) consisting of 1162 products in the month of March. This customer is not a JD plus member and we can recommend this user as a potential JD plus member to retain the valuable customer."
   ]
  },
  {
   "cell_type": "markdown",
   "id": "163dce72",
   "metadata": {},
   "source": [
    "## Which distribution centre  has more orders?"
   ]
  },
  {
   "cell_type": "code",
   "execution_count": 89,
   "id": "da42a277",
   "metadata": {},
   "outputs": [
    {
     "data": {
      "text/plain": [
       "Text(0.5, 1.0, 'Distribution of Packages Across Different Delivery Centers Origin ')"
      ]
     },
     "execution_count": 89,
     "metadata": {},
     "output_type": "execute_result"
    },
    {
     "data": {
      "text/plain": [
       "Text(0.5, 0, 'Distibution Center Origin')"
      ]
     },
     "execution_count": 89,
     "metadata": {},
     "output_type": "execute_result"
    },
    {
     "data": {
      "text/plain": [
       "(array([0, 1, 2, 3, 4, 5, 6, 7, 8, 9]),\n",
       " [Text(0, 0, '5.0'),\n",
       "  Text(1, 0, '9.0'),\n",
       "  Text(2, 0, '2.0'),\n",
       "  Text(3, 0, '4.0'),\n",
       "  Text(4, 0, '7.0'),\n",
       "  Text(5, 0, '24.0'),\n",
       "  Text(6, 0, '10.0'),\n",
       "  Text(7, 0, '3.0'),\n",
       "  Text(8, 0, '59.0'),\n",
       "  Text(9, 0, '58.0')])"
      ]
     },
     "execution_count": 89,
     "metadata": {},
     "output_type": "execute_result"
    },
    {
     "data": {
      "text/plain": [
       "Text(0, 0.5, 'count')"
      ]
     },
     "execution_count": 89,
     "metadata": {},
     "output_type": "execute_result"
    },
    {
     "data": {
      "text/plain": [
       "Text(0, 5, '105731')"
      ]
     },
     "execution_count": 89,
     "metadata": {},
     "output_type": "execute_result"
    },
    {
     "data": {
      "text/plain": [
       "Text(0, 5, '82753')"
      ]
     },
     "execution_count": 89,
     "metadata": {},
     "output_type": "execute_result"
    },
    {
     "data": {
      "text/plain": [
       "Text(0, 5, '75298')"
      ]
     },
     "execution_count": 89,
     "metadata": {},
     "output_type": "execute_result"
    },
    {
     "data": {
      "text/plain": [
       "Text(0, 5, '55138')"
      ]
     },
     "execution_count": 89,
     "metadata": {},
     "output_type": "execute_result"
    },
    {
     "data": {
      "text/plain": [
       "Text(0, 5, '49744')"
      ]
     },
     "execution_count": 89,
     "metadata": {},
     "output_type": "execute_result"
    },
    {
     "data": {
      "text/plain": [
       "Text(0, 5, '34236')"
      ]
     },
     "execution_count": 89,
     "metadata": {},
     "output_type": "execute_result"
    },
    {
     "data": {
      "text/plain": [
       "Text(0, 5, '23687')"
      ]
     },
     "execution_count": 89,
     "metadata": {},
     "output_type": "execute_result"
    },
    {
     "data": {
      "text/plain": [
       "Text(0, 5, '13166')"
      ]
     },
     "execution_count": 89,
     "metadata": {},
     "output_type": "execute_result"
    },
    {
     "data": {
      "text/plain": [
       "Text(0, 5, '7573')"
      ]
     },
     "execution_count": 89,
     "metadata": {},
     "output_type": "execute_result"
    },
    {
     "data": {
      "text/plain": [
       "Text(0, 5, '5105')"
      ]
     },
     "execution_count": 89,
     "metadata": {},
     "output_type": "execute_result"
    },
    {
     "data": {
      "image/png": "[encoded data removed]",
      "text/plain": [
       "<Figure size 1080x432 with 1 Axes>"
      ]
     },
     "metadata": {
      "needs_background": "light"
     },
     "output_type": "display_data"
    }
   ],
   "source": [
    "dist_cent=pd.merge(Sku,order,on='sku_ID')\n",
    "top_distribution_centers = dist_cent.groupby('dc_ori').size().sort_values(ascending=False).head(10)\n",
    "ax =top_distribution_centers.plot(kind='bar',x='dc_ori', y='count', figsize=(15, 6))\n",
    "plt.title('Distribution of Packages Across Different Delivery Centers Origin ')\n",
    "plt.xlabel('Distibution Center Origin')\n",
    "plt.xticks(rotation='vertical')\n",
    "plt.ylabel('count')\n",
    "for p in ax.patches:\n",
    "    ax.annotate(str(p.get_height()), (p.get_x() + p.get_width() / 2., p.get_height()),\n",
    "                ha='center', va='center', xytext=(0, 5), textcoords='offset points')\n",
    "plt.show()"
   ]
  },
  {
   "cell_type": "code",
   "execution_count": 90,
   "id": "c9f9383b",
   "metadata": {
    "scrolled": true
   },
   "outputs": [
    {
     "name": "stdout",
     "output_type": "stream",
     "text": [
      "     dc_ori  dc_des  package_ID\n",
      "31      5.0     5.0       31658\n",
      "6       2.0     2.0       23431\n",
      "71      9.0     9.0       23061\n",
      "23      4.0     4.0       20423\n",
      "120    24.0    24.0       12631\n",
      "..      ...     ...         ...\n",
      "326    56.0    18.0           1\n",
      "379    57.0    19.0           1\n",
      "322    56.0    14.0           1\n",
      "4       1.0    46.0           1\n",
      "287    54.0    13.0           1\n",
      "\n",
      "[627 rows x 3 columns]\n"
     ]
    }
   ],
   "source": [
    "packages = merged_data1.groupby(['dc_ori', 'dc_des'])['package_ID'].nunique().reset_index().sort_values(by='package_ID', ascending=False)\n",
    "print(packages)"
   ]
  },
  {
   "cell_type": "markdown",
   "id": "00c93834",
   "metadata": {},
   "source": [
    "# Top 10 Products customer ordered more frequently and the stock availability in inventory"
   ]
  },
  {
   "cell_type": "code",
   "execution_count": 91,
   "id": "abadfb85",
   "metadata": {},
   "outputs": [
    {
     "data": {
      "text/plain": [
       "Text(0.5, 1.0, 'Top 10 Products customer ordered ')"
      ]
     },
     "execution_count": 91,
     "metadata": {},
     "output_type": "execute_result"
    },
    {
     "data": {
      "text/plain": [
       "Text(0.5, 0, 'SKU_ID')"
      ]
     },
     "execution_count": 91,
     "metadata": {},
     "output_type": "execute_result"
    },
    {
     "data": {
      "text/plain": [
       "(array([0, 1, 2, 3, 4, 5, 6, 7, 8, 9]),\n",
       " [Text(0, 0, '068f4481b3'),\n",
       "  Text(1, 0, '3c79df1d80'),\n",
       "  Text(2, 0, 'a9109972d1'),\n",
       "  Text(3, 0, '623d0a582a'),\n",
       "  Text(4, 0, '8dc4a01dec'),\n",
       "  Text(5, 0, 'fbce41fd82'),\n",
       "  Text(6, 0, '904fbf8b97'),\n",
       "  Text(7, 0, 'ca7647a231'),\n",
       "  Text(8, 0, '38d636d2a6'),\n",
       "  Text(9, 0, '7e4cb4952a')])"
      ]
     },
     "execution_count": 91,
     "metadata": {},
     "output_type": "execute_result"
    },
    {
     "data": {
      "text/plain": [
       "Text(0, 0.5, 'No.of times item puchased')"
      ]
     },
     "execution_count": 91,
     "metadata": {},
     "output_type": "execute_result"
    },
    {
     "data": {
      "text/plain": [
       "Text(0, 5, '23625')"
      ]
     },
     "execution_count": 91,
     "metadata": {},
     "output_type": "execute_result"
    },
    {
     "data": {
      "text/plain": [
       "Text(0, 5, '14463')"
      ]
     },
     "execution_count": 91,
     "metadata": {},
     "output_type": "execute_result"
    },
    {
     "data": {
      "text/plain": [
       "Text(0, 5, '10449')"
      ]
     },
     "execution_count": 91,
     "metadata": {},
     "output_type": "execute_result"
    },
    {
     "data": {
      "text/plain": [
       "Text(0, 5, '10174')"
      ]
     },
     "execution_count": 91,
     "metadata": {},
     "output_type": "execute_result"
    },
    {
     "data": {
      "text/plain": [
       "Text(0, 5, '9891')"
      ]
     },
     "execution_count": 91,
     "metadata": {},
     "output_type": "execute_result"
    },
    {
     "data": {
      "text/plain": [
       "Text(0, 5, '8363')"
      ]
     },
     "execution_count": 91,
     "metadata": {},
     "output_type": "execute_result"
    },
    {
     "data": {
      "text/plain": [
       "Text(0, 5, '7913')"
      ]
     },
     "execution_count": 91,
     "metadata": {},
     "output_type": "execute_result"
    },
    {
     "data": {
      "text/plain": [
       "Text(0, 5, '6456')"
      ]
     },
     "execution_count": 91,
     "metadata": {},
     "output_type": "execute_result"
    },
    {
     "data": {
      "text/plain": [
       "Text(0, 5, '6446')"
      ]
     },
     "execution_count": 91,
     "metadata": {},
     "output_type": "execute_result"
    },
    {
     "data": {
      "text/plain": [
       "Text(0, 5, '5567')"
      ]
     },
     "execution_count": 91,
     "metadata": {},
     "output_type": "execute_result"
    },
    {
     "data": {
      "image/png": "[encoded data removed]",
      "text/plain": [
       "<Figure size 1080x432 with 1 Axes>"
      ]
     },
     "metadata": {
      "needs_background": "light"
     },
     "output_type": "display_data"
    }
   ],
   "source": [
    "# Group by user_id and product_id, count the occurrences, and sort in descending order\n",
    "product_counts = order.groupby(['sku_ID']).size().reset_index(name='count')\n",
    "top_products = product_counts.sort_values(by='count', ascending=False).head(10)\n",
    "\n",
    "ax =top_products.plot(kind='bar',x='sku_ID', y='count', figsize=(15, 6))\n",
    "plt.title('Top 10 Products customer ordered ')\n",
    "plt.xlabel('SKU_ID')\n",
    "plt.xticks(rotation='vertical')\n",
    "plt.ylabel('No.of times item puchased')\n",
    "for p in ax.patches:\n",
    "    ax.annotate(str(p.get_height()), (p.get_x() + p.get_width() / 2., p.get_height()),\n",
    "                ha='center', va='center', xytext=(0, 5), textcoords='offset points')\n",
    "\n",
    "plt.show()"
   ]
  },
  {
   "cell_type": "markdown",
   "id": "7fb05e95",
   "metadata": {},
   "source": [
    "# Top 10 products that are most frequently ordered by the customers"
   ]
  },
  {
   "cell_type": "code",
   "execution_count": 92,
   "id": "e5ad0989",
   "metadata": {},
   "outputs": [
    {
     "data": {
      "text/plain": [
       "Text(0.5, 1.0, 'Top 10 Products available in inventory')"
      ]
     },
     "execution_count": 92,
     "metadata": {},
     "output_type": "execute_result"
    },
    {
     "data": {
      "text/plain": [
       "Text(0.5, 0, 'SKU_ID')"
      ]
     },
     "execution_count": 92,
     "metadata": {},
     "output_type": "execute_result"
    },
    {
     "data": {
      "text/plain": [
       "(array([0, 1, 2, 3, 4, 5, 6, 7, 8, 9]),\n",
       " [Text(0, 0, '623d0a582a'),\n",
       "  Text(1, 0, 'fc5289b139'),\n",
       "  Text(2, 0, '3c79df1d80'),\n",
       "  Text(3, 0, 'd47c6ca631'),\n",
       "  Text(4, 0, '7e4cb4952a'),\n",
       "  Text(5, 0, '904fbf8b97'),\n",
       "  Text(6, 0, '8d5f73c188'),\n",
       "  Text(7, 0, '8dc4a01dec'),\n",
       "  Text(8, 0, '5eced3cd82'),\n",
       "  Text(9, 0, 'e237f26793')])"
      ]
     },
     "execution_count": 92,
     "metadata": {},
     "output_type": "execute_result"
    },
    {
     "data": {
      "text/plain": [
       "Text(0, 0.5, 'Count of products available in inventory')"
      ]
     },
     "execution_count": 92,
     "metadata": {},
     "output_type": "execute_result"
    },
    {
     "data": {
      "text/plain": [
       "Text(0, 5, '1529')"
      ]
     },
     "execution_count": 92,
     "metadata": {},
     "output_type": "execute_result"
    },
    {
     "data": {
      "text/plain": [
       "Text(0, 5, '1497')"
      ]
     },
     "execution_count": 92,
     "metadata": {},
     "output_type": "execute_result"
    },
    {
     "data": {
      "text/plain": [
       "Text(0, 5, '1417')"
      ]
     },
     "execution_count": 92,
     "metadata": {},
     "output_type": "execute_result"
    },
    {
     "data": {
      "text/plain": [
       "Text(0, 5, '1398')"
      ]
     },
     "execution_count": 92,
     "metadata": {},
     "output_type": "execute_result"
    },
    {
     "data": {
      "text/plain": [
       "Text(0, 5, '1349')"
      ]
     },
     "execution_count": 92,
     "metadata": {},
     "output_type": "execute_result"
    },
    {
     "data": {
      "text/plain": [
       "Text(0, 5, '1344')"
      ]
     },
     "execution_count": 92,
     "metadata": {},
     "output_type": "execute_result"
    },
    {
     "data": {
      "text/plain": [
       "Text(0, 5, '1337')"
      ]
     },
     "execution_count": 92,
     "metadata": {},
     "output_type": "execute_result"
    },
    {
     "data": {
      "text/plain": [
       "Text(0, 5, '1305')"
      ]
     },
     "execution_count": 92,
     "metadata": {},
     "output_type": "execute_result"
    },
    {
     "data": {
      "text/plain": [
       "Text(0, 5, '1302')"
      ]
     },
     "execution_count": 92,
     "metadata": {},
     "output_type": "execute_result"
    },
    {
     "data": {
      "text/plain": [
       "Text(0, 5, '1295')"
      ]
     },
     "execution_count": 92,
     "metadata": {},
     "output_type": "execute_result"
    },
    {
     "data": {
      "image/png": "[encoded data removed]",
      "text/plain": [
       "<Figure size 1080x432 with 1 Axes>"
      ]
     },
     "metadata": {
      "needs_background": "light"
     },
     "output_type": "display_data"
    }
   ],
   "source": [
    "inventory_availability = inventory.groupby(['sku_ID']).size().reset_index(name='count')\n",
    "top_available_products = inventory_availability.sort_values(by='count', ascending=False).head(10)\n",
    "\n",
    "ax1 =top_available_products.plot(kind='bar',x='sku_ID', y='count', figsize=(15, 6))\n",
    "plt.title('Top 10 Products available in inventory')\n",
    "plt.xlabel('SKU_ID')\n",
    "plt.xticks(rotation='vertical')\n",
    "plt.ylabel('Count of products available in inventory')\n",
    "for p in ax1.patches:\n",
    "    ax1.annotate(str(p.get_height()), (p.get_x() + p.get_width() / 2., p.get_height()),\n",
    "                ha='center', va='center', xytext=(0, 5), textcoords='offset points')\n",
    "\n",
    "plt.show()"
   ]
  },
  {
   "cell_type": "markdown",
   "id": "d1251dcd",
   "metadata": {},
   "source": [
    "# Top 10 products availabe in the inventory "
   ]
  },
  {
   "cell_type": "code",
   "execution_count": 93,
   "id": "796c598e",
   "metadata": {},
   "outputs": [
    {
     "name": "stdout",
     "output_type": "stream",
     "text": [
      "These products are purchased by customers more and also the top stocked in inventory:\n",
      "       sku_ID  count_x  count_y\n",
      "0  3c79df1d80    14463     1417\n",
      "1  623d0a582a    10174     1529\n",
      "2  8dc4a01dec     9891     1305\n",
      "3  904fbf8b97     7913     1344\n",
      "4  7e4cb4952a     5567     1349\n"
     ]
    }
   ],
   "source": [
    "common_records = pd.merge(top_products, top_available_products, on='sku_ID')\n",
    "\n",
    "print(\"These products are purchased by customers more and also the top stocked in inventory:\")\n",
    "print(common_records)"
   ]
  },
  {
   "cell_type": "code",
   "execution_count": 94,
   "id": "cee66ffc",
   "metadata": {},
   "outputs": [
    {
     "data": {
      "text/plain": [
       "Text(0.5, 0, 'SKU_ID')"
      ]
     },
     "execution_count": 94,
     "metadata": {},
     "output_type": "execute_result"
    },
    {
     "data": {
      "text/plain": [
       "Text(0, 0.5, 'Customer Purchases')"
      ]
     },
     "execution_count": 94,
     "metadata": {},
     "output_type": "execute_result"
    },
    {
     "data": {
      "text/plain": [
       "<BarContainer object of 5 artists>"
      ]
     },
     "execution_count": 94,
     "metadata": {},
     "output_type": "execute_result"
    },
    {
     "data": {
      "text/plain": [
       "([0, 1, 2, 3, 4],\n",
       " [Text(0, 0, ''),\n",
       "  Text(0, 0, ''),\n",
       "  Text(0, 0, ''),\n",
       "  Text(0, 0, ''),\n",
       "  Text(0, 0, '')])"
      ]
     },
     "execution_count": 94,
     "metadata": {},
     "output_type": "execute_result"
    },
    {
     "data": {
      "text/plain": [
       "(0.0, 1700.0)"
      ]
     },
     "execution_count": 94,
     "metadata": {},
     "output_type": "execute_result"
    },
    {
     "data": {
      "text/plain": [
       "Text(0, 0.5, 'Inventory Stock')"
      ]
     },
     "execution_count": 94,
     "metadata": {},
     "output_type": "execute_result"
    },
    {
     "data": {
      "text/plain": [
       "[<matplotlib.lines.Line2D at 0x22ffa68b0a0>]"
      ]
     },
     "execution_count": 94,
     "metadata": {},
     "output_type": "execute_result"
    },
    {
     "data": {
      "text/plain": [
       "Text(0.5, 1.0, 'Top Customer Purchases vs Inventory Stock')"
      ]
     },
     "execution_count": 94,
     "metadata": {},
     "output_type": "execute_result"
    },
    {
     "data": {
      "image/png": "[encoded data removed]",
      "text/plain": [
       "<Figure size 432x288 with 2 Axes>"
      ]
     },
     "metadata": {
      "needs_background": "light"
     },
     "output_type": "display_data"
    }
   ],
   "source": [
    "# Plot the dual-axis graph\n",
    "fig, ax1 = plt.subplots()\n",
    "\n",
    "# Plot first y-axis\n",
    "color = 'tab:red'\n",
    "ax1.set_xlabel('SKU_ID')\n",
    "ax1.set_ylabel('Customer Purchases', color=color)\n",
    "ax1.bar(common_records['sku_ID'], common_records['count_x'], color=color)\n",
    "ax1.tick_params(axis='y', labelcolor=color)\n",
    "plt.xticks(rotation='vertical')\n",
    "\n",
    "# Create a second y-axis\n",
    "ax2 = ax1.twinx()\n",
    "color = 'tab:blue'\n",
    "plt.ylim(0,1700)\n",
    "ax2.set_ylabel('Inventory Stock', color=color)\n",
    "ax2.plot(common_records['sku_ID'], common_records['count_y'], color=color, marker='o')\n",
    "ax2.tick_params(axis='y', labelcolor=color)\n",
    "\n",
    "# Display the plot\n",
    "plt.title('Top Customer Purchases vs Inventory Stock')\n",
    "plt.show()"
   ]
  },
  {
   "cell_type": "markdown",
   "id": "9c0bdcd4",
   "metadata": {},
   "source": [
    "Out of top 10 most frequently ordered products 5 products are highly stocked in inventory which shows it is highly available with effective inventory management to meet customer requirements.\n",
    "The above graph has the top 5 products that are most frequently ordered by the users and also highly available items in the inventory. For example '8dc4a01dec' is ordered 9891 times with considerable remaining of 1305 units post the purchases."
   ]
  },
  {
   "cell_type": "markdown",
   "id": "ae645a56",
   "metadata": {},
   "source": [
    "# Predictng the customer purchases"
   ]
  },
  {
   "cell_type": "code",
   "execution_count": 95,
   "id": "2bac3515",
   "metadata": {
    "scrolled": true
   },
   "outputs": [
    {
     "data": {
      "text/plain": [
       "(543340, 31)"
      ]
     },
     "execution_count": 95,
     "metadata": {},
     "output_type": "execute_result"
    },
    {
     "data": {
      "text/plain": [
       "Index(['user_ID', 'user_level', 'first_order', 'plus', 'gender', 'age',\n",
       "       'marital_status', 'education', 'city_level', 'purchase_power', 'year',\n",
       "       'index', 'order_ID', 'sku_ID', 'order_date', 'order_time', 'quantity',\n",
       "       'type', 'promise', 'original_unit_price', 'final_unit_price',\n",
       "       'direct_discount_per_unit', 'quantity_discount_per_unit',\n",
       "       'bundle_discount_per_unit', 'coupon_discount_per_unit', 'gift_item',\n",
       "       'dc_ori', 'dc_des', 'brand_ID', 'amount', 'purchased'],\n",
       "      dtype='object')"
      ]
     },
     "execution_count": 95,
     "metadata": {},
     "output_type": "execute_result"
    }
   ],
   "source": [
    "order_user = pd.merge(user, order, on='user_ID', how='left')\n",
    "order_user['purchased'] = order_user['order_ID'].notnull().astype(int)\n",
    "order_user.shape\n",
    "order_user.columns"
   ]
  },
  {
   "cell_type": "code",
   "execution_count": 96,
   "id": "32637ded",
   "metadata": {},
   "outputs": [
    {
     "data": {
      "text/plain": [
       "user_level        0\n",
       "plus              0\n",
       "gender            0\n",
       "age               0\n",
       "marital_status    0\n",
       "education         0\n",
       "city_level        0\n",
       "purchase_power    0\n",
       "dtype: int64"
      ]
     },
     "execution_count": 96,
     "metadata": {},
     "output_type": "execute_result"
    },
    {
     "data": {
      "text/plain": [
       "0"
      ]
     },
     "execution_count": 96,
     "metadata": {},
     "output_type": "execute_result"
    }
   ],
   "source": [
    "from sklearn.model_selection import train_test_split\n",
    "from sklearn.model_selection import cross_val_score\n",
    "from sklearn.naive_bayes import GaussianNB\n",
    "from sklearn.tree import DecisionTreeClassifier\n",
    "from sklearn.linear_model import LogisticRegression\n",
    "from sklearn.ensemble import RandomForestClassifier, GradientBoostingClassifier, AdaBoostClassifier\n",
    "from sklearn.metrics import accuracy_score, classification_report\n",
    "from sklearn.preprocessing import StandardScaler\n",
    "from sklearn.preprocessing import LabelEncoder\n",
    "from sklearn.feature_selection import SelectFromModel\n",
    "from sklearn.decomposition import PCA\n",
    "\n",
    "# Define features and target variable\n",
    "features = ['user_level', 'plus', 'gender', 'age', 'marital_status', 'education', 'city_level','purchase_power']\n",
    "target = 'purchased'\n",
    "\n",
    "X = order_user[features]\n",
    "y = order_user[target]\n",
    "\n",
    "X.isnull().sum()\n",
    "y.isnull().sum()"
   ]
  },
  {
   "cell_type": "code",
   "execution_count": 97,
   "id": "12ce24d0",
   "metadata": {},
   "outputs": [
    {
     "data": {
      "text/plain": [
       "<Figure size 1800x1800 with 0 Axes>"
      ]
     },
     "execution_count": 97,
     "metadata": {},
     "output_type": "execute_result"
    },
    {
     "data": {
      "text/plain": [
       "<AxesSubplot:>"
      ]
     },
     "execution_count": 97,
     "metadata": {},
     "output_type": "execute_result"
    },
    {
     "data": {
      "text/plain": [
       "(array([0.5, 1.5, 2.5, 3.5, 4.5, 5.5, 6.5, 7.5]),\n",
       " [Text(0.5, 0, 'user_level'),\n",
       "  Text(1.5, 0, 'plus'),\n",
       "  Text(2.5, 0, 'gender'),\n",
       "  Text(3.5, 0, 'age'),\n",
       "  Text(4.5, 0, 'marital_status'),\n",
       "  Text(5.5, 0, 'education'),\n",
       "  Text(6.5, 0, 'city_level'),\n",
       "  Text(7.5, 0, 'purchase_power')])"
      ]
     },
     "execution_count": 97,
     "metadata": {},
     "output_type": "execute_result"
    },
    {
     "data": {
      "text/plain": [
       "Text(0.5, 1.0, 'Correlation Matrix')"
      ]
     },
     "execution_count": 97,
     "metadata": {},
     "output_type": "execute_result"
    },
    {
     "data": {
      "image/png": "[encoded data removed]",
      "text/plain": [
       "<Figure size 1800x1800 with 2 Axes>"
      ]
     },
     "metadata": {
      "needs_background": "light"
     },
     "output_type": "display_data"
    }
   ],
   "source": [
    "plt.figure(figsize=(25, 25))\n",
    "# Creating a heatmap using seaborn\n",
    "sns.heatmap(X.corr(), annot=True, cmap='coolwarm', fmt=\".2f\", square=True)\n",
    "\n",
    "# Rotating the x-axis labels for better readability\n",
    "plt.xticks(rotation=90)\n",
    "\n",
    "# Adding title\n",
    "plt.title('Correlation Matrix')\n",
    "\n",
    "# Displaying the plot\n",
    "plt.show()"
   ]
  },
  {
   "cell_type": "markdown",
   "id": "c0344f60",
   "metadata": {},
   "source": [
    "\n",
    "# Class Balance: Balancing the data with Over sampling Technique"
   ]
  },
  {
   "cell_type": "code",
   "execution_count": 98,
   "id": "afe74b64",
   "metadata": {},
   "outputs": [
    {
     "name": "stdout",
     "output_type": "stream",
     "text": [
      "Class Distribution:\n",
      "1    540018\n",
      "0      3322\n",
      "Name: purchased, dtype: int64\n",
      "over-sampling Class Distribution:\n",
      "1    540018\n",
      "0    540018\n",
      "Name: purchased, dtype: int64\n"
     ]
    }
   ],
   "source": [
    "# Check class distribution\n",
    "class_distribution = y.value_counts()\n",
    "print(\"Class Distribution:\")\n",
    "print(class_distribution)\n",
    "\n",
    "# Implementing oversampling or undersampling (if needed)\n",
    "from imblearn.over_sampling import RandomOverSampler\n",
    "\n",
    "# Random over-sampling\n",
    "oversampler = RandomOverSampler(random_state=42)\n",
    "X_resampled, y_resampled = oversampler.fit_resample(X, y)\n",
    "over_sampling_class_distribution = y_resampled.value_counts()\n",
    "print(\"over-sampling Class Distribution:\")\n",
    "print(over_sampling_class_distribution)\n"
   ]
  },
  {
   "cell_type": "code",
   "execution_count": 100,
   "id": "ef4135e0",
   "metadata": {},
   "outputs": [
    {
     "data": {
      "text/plain": [
       "LogisticRegression()"
      ]
     },
     "execution_count": 100,
     "metadata": {},
     "output_type": "execute_result"
    },
    {
     "name": "stdout",
     "output_type": "stream",
     "text": [
      "Cross-Validation Scores: [0.55061498 0.55350933 0.55423708]\n",
      "Mean CV Score: 0.5527871293179116\n",
      "Logistic Regression Accuracy: 0.5518816039465351\n",
      "Logistic Regression Classification Report:\n",
      "Logistic Regression ROC AUC: 0.5518145205515994\n",
      "              precision    recall  f1-score   support\n",
      "\n",
      "           0       0.56      0.47      0.51    269783\n",
      "           1       0.55      0.63      0.59    270235\n",
      "\n",
      "    accuracy                           0.55    540018\n",
      "   macro avg       0.55      0.55      0.55    540018\n",
      "weighted avg       0.55      0.55      0.55    540018\n",
      "\n",
      "--------------------------------------------------\n",
      "PCA Components for Logistic Regression :\n",
      " [[ 0.53893967  0.46129145 -0.19492707  0.24238957  0.32085018  0.41562712\n",
      "   0.17296655 -0.30724061]\n",
      " [-0.13753829 -0.23110415  0.45797565  0.60947039  0.5504013   0.02680916\n",
      "  -0.01149095  0.20660559]]\n",
      "Explained Variance Ratio for Logistic Regression :\n",
      " [0.26867175 0.14540876]\n",
      "\n"
     ]
    },
    {
     "data": {
      "text/plain": [
       "DecisionTreeClassifier()"
      ]
     },
     "execution_count": 100,
     "metadata": {},
     "output_type": "execute_result"
    },
    {
     "name": "stdout",
     "output_type": "stream",
     "text": [
      "Cross-Validation Scores: [0.6774552  0.67609413 0.67651634]\n",
      "Mean CV Score: 0.6766885548259501\n",
      "Decision Tree Accuracy: 0.677040394949798\n",
      "Decision Tree Classification Report:\n",
      "Decision Tree ROC AUC: 0.6771251781431096\n",
      "              precision    recall  f1-score   support\n",
      "\n",
      "           0       0.65      0.78      0.71    269783\n",
      "           1       0.72      0.58      0.64    270235\n",
      "\n",
      "    accuracy                           0.68    540018\n",
      "   macro avg       0.68      0.68      0.67    540018\n",
      "weighted avg       0.68      0.68      0.67    540018\n",
      "\n",
      "--------------------------------------------------\n",
      "\n"
     ]
    },
    {
     "data": {
      "text/plain": [
       "GaussianNB()"
      ]
     },
     "execution_count": 100,
     "metadata": {},
     "output_type": "execute_result"
    },
    {
     "name": "stdout",
     "output_type": "stream",
     "text": [
      "Cross-Validation Scores: [0.56202571 0.56513116 0.56497006]\n",
      "Mean CV Score: 0.5640423097007877\n",
      "Naive Bayes Accuracy: 0.5641756385898248\n",
      "Naive Bayes Classification Report:\n",
      "Naive Bayes ROC AUC: 0.5641352867775749\n",
      "              precision    recall  f1-score   support\n",
      "\n",
      "           0       0.57      0.52      0.54    269783\n",
      "           1       0.56      0.61      0.58    270235\n",
      "\n",
      "    accuracy                           0.56    540018\n",
      "   macro avg       0.56      0.56      0.56    540018\n",
      "weighted avg       0.56      0.56      0.56    540018\n",
      "\n",
      "--------------------------------------------------\n",
      "PCA Components for Naive Bayes :\n",
      " [[ 0.53893967  0.46129145 -0.19492707  0.24238957  0.32085018  0.41562712\n",
      "   0.17296655 -0.30724061]\n",
      " [-0.13753829 -0.23110415  0.45797565  0.60947039  0.5504013   0.02680916\n",
      "  -0.01149095  0.20660559]]\n",
      "Explained Variance Ratio for Naive Bayes :\n",
      " [0.26867175 0.14540876]\n",
      "\n"
     ]
    },
    {
     "data": {
      "text/plain": [
       "RandomForestClassifier()"
      ]
     },
     "execution_count": 100,
     "metadata": {},
     "output_type": "execute_result"
    },
    {
     "name": "stdout",
     "output_type": "stream",
     "text": [
      "Cross-Validation Scores: [0.67800518 0.67635523 0.67677744]\n",
      "Mean CV Score: 0.6770459503201746\n",
      "Random Forest Accuracy: 0.6771496505672033\n",
      "Random Forest Classification Report:\n",
      "Random Forest ROC AUC: 0.6772342679906593\n",
      "              precision    recall  f1-score   support\n",
      "\n",
      "           0       0.65      0.78      0.71    269783\n",
      "           1       0.72      0.58      0.64    270235\n",
      "\n",
      "    accuracy                           0.68    540018\n",
      "   macro avg       0.68      0.68      0.67    540018\n",
      "weighted avg       0.68      0.68      0.67    540018\n",
      "\n",
      "--------------------------------------------------\n",
      "Feature Importance for Random Forest :\n",
      "                 importance\n",
      "user_level        0.218516\n",
      "city_level        0.207477\n",
      "age               0.177080\n",
      "purchase_power    0.134961\n",
      "education         0.120793\n",
      "gender            0.051886\n",
      "marital_status    0.045985\n",
      "plus              0.043301\n",
      "\n"
     ]
    },
    {
     "data": {
      "text/plain": [
       "GradientBoostingClassifier()"
      ]
     },
     "execution_count": 100,
     "metadata": {},
     "output_type": "execute_result"
    },
    {
     "name": "stdout",
     "output_type": "stream",
     "text": [
      "Cross-Validation Scores: [0.5877693  0.58938035 0.58705821]\n",
      "Mean CV Score: 0.5880692865793362\n",
      "Gradient Boosting Accuracy: 0.5879322541100482\n",
      "Gradient Boosting Classification Report:\n",
      "Gradient Boosting ROC AUC: 0.5879911772357849\n",
      "              precision    recall  f1-score   support\n",
      "\n",
      "           0       0.58      0.66      0.61    269783\n",
      "           1       0.60      0.52      0.56    270235\n",
      "\n",
      "    accuracy                           0.59    540018\n",
      "   macro avg       0.59      0.59      0.59    540018\n",
      "weighted avg       0.59      0.59      0.59    540018\n",
      "\n",
      "--------------------------------------------------\n",
      "Feature Importance for Gradient Boosting :\n",
      "                 importance\n",
      "user_level        0.258139\n",
      "plus              0.186981\n",
      "age               0.184094\n",
      "education         0.181892\n",
      "purchase_power    0.069031\n",
      "city_level        0.059634\n",
      "marital_status    0.049526\n",
      "gender            0.010704\n",
      "\n"
     ]
    }
   ],
   "source": [
    "from sklearn.preprocessing import StandardScaler\n",
    "from sklearn.model_selection import cross_val_score\n",
    "from sklearn.metrics import roc_auc_score\n",
    "from sklearn.linear_model import LogisticRegression\n",
    "from sklearn.ensemble import GradientBoostingClassifier\n",
    "from sklearn.tree import DecisionTreeClassifier\n",
    "from sklearn.naive_bayes import GaussianNB\n",
    "from sklearn.ensemble import RandomForestClassifier\n",
    "\n",
    "# Split the data into training and testing sets\n",
    "X_train, X_test, y_train, y_test = train_test_split(X_resampled, y_resampled, test_size=0.5, random_state=40)\n",
    "\n",
    "# Standardize the features\n",
    "scaler = StandardScaler()\n",
    "X_train_scaled = scaler.fit_transform(X_train)\n",
    "X_test_scaled = scaler.transform(X_test)  \n",
    "\n",
    "# Define a dictionary to store models\n",
    "models = {\n",
    "    'Logistic Regression': LogisticRegression(),\n",
    "    'Decision Tree': DecisionTreeClassifier(),\n",
    "    'Naive Bayes': GaussianNB(),\n",
    "    'Random Forest': RandomForestClassifier(n_estimators=100),\n",
    "    'Gradient Boosting' : GradientBoostingClassifier()\n",
    "}\n",
    "\n",
    "# Train and evaluate each model\n",
    "for name, model in models.items():\n",
    "    model.fit(X_train_scaled, y_train)\n",
    "    predictions = model.predict(X_test_scaled)\n",
    "    accuracy = accuracy_score(y_test, predictions)\n",
    "    roc_auc = roc_auc_score(y_test, predictions)\n",
    "    \n",
    "    # Perform cross-validation on training data\n",
    "    scores = cross_val_score(model, X_train_scaled, y_train, cv=3)\n",
    "    \n",
    "    print(\"Cross-Validation Scores:\", scores)\n",
    "    print(\"Mean CV Score:\", scores.mean())\n",
    "    print(f\"{name} Accuracy:\", accuracy)\n",
    "    print(f\"{name} Classification Report:\")\n",
    "    print(f\"{name} ROC AUC:\", roc_auc)\n",
    "    print(classification_report(y_test, predictions))\n",
    "    print(\"-\" * 50)\n",
    "    # Feature Importance\n",
    "    if name == 'Random Forest' or name == 'Gradient Boosting':\n",
    "        feature_importances = pd.DataFrame(model.feature_importances_,\n",
    "                                           index=X_train.columns,\n",
    "                                           columns=['importance']).sort_values('importance', ascending=False)\n",
    "        print(\"Feature Importance for\", name, \":\\n\", feature_importances)\n",
    "\n",
    "    # Dimensionality Reduction using PCA\n",
    "    if name == 'Logistic Regression' or name == 'Naive Bayes':\n",
    "        pca = PCA(n_components=2)\n",
    "        X_pca = pca.fit_transform(X_train_scaled)\n",
    "        print(\"PCA Components for\", name, \":\\n\", pca.components_)\n",
    "        print(\"Explained Variance Ratio for\", name, \":\\n\", pca.explained_variance_ratio_)\n",
    "\n",
    "    print()"
   ]
  },
  {
   "cell_type": "markdown",
   "id": "d386e08a",
   "metadata": {},
   "source": [
    "# Recommendation system"
   ]
  },
  {
   "cell_type": "markdown",
   "id": "d0111f04",
   "metadata": {},
   "source": [
    "# Model-1: Similarity-Based Collaborative Filtering (KNN model) \n",
    "# Based on the input user_ID recommends the products that given user has never purchased"
   ]
  },
  {
   "cell_type": "code",
   "execution_count": 309,
   "id": "c272dae3",
   "metadata": {},
   "outputs": [],
   "source": [
    "order_sku = pd.merge(order,Sku, on =\"sku_ID\", how = \"inner\")\n",
    "order_sku = pd.DataFrame(order_sku[['user_ID','sku_ID','rating']])\n",
    "\n",
    "# Group by 'user_ID' and 'sku_ID', then calculate the average of 'rating'\n",
    "order_sku = order_sku.groupby(['user_ID', 'sku_ID'])['rating'].mean().reset_index()\n",
    "order_sku = order_sku[order_sku['rating']!=0] "
   ]
  },
  {
   "cell_type": "code",
   "execution_count": 313,
   "id": "1162cb3b",
   "metadata": {},
   "outputs": [
    {
     "data": {
      "text/plain": [
       "(760, 3)"
      ]
     },
     "execution_count": 313,
     "metadata": {},
     "output_type": "execute_result"
    }
   ],
   "source": [
    "# Applying constraint on user id using it's count \n",
    "x = order_sku.groupby('user_ID').count()['rating'] > 10\n",
    "filtered_df = order_sku[order_sku['user_ID'].isin(x[x].index)]\n",
    "\n",
    "# Applying constraint on number of rartings\n",
    "y = order_sku.groupby('sku_ID').count()['rating'] > 10\n",
    "filtered_df = filtered_df[filtered_df['sku_ID'].isin(y[y].index)]\n",
    "filtered_df.shape "
   ]
  },
  {
   "cell_type": "code",
   "execution_count": 320,
   "id": "54947cbd",
   "metadata": {},
   "outputs": [],
   "source": [
    "from sklearn.metrics.pairwise import cosine_similarity\n",
    "\n",
    "def get_recommendations(data, user_ID, top_n):\n",
    "    # Creating a user-item interactions matrix\n",
    "    user_item_interactions_matrix = filtered_df.pivot(index='user_ID', columns='sku_ID', values='rating').fillna(0)\n",
    "\n",
    "    # Calculate the cosine similarity matrix for the item-item interactions\n",
    "    item_similarity_scores = cosine_similarity(user_item_interactions_matrix.T)\n",
    "\n",
    "    # Get the user's ratings\n",
    "    user_ratings = user_item_interactions_matrix.loc[user_ID]\n",
    "\n",
    "    # Extracting sku_ids which the user has not purchased yet\n",
    "    non_purchased_products = user_item_interactions_matrix.columns[user_item_interactions_matrix.loc[user_ID] == 0].tolist()\n",
    "\n",
    "    product_recommendations = []\n",
    "\n",
    "    # Iterating over each sku ID which the user has not interacted with yet\n",
    "    for sku_ID in non_purchased_products:\n",
    "        sku_index = user_item_interactions_matrix.columns.get_loc(sku_ID)\n",
    "\n",
    "        # Compute a score for each non-purchased product, based on item similarity and user's existing ratings\n",
    "        score = sum(item_similarity_scores[sku_index] * user_ratings)/100\n",
    "\n",
    "\n",
    "        # Appending the product ID, the computed score, and the estimated rating\n",
    "        product_recommendations.append((sku_ID, score))\n",
    "\n",
    "    # Sorting the recommended products by the computed score and estimated rating in descending order\n",
    "    product_recommendations.sort(key=lambda x: x[1], reverse=True)\n",
    "\n",
    "    return product_recommendations[:top_n]\n"
   ]
  },
  {
   "cell_type": "code",
   "execution_count": 323,
   "id": "337ed7c2",
   "metadata": {},
   "outputs": [
    {
     "data": {
      "text/html": [
       "<div>\n",
       "<style scoped>\n",
       "    .dataframe tbody tr th:only-of-type {\n",
       "        vertical-align: middle;\n",
       "    }\n",
       "\n",
       "    .dataframe tbody tr th {\n",
       "        vertical-align: top;\n",
       "    }\n",
       "\n",
       "    .dataframe thead th {\n",
       "        text-align: right;\n",
       "    }\n",
       "</style>\n",
       "<table border=\"1\" class=\"dataframe\">\n",
       "  <thead>\n",
       "    <tr style=\"text-align: right;\">\n",
       "      <th>sku_ID</th>\n",
       "      <th>00804aa873</th>\n",
       "      <th>019dedb453</th>\n",
       "      <th>01c9d91829</th>\n",
       "      <th>027604c03a</th>\n",
       "      <th>067b673f2b</th>\n",
       "      <th>068f4481b3</th>\n",
       "      <th>093f8b489e</th>\n",
       "      <th>0aa7e6b035</th>\n",
       "      <th>0b16a50488</th>\n",
       "      <th>0b2fd9f253</th>\n",
       "      <th>...</th>\n",
       "      <th>f16794cf8a</th>\n",
       "      <th>f255daf3ab</th>\n",
       "      <th>f3bb37b4ff</th>\n",
       "      <th>f52ec33325</th>\n",
       "      <th>f5b527bb09</th>\n",
       "      <th>fa0a1859ef</th>\n",
       "      <th>fb209ec29d</th>\n",
       "      <th>fbce41fd82</th>\n",
       "      <th>fc728c8ac1</th>\n",
       "      <th>fffe1bd280</th>\n",
       "    </tr>\n",
       "    <tr>\n",
       "      <th>user_ID</th>\n",
       "      <th></th>\n",
       "      <th></th>\n",
       "      <th></th>\n",
       "      <th></th>\n",
       "      <th></th>\n",
       "      <th></th>\n",
       "      <th></th>\n",
       "      <th></th>\n",
       "      <th></th>\n",
       "      <th></th>\n",
       "      <th></th>\n",
       "      <th></th>\n",
       "      <th></th>\n",
       "      <th></th>\n",
       "      <th></th>\n",
       "      <th></th>\n",
       "      <th></th>\n",
       "      <th></th>\n",
       "      <th></th>\n",
       "      <th></th>\n",
       "      <th></th>\n",
       "    </tr>\n",
       "  </thead>\n",
       "  <tbody>\n",
       "    <tr>\n",
       "      <th>14b5430f94</th>\n",
       "      <td>4.0</td>\n",
       "      <td>0.0</td>\n",
       "      <td>3.0</td>\n",
       "      <td>0.0</td>\n",
       "      <td>0.0</td>\n",
       "      <td>0.0</td>\n",
       "      <td>0.0</td>\n",
       "      <td>0.0</td>\n",
       "      <td>0.0</td>\n",
       "      <td>1.0</td>\n",
       "      <td>...</td>\n",
       "      <td>0.0</td>\n",
       "      <td>5.0</td>\n",
       "      <td>0.0</td>\n",
       "      <td>0.0</td>\n",
       "      <td>0.0</td>\n",
       "      <td>0.0</td>\n",
       "      <td>0.0</td>\n",
       "      <td>0.0</td>\n",
       "      <td>0.0</td>\n",
       "      <td>0.0</td>\n",
       "    </tr>\n",
       "    <tr>\n",
       "      <th>1935d21e59</th>\n",
       "      <td>0.0</td>\n",
       "      <td>0.0</td>\n",
       "      <td>0.0</td>\n",
       "      <td>0.0</td>\n",
       "      <td>5.0</td>\n",
       "      <td>0.0</td>\n",
       "      <td>0.0</td>\n",
       "      <td>0.0</td>\n",
       "      <td>0.0</td>\n",
       "      <td>0.0</td>\n",
       "      <td>...</td>\n",
       "      <td>0.0</td>\n",
       "      <td>0.0</td>\n",
       "      <td>3.0</td>\n",
       "      <td>0.0</td>\n",
       "      <td>0.0</td>\n",
       "      <td>0.0</td>\n",
       "      <td>0.0</td>\n",
       "      <td>0.0</td>\n",
       "      <td>0.0</td>\n",
       "      <td>0.0</td>\n",
       "    </tr>\n",
       "    <tr>\n",
       "      <th>1a75247e23</th>\n",
       "      <td>0.0</td>\n",
       "      <td>0.0</td>\n",
       "      <td>0.0</td>\n",
       "      <td>0.0</td>\n",
       "      <td>0.0</td>\n",
       "      <td>0.0</td>\n",
       "      <td>0.0</td>\n",
       "      <td>0.0</td>\n",
       "      <td>0.0</td>\n",
       "      <td>0.0</td>\n",
       "      <td>...</td>\n",
       "      <td>0.0</td>\n",
       "      <td>0.0</td>\n",
       "      <td>0.0</td>\n",
       "      <td>0.0</td>\n",
       "      <td>0.0</td>\n",
       "      <td>0.0</td>\n",
       "      <td>0.0</td>\n",
       "      <td>0.0</td>\n",
       "      <td>0.0</td>\n",
       "      <td>0.0</td>\n",
       "    </tr>\n",
       "    <tr>\n",
       "      <th>1e4bfd96e5</th>\n",
       "      <td>0.0</td>\n",
       "      <td>0.0</td>\n",
       "      <td>0.0</td>\n",
       "      <td>0.0</td>\n",
       "      <td>5.0</td>\n",
       "      <td>0.0</td>\n",
       "      <td>0.0</td>\n",
       "      <td>0.0</td>\n",
       "      <td>0.0</td>\n",
       "      <td>0.0</td>\n",
       "      <td>...</td>\n",
       "      <td>0.0</td>\n",
       "      <td>0.0</td>\n",
       "      <td>0.0</td>\n",
       "      <td>0.0</td>\n",
       "      <td>0.0</td>\n",
       "      <td>0.0</td>\n",
       "      <td>0.0</td>\n",
       "      <td>0.0</td>\n",
       "      <td>0.0</td>\n",
       "      <td>0.0</td>\n",
       "    </tr>\n",
       "    <tr>\n",
       "      <th>2be693ef24</th>\n",
       "      <td>0.0</td>\n",
       "      <td>0.0</td>\n",
       "      <td>0.0</td>\n",
       "      <td>0.0</td>\n",
       "      <td>5.0</td>\n",
       "      <td>0.0</td>\n",
       "      <td>0.0</td>\n",
       "      <td>0.0</td>\n",
       "      <td>2.0</td>\n",
       "      <td>1.0</td>\n",
       "      <td>...</td>\n",
       "      <td>0.0</td>\n",
       "      <td>0.0</td>\n",
       "      <td>0.0</td>\n",
       "      <td>0.0</td>\n",
       "      <td>0.0</td>\n",
       "      <td>0.0</td>\n",
       "      <td>0.0</td>\n",
       "      <td>0.0</td>\n",
       "      <td>0.0</td>\n",
       "      <td>0.0</td>\n",
       "    </tr>\n",
       "    <tr>\n",
       "      <th>2c43943968</th>\n",
       "      <td>0.0</td>\n",
       "      <td>0.0</td>\n",
       "      <td>0.0</td>\n",
       "      <td>0.0</td>\n",
       "      <td>0.0</td>\n",
       "      <td>0.0</td>\n",
       "      <td>0.0</td>\n",
       "      <td>0.0</td>\n",
       "      <td>0.0</td>\n",
       "      <td>0.0</td>\n",
       "      <td>...</td>\n",
       "      <td>0.0</td>\n",
       "      <td>0.0</td>\n",
       "      <td>0.0</td>\n",
       "      <td>0.0</td>\n",
       "      <td>0.0</td>\n",
       "      <td>0.0</td>\n",
       "      <td>0.0</td>\n",
       "      <td>0.0</td>\n",
       "      <td>0.0</td>\n",
       "      <td>0.0</td>\n",
       "    </tr>\n",
       "    <tr>\n",
       "      <th>2dacf67f01</th>\n",
       "      <td>0.0</td>\n",
       "      <td>0.0</td>\n",
       "      <td>3.0</td>\n",
       "      <td>0.0</td>\n",
       "      <td>0.0</td>\n",
       "      <td>5.0</td>\n",
       "      <td>0.0</td>\n",
       "      <td>0.0</td>\n",
       "      <td>0.0</td>\n",
       "      <td>0.0</td>\n",
       "      <td>...</td>\n",
       "      <td>0.0</td>\n",
       "      <td>0.0</td>\n",
       "      <td>0.0</td>\n",
       "      <td>0.0</td>\n",
       "      <td>4.0</td>\n",
       "      <td>0.0</td>\n",
       "      <td>0.0</td>\n",
       "      <td>5.0</td>\n",
       "      <td>0.0</td>\n",
       "      <td>0.0</td>\n",
       "    </tr>\n",
       "    <tr>\n",
       "      <th>3b029ac012</th>\n",
       "      <td>0.0</td>\n",
       "      <td>0.0</td>\n",
       "      <td>0.0</td>\n",
       "      <td>0.0</td>\n",
       "      <td>0.0</td>\n",
       "      <td>5.0</td>\n",
       "      <td>0.0</td>\n",
       "      <td>0.0</td>\n",
       "      <td>0.0</td>\n",
       "      <td>0.0</td>\n",
       "      <td>...</td>\n",
       "      <td>0.0</td>\n",
       "      <td>0.0</td>\n",
       "      <td>0.0</td>\n",
       "      <td>0.0</td>\n",
       "      <td>0.0</td>\n",
       "      <td>0.0</td>\n",
       "      <td>0.0</td>\n",
       "      <td>5.0</td>\n",
       "      <td>0.0</td>\n",
       "      <td>0.0</td>\n",
       "    </tr>\n",
       "    <tr>\n",
       "      <th>3b27615997</th>\n",
       "      <td>0.0</td>\n",
       "      <td>0.0</td>\n",
       "      <td>3.0</td>\n",
       "      <td>0.0</td>\n",
       "      <td>0.0</td>\n",
       "      <td>0.0</td>\n",
       "      <td>0.0</td>\n",
       "      <td>0.0</td>\n",
       "      <td>0.0</td>\n",
       "      <td>0.0</td>\n",
       "      <td>...</td>\n",
       "      <td>0.0</td>\n",
       "      <td>5.0</td>\n",
       "      <td>3.0</td>\n",
       "      <td>3.0</td>\n",
       "      <td>0.0</td>\n",
       "      <td>0.0</td>\n",
       "      <td>0.0</td>\n",
       "      <td>0.0</td>\n",
       "      <td>4.0</td>\n",
       "      <td>0.0</td>\n",
       "    </tr>\n",
       "    <tr>\n",
       "      <th>3bacdda9a4</th>\n",
       "      <td>0.0</td>\n",
       "      <td>0.0</td>\n",
       "      <td>0.0</td>\n",
       "      <td>0.0</td>\n",
       "      <td>0.0</td>\n",
       "      <td>0.0</td>\n",
       "      <td>0.0</td>\n",
       "      <td>0.0</td>\n",
       "      <td>0.0</td>\n",
       "      <td>0.0</td>\n",
       "      <td>...</td>\n",
       "      <td>0.0</td>\n",
       "      <td>0.0</td>\n",
       "      <td>3.0</td>\n",
       "      <td>0.0</td>\n",
       "      <td>0.0</td>\n",
       "      <td>0.0</td>\n",
       "      <td>0.0</td>\n",
       "      <td>0.0</td>\n",
       "      <td>0.0</td>\n",
       "      <td>0.0</td>\n",
       "    </tr>\n",
       "    <tr>\n",
       "      <th>42e3f9c6f1</th>\n",
       "      <td>0.0</td>\n",
       "      <td>0.0</td>\n",
       "      <td>0.0</td>\n",
       "      <td>0.0</td>\n",
       "      <td>0.0</td>\n",
       "      <td>0.0</td>\n",
       "      <td>0.0</td>\n",
       "      <td>0.0</td>\n",
       "      <td>0.0</td>\n",
       "      <td>0.0</td>\n",
       "      <td>...</td>\n",
       "      <td>0.0</td>\n",
       "      <td>0.0</td>\n",
       "      <td>0.0</td>\n",
       "      <td>0.0</td>\n",
       "      <td>0.0</td>\n",
       "      <td>0.0</td>\n",
       "      <td>0.0</td>\n",
       "      <td>0.0</td>\n",
       "      <td>0.0</td>\n",
       "      <td>0.0</td>\n",
       "    </tr>\n",
       "    <tr>\n",
       "      <th>436ce8a5eb</th>\n",
       "      <td>0.0</td>\n",
       "      <td>0.0</td>\n",
       "      <td>0.0</td>\n",
       "      <td>0.0</td>\n",
       "      <td>0.0</td>\n",
       "      <td>5.0</td>\n",
       "      <td>0.0</td>\n",
       "      <td>0.0</td>\n",
       "      <td>2.0</td>\n",
       "      <td>0.0</td>\n",
       "      <td>...</td>\n",
       "      <td>0.0</td>\n",
       "      <td>0.0</td>\n",
       "      <td>0.0</td>\n",
       "      <td>0.0</td>\n",
       "      <td>0.0</td>\n",
       "      <td>0.0</td>\n",
       "      <td>0.0</td>\n",
       "      <td>0.0</td>\n",
       "      <td>0.0</td>\n",
       "      <td>0.0</td>\n",
       "    </tr>\n",
       "    <tr>\n",
       "      <th>5ae805abb3</th>\n",
       "      <td>0.0</td>\n",
       "      <td>0.0</td>\n",
       "      <td>0.0</td>\n",
       "      <td>0.0</td>\n",
       "      <td>0.0</td>\n",
       "      <td>5.0</td>\n",
       "      <td>0.0</td>\n",
       "      <td>0.0</td>\n",
       "      <td>0.0</td>\n",
       "      <td>0.0</td>\n",
       "      <td>...</td>\n",
       "      <td>0.0</td>\n",
       "      <td>0.0</td>\n",
       "      <td>0.0</td>\n",
       "      <td>0.0</td>\n",
       "      <td>0.0</td>\n",
       "      <td>0.0</td>\n",
       "      <td>0.0</td>\n",
       "      <td>0.0</td>\n",
       "      <td>0.0</td>\n",
       "      <td>0.0</td>\n",
       "    </tr>\n",
       "    <tr>\n",
       "      <th>5c209f9405</th>\n",
       "      <td>0.0</td>\n",
       "      <td>0.0</td>\n",
       "      <td>0.0</td>\n",
       "      <td>0.0</td>\n",
       "      <td>0.0</td>\n",
       "      <td>0.0</td>\n",
       "      <td>0.0</td>\n",
       "      <td>0.0</td>\n",
       "      <td>0.0</td>\n",
       "      <td>0.0</td>\n",
       "      <td>...</td>\n",
       "      <td>0.0</td>\n",
       "      <td>0.0</td>\n",
       "      <td>3.0</td>\n",
       "      <td>0.0</td>\n",
       "      <td>0.0</td>\n",
       "      <td>0.0</td>\n",
       "      <td>0.0</td>\n",
       "      <td>5.0</td>\n",
       "      <td>0.0</td>\n",
       "      <td>0.0</td>\n",
       "    </tr>\n",
       "    <tr>\n",
       "      <th>67932b299d</th>\n",
       "      <td>0.0</td>\n",
       "      <td>0.0</td>\n",
       "      <td>0.0</td>\n",
       "      <td>0.0</td>\n",
       "      <td>0.0</td>\n",
       "      <td>0.0</td>\n",
       "      <td>0.0</td>\n",
       "      <td>0.0</td>\n",
       "      <td>0.0</td>\n",
       "      <td>0.0</td>\n",
       "      <td>...</td>\n",
       "      <td>0.0</td>\n",
       "      <td>0.0</td>\n",
       "      <td>0.0</td>\n",
       "      <td>0.0</td>\n",
       "      <td>0.0</td>\n",
       "      <td>0.0</td>\n",
       "      <td>0.0</td>\n",
       "      <td>0.0</td>\n",
       "      <td>0.0</td>\n",
       "      <td>3.0</td>\n",
       "    </tr>\n",
       "    <tr>\n",
       "      <th>6f6e75e6d4</th>\n",
       "      <td>0.0</td>\n",
       "      <td>0.0</td>\n",
       "      <td>3.0</td>\n",
       "      <td>0.0</td>\n",
       "      <td>0.0</td>\n",
       "      <td>5.0</td>\n",
       "      <td>0.0</td>\n",
       "      <td>0.0</td>\n",
       "      <td>0.0</td>\n",
       "      <td>0.0</td>\n",
       "      <td>...</td>\n",
       "      <td>0.0</td>\n",
       "      <td>0.0</td>\n",
       "      <td>0.0</td>\n",
       "      <td>0.0</td>\n",
       "      <td>0.0</td>\n",
       "      <td>0.0</td>\n",
       "      <td>0.0</td>\n",
       "      <td>0.0</td>\n",
       "      <td>0.0</td>\n",
       "      <td>0.0</td>\n",
       "    </tr>\n",
       "    <tr>\n",
       "      <th>8e5c946639</th>\n",
       "      <td>0.0</td>\n",
       "      <td>0.0</td>\n",
       "      <td>0.0</td>\n",
       "      <td>0.0</td>\n",
       "      <td>0.0</td>\n",
       "      <td>5.0</td>\n",
       "      <td>0.0</td>\n",
       "      <td>0.0</td>\n",
       "      <td>0.0</td>\n",
       "      <td>0.0</td>\n",
       "      <td>...</td>\n",
       "      <td>0.0</td>\n",
       "      <td>0.0</td>\n",
       "      <td>0.0</td>\n",
       "      <td>0.0</td>\n",
       "      <td>0.0</td>\n",
       "      <td>0.0</td>\n",
       "      <td>0.0</td>\n",
       "      <td>0.0</td>\n",
       "      <td>0.0</td>\n",
       "      <td>0.0</td>\n",
       "    </tr>\n",
       "    <tr>\n",
       "      <th>8ea5858820</th>\n",
       "      <td>0.0</td>\n",
       "      <td>0.0</td>\n",
       "      <td>0.0</td>\n",
       "      <td>0.0</td>\n",
       "      <td>0.0</td>\n",
       "      <td>0.0</td>\n",
       "      <td>0.0</td>\n",
       "      <td>0.0</td>\n",
       "      <td>0.0</td>\n",
       "      <td>0.0</td>\n",
       "      <td>...</td>\n",
       "      <td>0.0</td>\n",
       "      <td>0.0</td>\n",
       "      <td>0.0</td>\n",
       "      <td>0.0</td>\n",
       "      <td>0.0</td>\n",
       "      <td>0.0</td>\n",
       "      <td>0.0</td>\n",
       "      <td>0.0</td>\n",
       "      <td>0.0</td>\n",
       "      <td>0.0</td>\n",
       "    </tr>\n",
       "    <tr>\n",
       "      <th>93788aec3c</th>\n",
       "      <td>0.0</td>\n",
       "      <td>0.0</td>\n",
       "      <td>0.0</td>\n",
       "      <td>0.0</td>\n",
       "      <td>5.0</td>\n",
       "      <td>0.0</td>\n",
       "      <td>0.0</td>\n",
       "      <td>0.0</td>\n",
       "      <td>0.0</td>\n",
       "      <td>0.0</td>\n",
       "      <td>...</td>\n",
       "      <td>0.0</td>\n",
       "      <td>0.0</td>\n",
       "      <td>0.0</td>\n",
       "      <td>0.0</td>\n",
       "      <td>0.0</td>\n",
       "      <td>0.0</td>\n",
       "      <td>0.0</td>\n",
       "      <td>0.0</td>\n",
       "      <td>0.0</td>\n",
       "      <td>0.0</td>\n",
       "    </tr>\n",
       "    <tr>\n",
       "      <th>9766a74a13</th>\n",
       "      <td>0.0</td>\n",
       "      <td>4.0</td>\n",
       "      <td>0.0</td>\n",
       "      <td>0.0</td>\n",
       "      <td>0.0</td>\n",
       "      <td>0.0</td>\n",
       "      <td>3.0</td>\n",
       "      <td>0.0</td>\n",
       "      <td>0.0</td>\n",
       "      <td>0.0</td>\n",
       "      <td>...</td>\n",
       "      <td>0.0</td>\n",
       "      <td>0.0</td>\n",
       "      <td>0.0</td>\n",
       "      <td>0.0</td>\n",
       "      <td>0.0</td>\n",
       "      <td>0.0</td>\n",
       "      <td>0.0</td>\n",
       "      <td>0.0</td>\n",
       "      <td>0.0</td>\n",
       "      <td>0.0</td>\n",
       "    </tr>\n",
       "    <tr>\n",
       "      <th>9776f7422d</th>\n",
       "      <td>0.0</td>\n",
       "      <td>0.0</td>\n",
       "      <td>0.0</td>\n",
       "      <td>0.0</td>\n",
       "      <td>5.0</td>\n",
       "      <td>0.0</td>\n",
       "      <td>0.0</td>\n",
       "      <td>0.0</td>\n",
       "      <td>0.0</td>\n",
       "      <td>0.0</td>\n",
       "      <td>...</td>\n",
       "      <td>0.0</td>\n",
       "      <td>0.0</td>\n",
       "      <td>0.0</td>\n",
       "      <td>0.0</td>\n",
       "      <td>0.0</td>\n",
       "      <td>0.0</td>\n",
       "      <td>0.0</td>\n",
       "      <td>0.0</td>\n",
       "      <td>0.0</td>\n",
       "      <td>0.0</td>\n",
       "    </tr>\n",
       "    <tr>\n",
       "      <th>a309b4f150</th>\n",
       "      <td>0.0</td>\n",
       "      <td>0.0</td>\n",
       "      <td>0.0</td>\n",
       "      <td>0.0</td>\n",
       "      <td>5.0</td>\n",
       "      <td>0.0</td>\n",
       "      <td>0.0</td>\n",
       "      <td>0.0</td>\n",
       "      <td>0.0</td>\n",
       "      <td>0.0</td>\n",
       "      <td>...</td>\n",
       "      <td>0.0</td>\n",
       "      <td>0.0</td>\n",
       "      <td>3.0</td>\n",
       "      <td>0.0</td>\n",
       "      <td>0.0</td>\n",
       "      <td>0.0</td>\n",
       "      <td>0.0</td>\n",
       "      <td>5.0</td>\n",
       "      <td>0.0</td>\n",
       "      <td>3.0</td>\n",
       "    </tr>\n",
       "    <tr>\n",
       "      <th>aa6f8d33c2</th>\n",
       "      <td>0.0</td>\n",
       "      <td>0.0</td>\n",
       "      <td>3.0</td>\n",
       "      <td>0.0</td>\n",
       "      <td>0.0</td>\n",
       "      <td>5.0</td>\n",
       "      <td>0.0</td>\n",
       "      <td>0.0</td>\n",
       "      <td>2.0</td>\n",
       "      <td>1.0</td>\n",
       "      <td>...</td>\n",
       "      <td>0.0</td>\n",
       "      <td>0.0</td>\n",
       "      <td>0.0</td>\n",
       "      <td>0.0</td>\n",
       "      <td>0.0</td>\n",
       "      <td>0.0</td>\n",
       "      <td>0.0</td>\n",
       "      <td>5.0</td>\n",
       "      <td>0.0</td>\n",
       "      <td>0.0</td>\n",
       "    </tr>\n",
       "    <tr>\n",
       "      <th>b1f71012ca</th>\n",
       "      <td>0.0</td>\n",
       "      <td>0.0</td>\n",
       "      <td>0.0</td>\n",
       "      <td>0.0</td>\n",
       "      <td>0.0</td>\n",
       "      <td>0.0</td>\n",
       "      <td>0.0</td>\n",
       "      <td>0.0</td>\n",
       "      <td>0.0</td>\n",
       "      <td>0.0</td>\n",
       "      <td>...</td>\n",
       "      <td>0.0</td>\n",
       "      <td>0.0</td>\n",
       "      <td>0.0</td>\n",
       "      <td>0.0</td>\n",
       "      <td>0.0</td>\n",
       "      <td>0.0</td>\n",
       "      <td>0.0</td>\n",
       "      <td>0.0</td>\n",
       "      <td>0.0</td>\n",
       "      <td>0.0</td>\n",
       "    </tr>\n",
       "    <tr>\n",
       "      <th>b8e50e32fb</th>\n",
       "      <td>0.0</td>\n",
       "      <td>0.0</td>\n",
       "      <td>0.0</td>\n",
       "      <td>0.0</td>\n",
       "      <td>5.0</td>\n",
       "      <td>0.0</td>\n",
       "      <td>0.0</td>\n",
       "      <td>0.0</td>\n",
       "      <td>0.0</td>\n",
       "      <td>0.0</td>\n",
       "      <td>...</td>\n",
       "      <td>0.0</td>\n",
       "      <td>0.0</td>\n",
       "      <td>0.0</td>\n",
       "      <td>0.0</td>\n",
       "      <td>0.0</td>\n",
       "      <td>0.0</td>\n",
       "      <td>0.0</td>\n",
       "      <td>0.0</td>\n",
       "      <td>0.0</td>\n",
       "      <td>0.0</td>\n",
       "    </tr>\n",
       "    <tr>\n",
       "      <th>ba740db18f</th>\n",
       "      <td>0.0</td>\n",
       "      <td>0.0</td>\n",
       "      <td>0.0</td>\n",
       "      <td>0.0</td>\n",
       "      <td>0.0</td>\n",
       "      <td>0.0</td>\n",
       "      <td>0.0</td>\n",
       "      <td>0.0</td>\n",
       "      <td>0.0</td>\n",
       "      <td>0.0</td>\n",
       "      <td>...</td>\n",
       "      <td>0.0</td>\n",
       "      <td>0.0</td>\n",
       "      <td>0.0</td>\n",
       "      <td>0.0</td>\n",
       "      <td>0.0</td>\n",
       "      <td>0.0</td>\n",
       "      <td>0.0</td>\n",
       "      <td>5.0</td>\n",
       "      <td>0.0</td>\n",
       "      <td>0.0</td>\n",
       "    </tr>\n",
       "    <tr>\n",
       "      <th>bd2cea0899</th>\n",
       "      <td>0.0</td>\n",
       "      <td>0.0</td>\n",
       "      <td>0.0</td>\n",
       "      <td>0.0</td>\n",
       "      <td>5.0</td>\n",
       "      <td>5.0</td>\n",
       "      <td>0.0</td>\n",
       "      <td>0.0</td>\n",
       "      <td>0.0</td>\n",
       "      <td>0.0</td>\n",
       "      <td>...</td>\n",
       "      <td>0.0</td>\n",
       "      <td>0.0</td>\n",
       "      <td>0.0</td>\n",
       "      <td>0.0</td>\n",
       "      <td>4.0</td>\n",
       "      <td>0.0</td>\n",
       "      <td>0.0</td>\n",
       "      <td>5.0</td>\n",
       "      <td>0.0</td>\n",
       "      <td>0.0</td>\n",
       "    </tr>\n",
       "    <tr>\n",
       "      <th>c1c8327987</th>\n",
       "      <td>0.0</td>\n",
       "      <td>0.0</td>\n",
       "      <td>0.0</td>\n",
       "      <td>0.0</td>\n",
       "      <td>0.0</td>\n",
       "      <td>5.0</td>\n",
       "      <td>0.0</td>\n",
       "      <td>0.0</td>\n",
       "      <td>0.0</td>\n",
       "      <td>0.0</td>\n",
       "      <td>...</td>\n",
       "      <td>0.0</td>\n",
       "      <td>0.0</td>\n",
       "      <td>0.0</td>\n",
       "      <td>0.0</td>\n",
       "      <td>0.0</td>\n",
       "      <td>0.0</td>\n",
       "      <td>0.0</td>\n",
       "      <td>0.0</td>\n",
       "      <td>0.0</td>\n",
       "      <td>0.0</td>\n",
       "    </tr>\n",
       "    <tr>\n",
       "      <th>c6ca984336</th>\n",
       "      <td>0.0</td>\n",
       "      <td>0.0</td>\n",
       "      <td>0.0</td>\n",
       "      <td>0.0</td>\n",
       "      <td>0.0</td>\n",
       "      <td>5.0</td>\n",
       "      <td>0.0</td>\n",
       "      <td>0.0</td>\n",
       "      <td>0.0</td>\n",
       "      <td>0.0</td>\n",
       "      <td>...</td>\n",
       "      <td>0.0</td>\n",
       "      <td>0.0</td>\n",
       "      <td>0.0</td>\n",
       "      <td>0.0</td>\n",
       "      <td>0.0</td>\n",
       "      <td>0.0</td>\n",
       "      <td>0.0</td>\n",
       "      <td>5.0</td>\n",
       "      <td>0.0</td>\n",
       "      <td>0.0</td>\n",
       "    </tr>\n",
       "    <tr>\n",
       "      <th>c743c5d052</th>\n",
       "      <td>0.0</td>\n",
       "      <td>0.0</td>\n",
       "      <td>0.0</td>\n",
       "      <td>0.0</td>\n",
       "      <td>5.0</td>\n",
       "      <td>0.0</td>\n",
       "      <td>0.0</td>\n",
       "      <td>0.0</td>\n",
       "      <td>0.0</td>\n",
       "      <td>0.0</td>\n",
       "      <td>...</td>\n",
       "      <td>0.0</td>\n",
       "      <td>0.0</td>\n",
       "      <td>0.0</td>\n",
       "      <td>0.0</td>\n",
       "      <td>0.0</td>\n",
       "      <td>0.0</td>\n",
       "      <td>0.0</td>\n",
       "      <td>0.0</td>\n",
       "      <td>0.0</td>\n",
       "      <td>0.0</td>\n",
       "    </tr>\n",
       "    <tr>\n",
       "      <th>c75a7e2c67</th>\n",
       "      <td>0.0</td>\n",
       "      <td>0.0</td>\n",
       "      <td>3.0</td>\n",
       "      <td>5.0</td>\n",
       "      <td>5.0</td>\n",
       "      <td>5.0</td>\n",
       "      <td>0.0</td>\n",
       "      <td>0.0</td>\n",
       "      <td>0.0</td>\n",
       "      <td>0.0</td>\n",
       "      <td>...</td>\n",
       "      <td>0.0</td>\n",
       "      <td>0.0</td>\n",
       "      <td>0.0</td>\n",
       "      <td>0.0</td>\n",
       "      <td>0.0</td>\n",
       "      <td>3.0</td>\n",
       "      <td>0.0</td>\n",
       "      <td>5.0</td>\n",
       "      <td>0.0</td>\n",
       "      <td>0.0</td>\n",
       "    </tr>\n",
       "    <tr>\n",
       "      <th>dfa22a6eb8</th>\n",
       "      <td>0.0</td>\n",
       "      <td>0.0</td>\n",
       "      <td>0.0</td>\n",
       "      <td>0.0</td>\n",
       "      <td>0.0</td>\n",
       "      <td>0.0</td>\n",
       "      <td>0.0</td>\n",
       "      <td>0.0</td>\n",
       "      <td>0.0</td>\n",
       "      <td>0.0</td>\n",
       "      <td>...</td>\n",
       "      <td>0.0</td>\n",
       "      <td>0.0</td>\n",
       "      <td>0.0</td>\n",
       "      <td>0.0</td>\n",
       "      <td>0.0</td>\n",
       "      <td>0.0</td>\n",
       "      <td>0.0</td>\n",
       "      <td>0.0</td>\n",
       "      <td>0.0</td>\n",
       "      <td>0.0</td>\n",
       "    </tr>\n",
       "    <tr>\n",
       "      <th>e125466d95</th>\n",
       "      <td>0.0</td>\n",
       "      <td>0.0</td>\n",
       "      <td>0.0</td>\n",
       "      <td>0.0</td>\n",
       "      <td>0.0</td>\n",
       "      <td>0.0</td>\n",
       "      <td>0.0</td>\n",
       "      <td>0.0</td>\n",
       "      <td>0.0</td>\n",
       "      <td>0.0</td>\n",
       "      <td>...</td>\n",
       "      <td>0.0</td>\n",
       "      <td>0.0</td>\n",
       "      <td>0.0</td>\n",
       "      <td>0.0</td>\n",
       "      <td>0.0</td>\n",
       "      <td>0.0</td>\n",
       "      <td>0.0</td>\n",
       "      <td>0.0</td>\n",
       "      <td>0.0</td>\n",
       "      <td>0.0</td>\n",
       "    </tr>\n",
       "    <tr>\n",
       "      <th>e2448ab099</th>\n",
       "      <td>0.0</td>\n",
       "      <td>0.0</td>\n",
       "      <td>0.0</td>\n",
       "      <td>0.0</td>\n",
       "      <td>5.0</td>\n",
       "      <td>5.0</td>\n",
       "      <td>0.0</td>\n",
       "      <td>0.0</td>\n",
       "      <td>0.0</td>\n",
       "      <td>0.0</td>\n",
       "      <td>...</td>\n",
       "      <td>0.0</td>\n",
       "      <td>0.0</td>\n",
       "      <td>0.0</td>\n",
       "      <td>0.0</td>\n",
       "      <td>0.0</td>\n",
       "      <td>0.0</td>\n",
       "      <td>2.0</td>\n",
       "      <td>5.0</td>\n",
       "      <td>0.0</td>\n",
       "      <td>0.0</td>\n",
       "    </tr>\n",
       "    <tr>\n",
       "      <th>e7fc5bd4ae</th>\n",
       "      <td>0.0</td>\n",
       "      <td>0.0</td>\n",
       "      <td>0.0</td>\n",
       "      <td>0.0</td>\n",
       "      <td>0.0</td>\n",
       "      <td>0.0</td>\n",
       "      <td>0.0</td>\n",
       "      <td>0.0</td>\n",
       "      <td>0.0</td>\n",
       "      <td>0.0</td>\n",
       "      <td>...</td>\n",
       "      <td>0.0</td>\n",
       "      <td>0.0</td>\n",
       "      <td>0.0</td>\n",
       "      <td>0.0</td>\n",
       "      <td>0.0</td>\n",
       "      <td>0.0</td>\n",
       "      <td>0.0</td>\n",
       "      <td>0.0</td>\n",
       "      <td>0.0</td>\n",
       "      <td>0.0</td>\n",
       "    </tr>\n",
       "    <tr>\n",
       "      <th>ed292ef15b</th>\n",
       "      <td>0.0</td>\n",
       "      <td>0.0</td>\n",
       "      <td>0.0</td>\n",
       "      <td>0.0</td>\n",
       "      <td>5.0</td>\n",
       "      <td>0.0</td>\n",
       "      <td>0.0</td>\n",
       "      <td>5.0</td>\n",
       "      <td>0.0</td>\n",
       "      <td>0.0</td>\n",
       "      <td>...</td>\n",
       "      <td>2.0</td>\n",
       "      <td>5.0</td>\n",
       "      <td>0.0</td>\n",
       "      <td>0.0</td>\n",
       "      <td>0.0</td>\n",
       "      <td>0.0</td>\n",
       "      <td>0.0</td>\n",
       "      <td>0.0</td>\n",
       "      <td>0.0</td>\n",
       "      <td>0.0</td>\n",
       "    </tr>\n",
       "    <tr>\n",
       "      <th>ee23054026</th>\n",
       "      <td>0.0</td>\n",
       "      <td>0.0</td>\n",
       "      <td>0.0</td>\n",
       "      <td>0.0</td>\n",
       "      <td>0.0</td>\n",
       "      <td>5.0</td>\n",
       "      <td>0.0</td>\n",
       "      <td>0.0</td>\n",
       "      <td>0.0</td>\n",
       "      <td>0.0</td>\n",
       "      <td>...</td>\n",
       "      <td>0.0</td>\n",
       "      <td>0.0</td>\n",
       "      <td>0.0</td>\n",
       "      <td>0.0</td>\n",
       "      <td>4.0</td>\n",
       "      <td>0.0</td>\n",
       "      <td>0.0</td>\n",
       "      <td>5.0</td>\n",
       "      <td>0.0</td>\n",
       "      <td>0.0</td>\n",
       "    </tr>\n",
       "    <tr>\n",
       "      <th>f2b2f8de3b</th>\n",
       "      <td>0.0</td>\n",
       "      <td>0.0</td>\n",
       "      <td>0.0</td>\n",
       "      <td>0.0</td>\n",
       "      <td>5.0</td>\n",
       "      <td>0.0</td>\n",
       "      <td>0.0</td>\n",
       "      <td>0.0</td>\n",
       "      <td>0.0</td>\n",
       "      <td>0.0</td>\n",
       "      <td>...</td>\n",
       "      <td>0.0</td>\n",
       "      <td>0.0</td>\n",
       "      <td>0.0</td>\n",
       "      <td>0.0</td>\n",
       "      <td>0.0</td>\n",
       "      <td>0.0</td>\n",
       "      <td>0.0</td>\n",
       "      <td>0.0</td>\n",
       "      <td>0.0</td>\n",
       "      <td>0.0</td>\n",
       "    </tr>\n",
       "  </tbody>\n",
       "</table>\n",
       "<p>38 rows × 207 columns</p>\n",
       "</div>"
      ],
      "text/plain": [
       "sku_ID      00804aa873  019dedb453  01c9d91829  027604c03a  067b673f2b  \\\n",
       "user_ID                                                                  \n",
       "14b5430f94         4.0         0.0         3.0         0.0         0.0   \n",
       "1935d21e59         0.0         0.0         0.0         0.0         5.0   \n",
       "1a75247e23         0.0         0.0         0.0         0.0         0.0   \n",
       "1e4bfd96e5         0.0         0.0         0.0         0.0         5.0   \n",
       "2be693ef24         0.0         0.0         0.0         0.0         5.0   \n",
       "2c43943968         0.0         0.0         0.0         0.0         0.0   \n",
       "2dacf67f01         0.0         0.0         3.0         0.0         0.0   \n",
       "3b029ac012         0.0         0.0         0.0         0.0         0.0   \n",
       "3b27615997         0.0         0.0         3.0         0.0         0.0   \n",
       "3bacdda9a4         0.0         0.0         0.0         0.0         0.0   \n",
       "42e3f9c6f1         0.0         0.0         0.0         0.0         0.0   \n",
       "436ce8a5eb         0.0         0.0         0.0         0.0         0.0   \n",
       "5ae805abb3         0.0         0.0         0.0         0.0         0.0   \n",
       "5c209f9405         0.0         0.0         0.0         0.0         0.0   \n",
       "67932b299d         0.0         0.0         0.0         0.0         0.0   \n",
       "6f6e75e6d4         0.0         0.0         3.0         0.0         0.0   \n",
       "8e5c946639         0.0         0.0         0.0         0.0         0.0   \n",
       "8ea5858820         0.0         0.0         0.0         0.0         0.0   \n",
       "93788aec3c         0.0         0.0         0.0         0.0         5.0   \n",
       "9766a74a13         0.0         4.0         0.0         0.0         0.0   \n",
       "9776f7422d         0.0         0.0         0.0         0.0         5.0   \n",
       "a309b4f150         0.0         0.0         0.0         0.0         5.0   \n",
       "aa6f8d33c2         0.0         0.0         3.0         0.0         0.0   \n",
       "b1f71012ca         0.0         0.0         0.0         0.0         0.0   \n",
       "b8e50e32fb         0.0         0.0         0.0         0.0         5.0   \n",
       "ba740db18f         0.0         0.0         0.0         0.0         0.0   \n",
       "bd2cea0899         0.0         0.0         0.0         0.0         5.0   \n",
       "c1c8327987         0.0         0.0         0.0         0.0         0.0   \n",
       "c6ca984336         0.0         0.0         0.0         0.0         0.0   \n",
       "c743c5d052         0.0         0.0         0.0         0.0         5.0   \n",
       "c75a7e2c67         0.0         0.0         3.0         5.0         5.0   \n",
       "dfa22a6eb8         0.0         0.0         0.0         0.0         0.0   \n",
       "e125466d95         0.0         0.0         0.0         0.0         0.0   \n",
       "e2448ab099         0.0         0.0         0.0         0.0         5.0   \n",
       "e7fc5bd4ae         0.0         0.0         0.0         0.0         0.0   \n",
       "ed292ef15b         0.0         0.0         0.0         0.0         5.0   \n",
       "ee23054026         0.0         0.0         0.0         0.0         0.0   \n",
       "f2b2f8de3b         0.0         0.0         0.0         0.0         5.0   \n",
       "\n",
       "sku_ID      068f4481b3  093f8b489e  0aa7e6b035  0b16a50488  0b2fd9f253  ...  \\\n",
       "user_ID                                                                 ...   \n",
       "14b5430f94         0.0         0.0         0.0         0.0         1.0  ...   \n",
       "1935d21e59         0.0         0.0         0.0         0.0         0.0  ...   \n",
       "1a75247e23         0.0         0.0         0.0         0.0         0.0  ...   \n",
       "1e4bfd96e5         0.0         0.0         0.0         0.0         0.0  ...   \n",
       "2be693ef24         0.0         0.0         0.0         2.0         1.0  ...   \n",
       "2c43943968         0.0         0.0         0.0         0.0         0.0  ...   \n",
       "2dacf67f01         5.0         0.0         0.0         0.0         0.0  ...   \n",
       "3b029ac012         5.0         0.0         0.0         0.0         0.0  ...   \n",
       "3b27615997         0.0         0.0         0.0         0.0         0.0  ...   \n",
       "3bacdda9a4         0.0         0.0         0.0         0.0         0.0  ...   \n",
       "42e3f9c6f1         0.0         0.0         0.0         0.0         0.0  ...   \n",
       "436ce8a5eb         5.0         0.0         0.0         2.0         0.0  ...   \n",
       "5ae805abb3         5.0         0.0         0.0         0.0         0.0  ...   \n",
       "5c209f9405         0.0         0.0         0.0         0.0         0.0  ...   \n",
       "67932b299d         0.0         0.0         0.0         0.0         0.0  ...   \n",
       "6f6e75e6d4         5.0         0.0         0.0         0.0         0.0  ...   \n",
       "8e5c946639         5.0         0.0         0.0         0.0         0.0  ...   \n",
       "8ea5858820         0.0         0.0         0.0         0.0         0.0  ...   \n",
       "93788aec3c         0.0         0.0         0.0         0.0         0.0  ...   \n",
       "9766a74a13         0.0         3.0         0.0         0.0         0.0  ...   \n",
       "9776f7422d         0.0         0.0         0.0         0.0         0.0  ...   \n",
       "a309b4f150         0.0         0.0         0.0         0.0         0.0  ...   \n",
       "aa6f8d33c2         5.0         0.0         0.0         2.0         1.0  ...   \n",
       "b1f71012ca         0.0         0.0         0.0         0.0         0.0  ...   \n",
       "b8e50e32fb         0.0         0.0         0.0         0.0         0.0  ...   \n",
       "ba740db18f         0.0         0.0         0.0         0.0         0.0  ...   \n",
       "bd2cea0899         5.0         0.0         0.0         0.0         0.0  ...   \n",
       "c1c8327987         5.0         0.0         0.0         0.0         0.0  ...   \n",
       "c6ca984336         5.0         0.0         0.0         0.0         0.0  ...   \n",
       "c743c5d052         0.0         0.0         0.0         0.0         0.0  ...   \n",
       "c75a7e2c67         5.0         0.0         0.0         0.0         0.0  ...   \n",
       "dfa22a6eb8         0.0         0.0         0.0         0.0         0.0  ...   \n",
       "e125466d95         0.0         0.0         0.0         0.0         0.0  ...   \n",
       "e2448ab099         5.0         0.0         0.0         0.0         0.0  ...   \n",
       "e7fc5bd4ae         0.0         0.0         0.0         0.0         0.0  ...   \n",
       "ed292ef15b         0.0         0.0         5.0         0.0         0.0  ...   \n",
       "ee23054026         5.0         0.0         0.0         0.0         0.0  ...   \n",
       "f2b2f8de3b         0.0         0.0         0.0         0.0         0.0  ...   \n",
       "\n",
       "sku_ID      f16794cf8a  f255daf3ab  f3bb37b4ff  f52ec33325  f5b527bb09  \\\n",
       "user_ID                                                                  \n",
       "14b5430f94         0.0         5.0         0.0         0.0         0.0   \n",
       "1935d21e59         0.0         0.0         3.0         0.0         0.0   \n",
       "1a75247e23         0.0         0.0         0.0         0.0         0.0   \n",
       "1e4bfd96e5         0.0         0.0         0.0         0.0         0.0   \n",
       "2be693ef24         0.0         0.0         0.0         0.0         0.0   \n",
       "2c43943968         0.0         0.0         0.0         0.0         0.0   \n",
       "2dacf67f01         0.0         0.0         0.0         0.0         4.0   \n",
       "3b029ac012         0.0         0.0         0.0         0.0         0.0   \n",
       "3b27615997         0.0         5.0         3.0         3.0         0.0   \n",
       "3bacdda9a4         0.0         0.0         3.0         0.0         0.0   \n",
       "42e3f9c6f1         0.0         0.0         0.0         0.0         0.0   \n",
       "436ce8a5eb         0.0         0.0         0.0         0.0         0.0   \n",
       "5ae805abb3         0.0         0.0         0.0         0.0         0.0   \n",
       "5c209f9405         0.0         0.0         3.0         0.0         0.0   \n",
       "67932b299d         0.0         0.0         0.0         0.0         0.0   \n",
       "6f6e75e6d4         0.0         0.0         0.0         0.0         0.0   \n",
       "8e5c946639         0.0         0.0         0.0         0.0         0.0   \n",
       "8ea5858820         0.0         0.0         0.0         0.0         0.0   \n",
       "93788aec3c         0.0         0.0         0.0         0.0         0.0   \n",
       "9766a74a13         0.0         0.0         0.0         0.0         0.0   \n",
       "9776f7422d         0.0         0.0         0.0         0.0         0.0   \n",
       "a309b4f150         0.0         0.0         3.0         0.0         0.0   \n",
       "aa6f8d33c2         0.0         0.0         0.0         0.0         0.0   \n",
       "b1f71012ca         0.0         0.0         0.0         0.0         0.0   \n",
       "b8e50e32fb         0.0         0.0         0.0         0.0         0.0   \n",
       "ba740db18f         0.0         0.0         0.0         0.0         0.0   \n",
       "bd2cea0899         0.0         0.0         0.0         0.0         4.0   \n",
       "c1c8327987         0.0         0.0         0.0         0.0         0.0   \n",
       "c6ca984336         0.0         0.0         0.0         0.0         0.0   \n",
       "c743c5d052         0.0         0.0         0.0         0.0         0.0   \n",
       "c75a7e2c67         0.0         0.0         0.0         0.0         0.0   \n",
       "dfa22a6eb8         0.0         0.0         0.0         0.0         0.0   \n",
       "e125466d95         0.0         0.0         0.0         0.0         0.0   \n",
       "e2448ab099         0.0         0.0         0.0         0.0         0.0   \n",
       "e7fc5bd4ae         0.0         0.0         0.0         0.0         0.0   \n",
       "ed292ef15b         2.0         5.0         0.0         0.0         0.0   \n",
       "ee23054026         0.0         0.0         0.0         0.0         4.0   \n",
       "f2b2f8de3b         0.0         0.0         0.0         0.0         0.0   \n",
       "\n",
       "sku_ID      fa0a1859ef  fb209ec29d  fbce41fd82  fc728c8ac1  fffe1bd280  \n",
       "user_ID                                                                 \n",
       "14b5430f94         0.0         0.0         0.0         0.0         0.0  \n",
       "1935d21e59         0.0         0.0         0.0         0.0         0.0  \n",
       "1a75247e23         0.0         0.0         0.0         0.0         0.0  \n",
       "1e4bfd96e5         0.0         0.0         0.0         0.0         0.0  \n",
       "2be693ef24         0.0         0.0         0.0         0.0         0.0  \n",
       "2c43943968         0.0         0.0         0.0         0.0         0.0  \n",
       "2dacf67f01         0.0         0.0         5.0         0.0         0.0  \n",
       "3b029ac012         0.0         0.0         5.0         0.0         0.0  \n",
       "3b27615997         0.0         0.0         0.0         4.0         0.0  \n",
       "3bacdda9a4         0.0         0.0         0.0         0.0         0.0  \n",
       "42e3f9c6f1         0.0         0.0         0.0         0.0         0.0  \n",
       "436ce8a5eb         0.0         0.0         0.0         0.0         0.0  \n",
       "5ae805abb3         0.0         0.0         0.0         0.0         0.0  \n",
       "5c209f9405         0.0         0.0         5.0         0.0         0.0  \n",
       "67932b299d         0.0         0.0         0.0         0.0         3.0  \n",
       "6f6e75e6d4         0.0         0.0         0.0         0.0         0.0  \n",
       "8e5c946639         0.0         0.0         0.0         0.0         0.0  \n",
       "8ea5858820         0.0         0.0         0.0         0.0         0.0  \n",
       "93788aec3c         0.0         0.0         0.0         0.0         0.0  \n",
       "9766a74a13         0.0         0.0         0.0         0.0         0.0  \n",
       "9776f7422d         0.0         0.0         0.0         0.0         0.0  \n",
       "a309b4f150         0.0         0.0         5.0         0.0         3.0  \n",
       "aa6f8d33c2         0.0         0.0         5.0         0.0         0.0  \n",
       "b1f71012ca         0.0         0.0         0.0         0.0         0.0  \n",
       "b8e50e32fb         0.0         0.0         0.0         0.0         0.0  \n",
       "ba740db18f         0.0         0.0         5.0         0.0         0.0  \n",
       "bd2cea0899         0.0         0.0         5.0         0.0         0.0  \n",
       "c1c8327987         0.0         0.0         0.0         0.0         0.0  \n",
       "c6ca984336         0.0         0.0         5.0         0.0         0.0  \n",
       "c743c5d052         0.0         0.0         0.0         0.0         0.0  \n",
       "c75a7e2c67         3.0         0.0         5.0         0.0         0.0  \n",
       "dfa22a6eb8         0.0         0.0         0.0         0.0         0.0  \n",
       "e125466d95         0.0         0.0         0.0         0.0         0.0  \n",
       "e2448ab099         0.0         2.0         5.0         0.0         0.0  \n",
       "e7fc5bd4ae         0.0         0.0         0.0         0.0         0.0  \n",
       "ed292ef15b         0.0         0.0         0.0         0.0         0.0  \n",
       "ee23054026         0.0         0.0         5.0         0.0         0.0  \n",
       "f2b2f8de3b         0.0         0.0         0.0         0.0         0.0  \n",
       "\n",
       "[38 rows x 207 columns]"
      ]
     },
     "execution_count": 323,
     "metadata": {},
     "output_type": "execute_result"
    }
   ],
   "source": [
    "user_item_interactions_matrix = filtered_df.pivot(index='user_ID', columns='sku_ID', values='rating').fillna(0)\n",
    "user_item_interactions_matrix"
   ]
  },
  {
   "cell_type": "code",
   "execution_count": 321,
   "id": "13c7eb12",
   "metadata": {},
   "outputs": [
    {
     "data": {
      "text/plain": [
       "[('7e4cb4952a', 0.3322997482448192),\n",
       " ('a1b0f57464', 0.32706940214389846),\n",
       " ('1b3f5d4d21', 0.31804734871195284),\n",
       " ('7f947c0055', 0.31616281484650305),\n",
       " ('38d636d2a6', 0.3008974727319783)]"
      ]
     },
     "execution_count": 321,
     "metadata": {},
     "output_type": "execute_result"
    }
   ],
   "source": [
    "#Top 5 recommendations for specific user_id with a similarity-based recommendation engine\n",
    "KNN_recommendations = get_recommendations(order_sku,'14b5430f94',5)\n",
    "KNN_recommendations"
   ]
  },
  {
   "cell_type": "markdown",
   "id": "0b92ace3",
   "metadata": {},
   "source": [
    "# Model 2: Similarity-Based Collaborative Filtering\n",
    "# Recommend products based on the similar products"
   ]
  },
  {
   "cell_type": "code",
   "execution_count": 269,
   "id": "55c0db8b",
   "metadata": {},
   "outputs": [
    {
     "data": {
      "text/html": [
       "<div>\n",
       "<style scoped>\n",
       "    .dataframe tbody tr th:only-of-type {\n",
       "        vertical-align: middle;\n",
       "    }\n",
       "\n",
       "    .dataframe tbody tr th {\n",
       "        vertical-align: top;\n",
       "    }\n",
       "\n",
       "    .dataframe thead th {\n",
       "        text-align: right;\n",
       "    }\n",
       "</style>\n",
       "<table border=\"1\" class=\"dataframe\">\n",
       "  <thead>\n",
       "    <tr style=\"text-align: right;\">\n",
       "      <th></th>\n",
       "      <th>Column</th>\n",
       "      <th>No of Unique Values</th>\n",
       "    </tr>\n",
       "  </thead>\n",
       "  <tbody>\n",
       "    <tr>\n",
       "      <th>0</th>\n",
       "      <td>user_ID</td>\n",
       "      <td>437247</td>\n",
       "    </tr>\n",
       "    <tr>\n",
       "      <th>1</th>\n",
       "      <td>sku_ID</td>\n",
       "      <td>8832</td>\n",
       "    </tr>\n",
       "    <tr>\n",
       "      <th>2</th>\n",
       "      <td>rating</td>\n",
       "      <td>6</td>\n",
       "    </tr>\n",
       "  </tbody>\n",
       "</table>\n",
       "</div>"
      ],
      "text/plain": [
       "    Column  No of Unique Values\n",
       "0  user_ID               437247\n",
       "1   sku_ID                 8832\n",
       "2   rating                    6"
      ]
     },
     "execution_count": 269,
     "metadata": {},
     "output_type": "execute_result"
    }
   ],
   "source": [
    "def unique_values(dataset):\n",
    "  \"\"\"\n",
    "  function : unique_values\n",
    "  description : this takes a dataset and return unique values of each and every column/feature.\n",
    "  return type : dataframe\n",
    "  \"\"\"\n",
    "\n",
    "  list_unique_valeus = [dataset[col].nunique() for col in dataset.columns]\n",
    "  list_cols = dataset.columns.tolist()\n",
    "  data = list(zip(list_cols,list_unique_valeus))\n",
    "  df = pd.DataFrame(data,columns = ['Column','No of Unique Values'])\n",
    "  return df\n",
    "unique_values(order_sku)"
   ]
  },
  {
   "cell_type": "code",
   "execution_count": 270,
   "id": "36eec1cf",
   "metadata": {},
   "outputs": [
    {
     "data": {
      "text/plain": [
       "0         False\n",
       "1         False\n",
       "2         False\n",
       "3         False\n",
       "4         False\n",
       "          ...  \n",
       "508903    False\n",
       "508904    False\n",
       "508905    False\n",
       "508906    False\n",
       "508907    False\n",
       "Name: user_ID, Length: 508908, dtype: bool"
      ]
     },
     "execution_count": 270,
     "metadata": {},
     "output_type": "execute_result"
    },
    {
     "data": {
      "text/plain": [
       "(505623, 3)"
      ]
     },
     "execution_count": 270,
     "metadata": {},
     "output_type": "execute_result"
    }
   ],
   "source": [
    "x = order_sku.groupby('user_ID').count()['rating'] > 5\n",
    "order_sku['user_ID'].isin(x[x].index)\n",
    "\n",
    "order_sku = order_sku[order_sku['rating']!=0] \n",
    "order_sku.shape"
   ]
  },
  {
   "cell_type": "code",
   "execution_count": 271,
   "id": "6685bf53",
   "metadata": {},
   "outputs": [
    {
     "data": {
      "text/plain": [
       "(538, 3)"
      ]
     },
     "execution_count": 271,
     "metadata": {},
     "output_type": "execute_result"
    },
    {
     "name": "stdout",
     "output_type": "stream",
     "text": [
      "          user_ID      sku_ID  rating\n",
      "40865  14b5430f94  00804aa873     4.0\n",
      "40866  14b5430f94  01c9d91829     3.0\n",
      "40867  14b5430f94  0b2fd9f253     1.0\n",
      "40868  14b5430f94  26e590cf39     4.0\n",
      "40869  14b5430f94  2e06817802     5.0\n"
     ]
    },
    {
     "data": {
      "text/html": [
       "<div>\n",
       "<style scoped>\n",
       "    .dataframe tbody tr th:only-of-type {\n",
       "        vertical-align: middle;\n",
       "    }\n",
       "\n",
       "    .dataframe tbody tr th {\n",
       "        vertical-align: top;\n",
       "    }\n",
       "\n",
       "    .dataframe thead th {\n",
       "        text-align: right;\n",
       "    }\n",
       "</style>\n",
       "<table border=\"1\" class=\"dataframe\">\n",
       "  <thead>\n",
       "    <tr style=\"text-align: right;\">\n",
       "      <th>user_ID</th>\n",
       "      <th>14b5430f94</th>\n",
       "      <th>1a75247e23</th>\n",
       "      <th>2c43943968</th>\n",
       "      <th>3b029ac012</th>\n",
       "      <th>3b27615997</th>\n",
       "      <th>42e3f9c6f1</th>\n",
       "      <th>436ce8a5eb</th>\n",
       "      <th>5ae805abb3</th>\n",
       "      <th>67932b299d</th>\n",
       "      <th>6f6e75e6d4</th>\n",
       "      <th>8e5c946639</th>\n",
       "      <th>a309b4f150</th>\n",
       "      <th>aa6f8d33c2</th>\n",
       "      <th>b8e50e32fb</th>\n",
       "      <th>ba740db18f</th>\n",
       "      <th>bd2cea0899</th>\n",
       "      <th>c75a7e2c67</th>\n",
       "      <th>dfa22a6eb8</th>\n",
       "      <th>e2448ab099</th>\n",
       "      <th>ed292ef15b</th>\n",
       "    </tr>\n",
       "    <tr>\n",
       "      <th>sku_ID</th>\n",
       "      <th></th>\n",
       "      <th></th>\n",
       "      <th></th>\n",
       "      <th></th>\n",
       "      <th></th>\n",
       "      <th></th>\n",
       "      <th></th>\n",
       "      <th></th>\n",
       "      <th></th>\n",
       "      <th></th>\n",
       "      <th></th>\n",
       "      <th></th>\n",
       "      <th></th>\n",
       "      <th></th>\n",
       "      <th></th>\n",
       "      <th></th>\n",
       "      <th></th>\n",
       "      <th></th>\n",
       "      <th></th>\n",
       "      <th></th>\n",
       "    </tr>\n",
       "  </thead>\n",
       "  <tbody>\n",
       "    <tr>\n",
       "      <th>00804aa873</th>\n",
       "      <td>4.0</td>\n",
       "      <td>0.0</td>\n",
       "      <td>0.0</td>\n",
       "      <td>0.0</td>\n",
       "      <td>0.0</td>\n",
       "      <td>0.0</td>\n",
       "      <td>0.0</td>\n",
       "      <td>0.0</td>\n",
       "      <td>0.0</td>\n",
       "      <td>0.0</td>\n",
       "      <td>0.0</td>\n",
       "      <td>0.0</td>\n",
       "      <td>0.0</td>\n",
       "      <td>0.0</td>\n",
       "      <td>0.0</td>\n",
       "      <td>0.0</td>\n",
       "      <td>0.0</td>\n",
       "      <td>0.0</td>\n",
       "      <td>0.0</td>\n",
       "      <td>0.0</td>\n",
       "    </tr>\n",
       "    <tr>\n",
       "      <th>01c9d91829</th>\n",
       "      <td>3.0</td>\n",
       "      <td>0.0</td>\n",
       "      <td>0.0</td>\n",
       "      <td>0.0</td>\n",
       "      <td>3.0</td>\n",
       "      <td>0.0</td>\n",
       "      <td>0.0</td>\n",
       "      <td>0.0</td>\n",
       "      <td>0.0</td>\n",
       "      <td>3.0</td>\n",
       "      <td>0.0</td>\n",
       "      <td>0.0</td>\n",
       "      <td>3.0</td>\n",
       "      <td>0.0</td>\n",
       "      <td>0.0</td>\n",
       "      <td>0.0</td>\n",
       "      <td>3.0</td>\n",
       "      <td>0.0</td>\n",
       "      <td>0.0</td>\n",
       "      <td>0.0</td>\n",
       "    </tr>\n",
       "    <tr>\n",
       "      <th>027604c03a</th>\n",
       "      <td>0.0</td>\n",
       "      <td>0.0</td>\n",
       "      <td>0.0</td>\n",
       "      <td>0.0</td>\n",
       "      <td>0.0</td>\n",
       "      <td>0.0</td>\n",
       "      <td>0.0</td>\n",
       "      <td>0.0</td>\n",
       "      <td>0.0</td>\n",
       "      <td>0.0</td>\n",
       "      <td>0.0</td>\n",
       "      <td>0.0</td>\n",
       "      <td>0.0</td>\n",
       "      <td>0.0</td>\n",
       "      <td>0.0</td>\n",
       "      <td>0.0</td>\n",
       "      <td>5.0</td>\n",
       "      <td>0.0</td>\n",
       "      <td>0.0</td>\n",
       "      <td>0.0</td>\n",
       "    </tr>\n",
       "    <tr>\n",
       "      <th>067b673f2b</th>\n",
       "      <td>0.0</td>\n",
       "      <td>0.0</td>\n",
       "      <td>0.0</td>\n",
       "      <td>0.0</td>\n",
       "      <td>0.0</td>\n",
       "      <td>0.0</td>\n",
       "      <td>0.0</td>\n",
       "      <td>0.0</td>\n",
       "      <td>0.0</td>\n",
       "      <td>0.0</td>\n",
       "      <td>0.0</td>\n",
       "      <td>5.0</td>\n",
       "      <td>0.0</td>\n",
       "      <td>5.0</td>\n",
       "      <td>0.0</td>\n",
       "      <td>5.0</td>\n",
       "      <td>5.0</td>\n",
       "      <td>0.0</td>\n",
       "      <td>5.0</td>\n",
       "      <td>5.0</td>\n",
       "    </tr>\n",
       "    <tr>\n",
       "      <th>068f4481b3</th>\n",
       "      <td>0.0</td>\n",
       "      <td>0.0</td>\n",
       "      <td>0.0</td>\n",
       "      <td>5.0</td>\n",
       "      <td>0.0</td>\n",
       "      <td>0.0</td>\n",
       "      <td>5.0</td>\n",
       "      <td>5.0</td>\n",
       "      <td>0.0</td>\n",
       "      <td>5.0</td>\n",
       "      <td>5.0</td>\n",
       "      <td>0.0</td>\n",
       "      <td>5.0</td>\n",
       "      <td>0.0</td>\n",
       "      <td>0.0</td>\n",
       "      <td>5.0</td>\n",
       "      <td>5.0</td>\n",
       "      <td>0.0</td>\n",
       "      <td>5.0</td>\n",
       "      <td>0.0</td>\n",
       "    </tr>\n",
       "    <tr>\n",
       "      <th>...</th>\n",
       "      <td>...</td>\n",
       "      <td>...</td>\n",
       "      <td>...</td>\n",
       "      <td>...</td>\n",
       "      <td>...</td>\n",
       "      <td>...</td>\n",
       "      <td>...</td>\n",
       "      <td>...</td>\n",
       "      <td>...</td>\n",
       "      <td>...</td>\n",
       "      <td>...</td>\n",
       "      <td>...</td>\n",
       "      <td>...</td>\n",
       "      <td>...</td>\n",
       "      <td>...</td>\n",
       "      <td>...</td>\n",
       "      <td>...</td>\n",
       "      <td>...</td>\n",
       "      <td>...</td>\n",
       "      <td>...</td>\n",
       "    </tr>\n",
       "    <tr>\n",
       "      <th>fa0a1859ef</th>\n",
       "      <td>0.0</td>\n",
       "      <td>0.0</td>\n",
       "      <td>0.0</td>\n",
       "      <td>0.0</td>\n",
       "      <td>0.0</td>\n",
       "      <td>0.0</td>\n",
       "      <td>0.0</td>\n",
       "      <td>0.0</td>\n",
       "      <td>0.0</td>\n",
       "      <td>0.0</td>\n",
       "      <td>0.0</td>\n",
       "      <td>0.0</td>\n",
       "      <td>0.0</td>\n",
       "      <td>0.0</td>\n",
       "      <td>0.0</td>\n",
       "      <td>0.0</td>\n",
       "      <td>3.0</td>\n",
       "      <td>0.0</td>\n",
       "      <td>0.0</td>\n",
       "      <td>0.0</td>\n",
       "    </tr>\n",
       "    <tr>\n",
       "      <th>fb209ec29d</th>\n",
       "      <td>0.0</td>\n",
       "      <td>0.0</td>\n",
       "      <td>0.0</td>\n",
       "      <td>0.0</td>\n",
       "      <td>0.0</td>\n",
       "      <td>0.0</td>\n",
       "      <td>0.0</td>\n",
       "      <td>0.0</td>\n",
       "      <td>0.0</td>\n",
       "      <td>0.0</td>\n",
       "      <td>0.0</td>\n",
       "      <td>0.0</td>\n",
       "      <td>0.0</td>\n",
       "      <td>0.0</td>\n",
       "      <td>0.0</td>\n",
       "      <td>0.0</td>\n",
       "      <td>0.0</td>\n",
       "      <td>0.0</td>\n",
       "      <td>2.0</td>\n",
       "      <td>0.0</td>\n",
       "    </tr>\n",
       "    <tr>\n",
       "      <th>fbce41fd82</th>\n",
       "      <td>0.0</td>\n",
       "      <td>0.0</td>\n",
       "      <td>0.0</td>\n",
       "      <td>5.0</td>\n",
       "      <td>0.0</td>\n",
       "      <td>0.0</td>\n",
       "      <td>0.0</td>\n",
       "      <td>0.0</td>\n",
       "      <td>0.0</td>\n",
       "      <td>0.0</td>\n",
       "      <td>0.0</td>\n",
       "      <td>5.0</td>\n",
       "      <td>5.0</td>\n",
       "      <td>0.0</td>\n",
       "      <td>5.0</td>\n",
       "      <td>5.0</td>\n",
       "      <td>5.0</td>\n",
       "      <td>0.0</td>\n",
       "      <td>5.0</td>\n",
       "      <td>0.0</td>\n",
       "    </tr>\n",
       "    <tr>\n",
       "      <th>fc728c8ac1</th>\n",
       "      <td>0.0</td>\n",
       "      <td>0.0</td>\n",
       "      <td>0.0</td>\n",
       "      <td>0.0</td>\n",
       "      <td>4.0</td>\n",
       "      <td>0.0</td>\n",
       "      <td>0.0</td>\n",
       "      <td>0.0</td>\n",
       "      <td>0.0</td>\n",
       "      <td>0.0</td>\n",
       "      <td>0.0</td>\n",
       "      <td>0.0</td>\n",
       "      <td>0.0</td>\n",
       "      <td>0.0</td>\n",
       "      <td>0.0</td>\n",
       "      <td>0.0</td>\n",
       "      <td>0.0</td>\n",
       "      <td>0.0</td>\n",
       "      <td>0.0</td>\n",
       "      <td>0.0</td>\n",
       "    </tr>\n",
       "    <tr>\n",
       "      <th>fffe1bd280</th>\n",
       "      <td>0.0</td>\n",
       "      <td>0.0</td>\n",
       "      <td>0.0</td>\n",
       "      <td>0.0</td>\n",
       "      <td>0.0</td>\n",
       "      <td>0.0</td>\n",
       "      <td>0.0</td>\n",
       "      <td>0.0</td>\n",
       "      <td>3.0</td>\n",
       "      <td>0.0</td>\n",
       "      <td>0.0</td>\n",
       "      <td>3.0</td>\n",
       "      <td>0.0</td>\n",
       "      <td>0.0</td>\n",
       "      <td>0.0</td>\n",
       "      <td>0.0</td>\n",
       "      <td>0.0</td>\n",
       "      <td>0.0</td>\n",
       "      <td>0.0</td>\n",
       "      <td>0.0</td>\n",
       "    </tr>\n",
       "  </tbody>\n",
       "</table>\n",
       "<p>177 rows × 20 columns</p>\n",
       "</div>"
      ],
      "text/plain": [
       "user_ID     14b5430f94  1a75247e23  2c43943968  3b029ac012  3b27615997  \\\n",
       "sku_ID                                                                   \n",
       "00804aa873         4.0         0.0         0.0         0.0         0.0   \n",
       "01c9d91829         3.0         0.0         0.0         0.0         3.0   \n",
       "027604c03a         0.0         0.0         0.0         0.0         0.0   \n",
       "067b673f2b         0.0         0.0         0.0         0.0         0.0   \n",
       "068f4481b3         0.0         0.0         0.0         5.0         0.0   \n",
       "...                ...         ...         ...         ...         ...   \n",
       "fa0a1859ef         0.0         0.0         0.0         0.0         0.0   \n",
       "fb209ec29d         0.0         0.0         0.0         0.0         0.0   \n",
       "fbce41fd82         0.0         0.0         0.0         5.0         0.0   \n",
       "fc728c8ac1         0.0         0.0         0.0         0.0         4.0   \n",
       "fffe1bd280         0.0         0.0         0.0         0.0         0.0   \n",
       "\n",
       "user_ID     42e3f9c6f1  436ce8a5eb  5ae805abb3  67932b299d  6f6e75e6d4  \\\n",
       "sku_ID                                                                   \n",
       "00804aa873         0.0         0.0         0.0         0.0         0.0   \n",
       "01c9d91829         0.0         0.0         0.0         0.0         3.0   \n",
       "027604c03a         0.0         0.0         0.0         0.0         0.0   \n",
       "067b673f2b         0.0         0.0         0.0         0.0         0.0   \n",
       "068f4481b3         0.0         5.0         5.0         0.0         5.0   \n",
       "...                ...         ...         ...         ...         ...   \n",
       "fa0a1859ef         0.0         0.0         0.0         0.0         0.0   \n",
       "fb209ec29d         0.0         0.0         0.0         0.0         0.0   \n",
       "fbce41fd82         0.0         0.0         0.0         0.0         0.0   \n",
       "fc728c8ac1         0.0         0.0         0.0         0.0         0.0   \n",
       "fffe1bd280         0.0         0.0         0.0         3.0         0.0   \n",
       "\n",
       "user_ID     8e5c946639  a309b4f150  aa6f8d33c2  b8e50e32fb  ba740db18f  \\\n",
       "sku_ID                                                                   \n",
       "00804aa873         0.0         0.0         0.0         0.0         0.0   \n",
       "01c9d91829         0.0         0.0         3.0         0.0         0.0   \n",
       "027604c03a         0.0         0.0         0.0         0.0         0.0   \n",
       "067b673f2b         0.0         5.0         0.0         5.0         0.0   \n",
       "068f4481b3         5.0         0.0         5.0         0.0         0.0   \n",
       "...                ...         ...         ...         ...         ...   \n",
       "fa0a1859ef         0.0         0.0         0.0         0.0         0.0   \n",
       "fb209ec29d         0.0         0.0         0.0         0.0         0.0   \n",
       "fbce41fd82         0.0         5.0         5.0         0.0         5.0   \n",
       "fc728c8ac1         0.0         0.0         0.0         0.0         0.0   \n",
       "fffe1bd280         0.0         3.0         0.0         0.0         0.0   \n",
       "\n",
       "user_ID     bd2cea0899  c75a7e2c67  dfa22a6eb8  e2448ab099  ed292ef15b  \n",
       "sku_ID                                                                  \n",
       "00804aa873         0.0         0.0         0.0         0.0         0.0  \n",
       "01c9d91829         0.0         3.0         0.0         0.0         0.0  \n",
       "027604c03a         0.0         5.0         0.0         0.0         0.0  \n",
       "067b673f2b         5.0         5.0         0.0         5.0         5.0  \n",
       "068f4481b3         5.0         5.0         0.0         5.0         0.0  \n",
       "...                ...         ...         ...         ...         ...  \n",
       "fa0a1859ef         0.0         3.0         0.0         0.0         0.0  \n",
       "fb209ec29d         0.0         0.0         0.0         2.0         0.0  \n",
       "fbce41fd82         5.0         5.0         0.0         5.0         0.0  \n",
       "fc728c8ac1         0.0         0.0         0.0         0.0         0.0  \n",
       "fffe1bd280         0.0         0.0         0.0         0.0         0.0  \n",
       "\n",
       "[177 rows x 20 columns]"
      ]
     },
     "execution_count": 271,
     "metadata": {},
     "output_type": "execute_result"
    }
   ],
   "source": [
    "# Applying constraint on user id using it's count \n",
    "x = order_sku.groupby('user_ID').count()['rating'] > 15\n",
    "filtered_df = order_sku[order_sku['user_ID'].isin(x[x].index)]\n",
    "\n",
    "# Applying constraint on number of rartings\n",
    "y = order_sku.groupby('sku_ID').count()['rating'] > 15\n",
    "filtered_df = filtered_df[filtered_df['sku_ID'].isin(y[y].index)]\n",
    "filtered_df.shape \n",
    "print(filtered_df.head())\n",
    "\n",
    "# From a user item matrix with values as ratings\n",
    "\n",
    "pt = filtered_df.pivot_table(index='sku_ID',columns='user_ID',values='rating').fillna(0) # filling nan with 0\n",
    "pt"
   ]
  },
  {
   "cell_type": "code",
   "execution_count": 272,
   "id": "bf096540",
   "metadata": {},
   "outputs": [
    {
     "data": {
      "text/plain": [
       "(177, 177)"
      ]
     },
     "execution_count": 272,
     "metadata": {},
     "output_type": "execute_result"
    },
    {
     "name": "stdout",
     "output_type": "stream",
     "text": [
      "Index : 0 value 1\n",
      "Index : 1 value 2\n",
      "Index : 2 value 3\n"
     ]
    }
   ],
   "source": [
    "# Create an object of cosine similarity\n",
    "from sklearn.metrics.pairwise import cosine_similarity\n",
    "similarity_scores = cosine_similarity(pt)\n",
    "similarity_scores.shape\n",
    "\n",
    "for i,j in enumerate([1,2,3]):\n",
    "  print(f\"Index : {i} value {j}\")"
   ]
  },
  {
   "cell_type": "code",
   "execution_count": 273,
   "id": "31711644",
   "metadata": {},
   "outputs": [],
   "source": [
    "\n",
    "def recommend_product(sku_ID):\n",
    "  \"\"\"\n",
    "  Description: It takes a product ID and return data frame with similarity score \n",
    "  Function: recommend_product\n",
    "  Return type : dataframe\n",
    "  \"\"\"\n",
    "  index = np.where(pt.index == sku_ID)[0][0] \n",
    "  similar_products = sorted(list(enumerate(similarity_scores[index])), key = lambda x:x[1], reverse = True)[1:6] \n",
    "  # creating the list tuple of index with respect to similarity score\n",
    "  \n",
    "  # print(similar_products)\n",
    "  \n",
    "  print(\"\\n----------------Recommended products-----------------\\n\")\n",
    "  for i in similar_products:\n",
    "    print(pt.index[i[0]]) \n",
    "  print(\"\\n.....................................................\\n\")  \n",
    "  return find_similarity_score(similar_products,pt)  \n",
    "     "
   ]
  },
  {
   "cell_type": "code",
   "execution_count": 275,
   "id": "d3e64ce3",
   "metadata": {},
   "outputs": [],
   "source": [
    "def find_similarity_score(similarity_scores,pivot_table):\n",
    "\n",
    "  \"\"\"\n",
    "  Description: It takes similarity_Score and pivot table and return dataframe.\n",
    "  function : find_similarity_Score\n",
    "  Output : dataframe\n",
    "  Argument  similarity_score and pivot table\n",
    "  \"\"\"\n",
    "  list_product = []\n",
    "  list_sim = []\n",
    "  for i in similarity_scores:\n",
    "    index_ = i[0]\n",
    "    sim_ = i[1]\n",
    "    list_sim.append(sim_)\n",
    "    # list_book.append(pivot_table[pivot_table.index == index_]['Prodcut-ID'][index_])\n",
    "    list_product.append(pivot_table.iloc[index_,:].name)\n",
    "    \n",
    "    df = pd.DataFrame(list(zip(list_product, list_sim)),\n",
    "               columns =['Product', 'Similarity'])\n",
    "  # df =pd.DataFrame([list_product, list_sim], columns = [\"Product\",'Similarity_Score'])\n",
    "  return df"
   ]
  },
  {
   "cell_type": "code",
   "execution_count": 276,
   "id": "703c2946",
   "metadata": {},
   "outputs": [
    {
     "name": "stdout",
     "output_type": "stream",
     "text": [
      "\n",
      "----------------Recommended products-----------------\n",
      "\n",
      "427bea8ec7\n",
      "2e06817802\n",
      "f06e13a877\n",
      "3c79df1d80\n",
      "0b2fd9f253\n",
      "\n",
      ".....................................................\n",
      "\n"
     ]
    },
    {
     "data": {
      "text/html": [
       "<div>\n",
       "<style scoped>\n",
       "    .dataframe tbody tr th:only-of-type {\n",
       "        vertical-align: middle;\n",
       "    }\n",
       "\n",
       "    .dataframe tbody tr th {\n",
       "        vertical-align: top;\n",
       "    }\n",
       "\n",
       "    .dataframe thead th {\n",
       "        text-align: right;\n",
       "    }\n",
       "</style>\n",
       "<table border=\"1\" class=\"dataframe\">\n",
       "  <thead>\n",
       "    <tr style=\"text-align: right;\">\n",
       "      <th></th>\n",
       "      <th>Product</th>\n",
       "      <th>Similarity</th>\n",
       "    </tr>\n",
       "  </thead>\n",
       "  <tbody>\n",
       "    <tr>\n",
       "      <th>0</th>\n",
       "      <td>427bea8ec7</td>\n",
       "      <td>0.774597</td>\n",
       "    </tr>\n",
       "    <tr>\n",
       "      <th>1</th>\n",
       "      <td>2e06817802</td>\n",
       "      <td>0.676123</td>\n",
       "    </tr>\n",
       "    <tr>\n",
       "      <th>2</th>\n",
       "      <td>f06e13a877</td>\n",
       "      <td>0.670820</td>\n",
       "    </tr>\n",
       "    <tr>\n",
       "      <th>3</th>\n",
       "      <td>3c79df1d80</td>\n",
       "      <td>0.645497</td>\n",
       "    </tr>\n",
       "    <tr>\n",
       "      <th>4</th>\n",
       "      <td>0b2fd9f253</td>\n",
       "      <td>0.632456</td>\n",
       "    </tr>\n",
       "  </tbody>\n",
       "</table>\n",
       "</div>"
      ],
      "text/plain": [
       "      Product  Similarity\n",
       "0  427bea8ec7    0.774597\n",
       "1  2e06817802    0.676123\n",
       "2  f06e13a877    0.670820\n",
       "3  3c79df1d80    0.645497\n",
       "4  0b2fd9f253    0.632456"
      ]
     },
     "execution_count": 276,
     "metadata": {},
     "output_type": "execute_result"
    }
   ],
   "source": [
    "recommend_product('01c9d91829')"
   ]
  }
 ],
 "metadata": {
  "kernelspec": {
   "display_name": "Python 3 (ipykernel)",
   "language": "python",
   "name": "python3"
  },
  "language_info": {
   "codemirror_mode": {
    "name": "ipython",
    "version": 3
   },
   "file_extension": ".py",
   "mimetype": "text/x-python",
   "name": "python",
   "nbconvert_exporter": "python",
   "pygments_lexer": "ipython3",
   "version": "3.9.12"
  }
 },
 "nbformat": 4,
 "nbformat_minor": 5
}
